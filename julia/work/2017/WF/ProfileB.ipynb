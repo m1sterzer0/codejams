{
 "cells": [
  {
   "cell_type": "code",
   "execution_count": 4,
   "metadata": {},
   "outputs": [
    {
     "data": {
      "text/plain": [
       "main (generic function with 2 methods)"
      ]
     },
     "execution_count": 4,
     "metadata": {},
     "output_type": "execute_result"
    }
   ],
   "source": [
    "using Printf\n",
    "\n",
    "######################################################################################################\n",
    "### a) The trick here is to turn 15! orderings to 2^15 subsets and use dynamic programing.\n",
    "### b) The observation is that if I have a set of prefix operations plus one \"last\" operation,\n",
    "###    --- The maximum value is related to either the maximum or the minimum possible value of the\n",
    "###        prefix operations.\n",
    "### c) This leads to a rather naiive dyanmic programming solution\n",
    "######################################################################################################\n",
    "\n",
    "function tadd(a::Tuple{BigInt,BigInt},b::Int64)\n",
    "    return (a[1]+b*a[2],a[2])\n",
    "end\n",
    "\n",
    "function tsub(a::Tuple{BigInt,BigInt},b::Int64)\n",
    "    return (a[1]-b*a[2],a[2])\n",
    "end\n",
    "\n",
    "function tmul(a::Tuple{BigInt,BigInt},b::Int64)\n",
    "    return (a[1]*b,a[2])\n",
    "end\n",
    "\n",
    "function tdiv(a::Tuple{BigInt,BigInt},b::Int64)\n",
    "    return b < 0 ? (-a[1],a[2]*(-b)) : (a[1],a[2]*b)\n",
    "end\n",
    "\n",
    "function tgt(a::Tuple{BigInt,BigInt},b::Tuple{BigInt,BigInt})\n",
    "    return b[2]*a[1] > a[2]*b[1]\n",
    "end\n",
    "\n",
    "function tlt(a::Tuple{BigInt,BigInt},b::Tuple{BigInt,BigInt})\n",
    "    return b[2]*a[1] < a[2]*b[1]\n",
    "end\n",
    "\n",
    "\n",
    "function main(infn=\"\")\n",
    "    infile = (infn != \"\") ? open(infn,\"r\") : length(ARGS) > 0 ? open(ARGS[1],\"r\") : stdin\n",
    "    tt = parse(Int64,readline(infile))\n",
    "    for qq in 1:tt\n",
    "        print(\"Case #$qq: \")\n",
    "        S,C = [parse(Int64,x) for x in split(rstrip(readline(infile)))]\n",
    "        ops = Vector{Tuple{Char,Int64}}()\n",
    "        for i in 1:C\n",
    "            aa = split(rstrip(readline(infile)))\n",
    "            op = aa[1][1]\n",
    "            val = parse(Int64,aa[2])\n",
    "            push!(ops,(op,val))\n",
    "        end\n",
    "\n",
    "        minvals = resize!(Vector{Tuple{BigInt,BigInt}}(),2^C)\n",
    "        maxvals = resize!(Vector{Tuple{BigInt,BigInt}}(),2^C)\n",
    "        minvals[1] = maxvals[1] = (BigInt(S),BigInt(1))\n",
    "        #print(\"\\n\")\n",
    "        for i in 2:2^C\n",
    "            first = true\n",
    "            bitmask = i-1\n",
    "            for j in 1:C\n",
    "                bm = 1 << (j-1)\n",
    "                if bitmask & bm == 0; continue; end\n",
    "                residual = bitmask & ~bm + 1\n",
    "                v1,v2 = (BigInt(0),BigInt(1)),(BigInt(0),BigInt(1))\n",
    "                if ops[j][1] == '+'\n",
    "                    v1 = tadd(maxvals[residual],ops[j][2])\n",
    "                    v2 = tadd(minvals[residual],ops[j][2])\n",
    "                elseif ops[j][1] == '-'\n",
    "                    v1 = tsub(maxvals[residual],ops[j][2])\n",
    "                    v2 = tsub(minvals[residual],ops[j][2])\n",
    "                elseif ops[j][1] == '*'\n",
    "                    v1 = tmul(maxvals[residual],ops[j][2])\n",
    "                    v2 = tmul(minvals[residual],ops[j][2])\n",
    "                else ops[j][1] == '/'\n",
    "                    v1 = tdiv(maxvals[residual],ops[j][2])\n",
    "                    v2 = tdiv(minvals[residual],ops[j][2])\n",
    "                end\n",
    "                (maxv,minv) = tgt(v1,v2) ? (v1,v2) : (v2,v1)\n",
    "                if first\n",
    "                    maxvals[i] = maxv\n",
    "                    minvals[i] = minv\n",
    "                    first = false\n",
    "                else\n",
    "                    maxvals[i] = tgt(maxvals[i],maxv) ? maxvals[i] : maxv\n",
    "                    minvals[i] = tlt(minvals[i],minv) ? minvals[i] : minv\n",
    "                end\n",
    "                #print(\"DEBUG: $i $bitmask $bm $(j-1) $(ops[j][1]) $(ops[j][2]) v1:($v1) v2:($v2) maxvals[i]:($(maxvals[i])) minvals[i]:($(minvals[i]))\\n\")\n",
    "\n",
    "            end\n",
    "        end\n",
    "        ans = maxvals[2^C][1]//maxvals[2^C][2]\n",
    "        print(\"$(numerator(ans)) $(denominator(ans))\\n\")\n",
    "    end\n",
    "end"
   ]
  },
  {
   "cell_type": "code",
   "execution_count": 5,
   "metadata": {},
   "outputs": [
    {
     "name": "stdout",
     "output_type": "stream",
     "text": [
      "Case #1: -1 1\n",
      "Case #2: -3 2\n",
      "Case #3: 1000000000000000000000000 1\n",
      "Case #4: 1 1\n",
      "Case #5: 0 1\n",
      "Case #1: 11448987486508929377154082067 1772559360\n",
      "Case #2: 11898395950988571833056996 8310165861\n",
      "Case #3: 184449631085236764648 274369375\n",
      "Case #4: 25784062282936176315525 27473\n",
      "Case #5: 507780237323376589 586845\n",
      "Case #6: 1774352031395198601229 109900900\n",
      "Case #7: 1752637497177600 131\n",
      "Case #8: 564151155642157256045599 2804904062982000\n",
      "Case #9: 65723549772324959647745485320 4449747259\n",
      "Case #10: 33729205513564951520 737429\n"
     ]
    },
    {
     "data": {
      "application/vnd.vegalite.v4+json": {
       "data": {
        "values": [
         {
          "level": 0,
          "sf": "ip:0x0",
          "status": "Garbage collection",
          "x1": 1,
          "x2": 16357.9
         },
         {
          "level": 1,
          "sf": "(::IJulia.var\"#15#18\")() at task.jl:358",
          "status": "Default",
          "x1": 16,
          "x2": 15877.9
         },
         {
          "level": 2,
          "sf": "eventloop(::ZMQ.Socket) at eventloop.jl:8",
          "status": "Default",
          "x1": 16,
          "x2": 15877.9
         },
         {
          "level": 3,
          "sf": "invokelatest at essentials.jl:711 [inlined]",
          "status": "Default",
          "x1": 16,
          "x2": 15877.9
         },
         {
          "level": 4,
          "sf": "#invokelatest#1 at essentials.jl:712 [inlined]",
          "status": "Runtime dispatch",
          "x1": 16,
          "x2": 15877.9
         },
         {
          "level": 5,
          "sf": "execute_request(::ZMQ.Socket, ::IJulia.Msg) at execute_request.jl:67",
          "status": "Runtime dispatch",
          "x1": 16,
          "x2": 15877.9
         },
         {
          "level": 6,
          "sf": "softscope_include_string(::Module, ::String, ::String) at SoftGlobalScope.jl:218",
          "status": "Default",
          "x1": 16,
          "x2": 15877.9
         },
         {
          "level": 7,
          "sf": "eval at boot.jl:331 [inlined]",
          "status": "Garbage collection",
          "x1": 16,
          "x2": 15877.9
         },
         {
          "level": 8,
          "sf": "main(::String) at In[4]:0",
          "status": "Default",
          "x1": 16,
          "x2": 20.9
         },
         {
          "level": 8,
          "sf": "main(::String) at In[4]:39",
          "status": "Default",
          "x1": 21,
          "x2": 23.9
         },
         {
          "level": 9,
          "sf": "iterate at range.jl:593 [inlined]",
          "status": "Garbage collection",
          "x1": 21,
          "x2": 23.9
         },
         {
          "level": 8,
          "sf": "main(::String) at In[4]:41",
          "status": "Runtime dispatch",
          "x1": 24,
          "x2": 24.9
         },
         {
          "level": 9,
          "sf": "split(::SubString{String}) at util.jl:351",
          "status": "Default",
          "x1": 24,
          "x2": 24.9
         },
         {
          "level": 10,
          "sf": "#split#329 at util.jl:351 [inlined]",
          "status": "Default",
          "x1": 24,
          "x2": 24.9
         },
         {
          "level": 11,
          "sf": "split at util.jl:313 [inlined]",
          "status": "Default",
          "x1": 24,
          "x2": 24.9
         },
         {
          "level": 12,
          "sf": "#split#326 at util.jl:313 [inlined]",
          "status": "Default",
          "x1": 24,
          "x2": 24.9
         },
         {
          "level": 13,
          "sf": "_split(::SubString{String}, ::Function, ::Int64, ::Bool, ::Array{SubString{String},1}) at util.jl:326",
          "status": "Default",
          "x1": 24,
          "x2": 24.9
         },
         {
          "level": 14,
          "sf": "lastindex at basic.jl:159 [inlined]",
          "status": "Default",
          "x1": 24,
          "x2": 24.9
         },
         {
          "level": 15,
          "sf": "thisind(::SubString{String}, ::Int64) at substring.jl:95",
          "status": "Default",
          "x1": 24,
          "x2": 24.9
         },
         {
          "level": 16,
          "sf": "_thisind_str at string.jl:0 [inlined]",
          "status": "Default",
          "x1": 24,
          "x2": 24.9
         },
         {
          "level": 8,
          "sf": "main(::String) at In[4]:54",
          "status": "Garbage collection",
          "x1": 25,
          "x2": 37.9
         },
         {
          "level": 8,
          "sf": "main(::String) at In[4]:56",
          "status": "Garbage collection",
          "x1": 38,
          "x2": 52.9
         },
         {
          "level": 8,
          "sf": "main(::String) at In[4]:57",
          "status": "Garbage collection",
          "x1": 53,
          "x2": 244.9
         },
         {
          "level": 8,
          "sf": "main(::String) at In[4]:58",
          "status": "Garbage collection",
          "x1": 245,
          "x2": 465.9
         },
         {
          "level": 9,
          "sf": "-(::Int64, ::Int64) at int.jl:52",
          "status": "Default",
          "x1": 245,
          "x2": 245.9
         },
         {
          "level": 9,
          "sf": "-(::Int64, ::Int64) at int.jl:52",
          "status": "Default",
          "x1": 380,
          "x2": 381.9
         },
         {
          "level": 9,
          "sf": "<<(::Int64, ::Int64) at int.jl:432",
          "status": "Default",
          "x1": 399,
          "x2": 405.9
         },
         {
          "level": 10,
          "sf": "- at int.jl:51 [inlined]",
          "status": "Default",
          "x1": 399,
          "x2": 399.9
         },
         {
          "level": 10,
          "sf": "<< at int.jl:425 [inlined]",
          "status": "Default",
          "x1": 400,
          "x2": 403.9
         },
         {
          "level": 10,
          "sf": ">> at int.jl:423 [inlined]",
          "status": "Default",
          "x1": 404,
          "x2": 404.9
         },
         {
          "level": 8,
          "sf": "main(::String) at In[4]:59",
          "status": "Garbage collection",
          "x1": 466,
          "x2": 676.9
         },
         {
          "level": 9,
          "sf": "&(::Int64, ::Int64) at int.jl:277",
          "status": "Default",
          "x1": 625,
          "x2": 627.9
         },
         {
          "level": 8,
          "sf": "main(::String) at In[4]:60",
          "status": "Garbage collection",
          "x1": 677,
          "x2": 1359.9
         },
         {
          "level": 9,
          "sf": "~(::Int64) at int.jl:254",
          "status": "Default",
          "x1": 677,
          "x2": 677.9
         },
         {
          "level": 9,
          "sf": "+(::Int64, ::Int64) at sys.so:?",
          "status": "Default",
          "x1": 1345,
          "x2": 1345.9
         },
         {
          "level": 8,
          "sf": "main(::String) at In[4]:61",
          "status": "Default",
          "x1": 1360,
          "x2": 3603.9
         },
         {
          "level": 9,
          "sf": "BigInt at gmp.jl:288 [inlined]",
          "status": "Default",
          "x1": 1360,
          "x2": 3603.9
         },
         {
          "level": 10,
          "sf": "set_si(::Int64) at gmp.jl:199",
          "status": "Default",
          "x1": 1360,
          "x2": 3601.9
         },
         {
          "level": 11,
          "sf": "BigInt at gmp.jl:56 [inlined]",
          "status": "Default",
          "x1": 1360,
          "x2": 3577.9
         },
         {
          "level": 12,
          "sf": "BigInt at gmp.jl:56 [inlined]",
          "status": "Garbage collection",
          "x1": 1360,
          "x2": 3544.9
         },
         {
          "level": 13,
          "sf": "init2! at gmp.jl:140 [inlined]",
          "status": "Garbage collection",
          "x1": 1360,
          "x2": 3028.9
         },
         {
          "level": 12,
          "sf": "BigInt at gmp.jl:57 [inlined]",
          "status": "Default",
          "x1": 3545,
          "x2": 3577.9
         },
         {
          "level": 13,
          "sf": "finalizer at gcutils.jl:32 [inlined]",
          "status": "Garbage collection",
          "x1": 3545,
          "x2": 3571.9
         },
         {
          "level": 11,
          "sf": "set_si! at gmp.jl:198 [inlined]",
          "status": "Default",
          "x1": 3578,
          "x2": 3591.9
         },
         {
          "level": 8,
          "sf": "main(::String) at In[4]:62",
          "status": "Garbage collection",
          "x1": 3604,
          "x2": 4688.9
         },
         {
          "level": 9,
          "sf": "getindex(::Array{Tuple{Char,Int64},1}, ::Int64) at array.jl:788",
          "status": "Default",
          "x1": 3604,
          "x2": 3604.9
         },
         {
          "level": 9,
          "sf": "==(::Char, ::Char) at char.jl:208",
          "status": "Default",
          "x1": 4317,
          "x2": 4317.9
         },
         {
          "level": 9,
          "sf": "getindex(::Tuple, ::Int64) at tuple.jl:24",
          "status": "Default",
          "x1": 4323,
          "x2": 4398.9
         },
         {
          "level": 9,
          "sf": "getindex(::Array{Tuple{Char,Int64},1}, ::Int64) at array.jl:788",
          "status": "Default",
          "x1": 4400,
          "x2": 4403.9
         },
         {
          "level": 9,
          "sf": "==(::Char, ::Char) at sys.so:?",
          "status": "Default",
          "x1": 4674,
          "x2": 4675.9
         },
         {
          "level": 9,
          "sf": "getindex(::Tuple, ::Int64) at sys.so:?",
          "status": "Default",
          "x1": 4676,
          "x2": 4677.9
         },
         {
          "level": 10,
          "sf": "getindex(::Tuple, ::Int64) at tuple.jl:24",
          "status": "Default",
          "x1": 4676,
          "x2": 4677.9
         },
         {
          "level": 9,
          "sf": "getindex(::Tuple, ::Int64) at tuple.jl:24",
          "status": "Default",
          "x1": 4678,
          "x2": 4678.9
         },
         {
          "level": 8,
          "sf": "main(::String) at In[4]:63",
          "status": "Garbage collection",
          "x1": 4689,
          "x2": 5390.9
         },
         {
          "level": 9,
          "sf": "tadd at In[4]:12 [inlined]",
          "status": "Garbage collection",
          "x1": 4689,
          "x2": 5150.9
         },
         {
          "level": 10,
          "sf": "* at gmp.jl:535 [inlined]",
          "status": "Default",
          "x1": 4689,
          "x2": 5058.9
         },
         {
          "level": 11,
          "sf": "* at gmp.jl:534 [inlined]",
          "status": "Default",
          "x1": 4689,
          "x2": 5058.9
         },
         {
          "level": 12,
          "sf": "mul_si(::BigInt, ::Int64) at gmp.jl:182",
          "status": "Default",
          "x1": 4689,
          "x2": 5058.9
         },
         {
          "level": 13,
          "sf": "BigInt at gmp.jl:56 [inlined]",
          "status": "Default",
          "x1": 4689,
          "x2": 5036.9
         },
         {
          "level": 14,
          "sf": "BigInt at gmp.jl:56 [inlined]",
          "status": "Garbage collection",
          "x1": 4689,
          "x2": 5033.9
         },
         {
          "level": 15,
          "sf": "init2! at gmp.jl:140 [inlined]",
          "status": "Garbage collection",
          "x1": 4689,
          "x2": 5024.9
         },
         {
          "level": 14,
          "sf": "BigInt at gmp.jl:57 [inlined]",
          "status": "Default",
          "x1": 5034,
          "x2": 5036.9
         },
         {
          "level": 15,
          "sf": "finalizer at gcutils.jl:32 [inlined]",
          "status": "Garbage collection",
          "x1": 5034,
          "x2": 5036.9
         },
         {
          "level": 13,
          "sf": "mul_si! at gmp.jl:181 [inlined]",
          "status": "Garbage collection",
          "x1": 5037,
          "x2": 5058.9
         },
         {
          "level": 10,
          "sf": "+ at gmp.jl:473 [inlined]",
          "status": "Default",
          "x1": 5059,
          "x2": 5138.9
         },
         {
          "level": 11,
          "sf": "add(::BigInt, ::BigInt) at gmp.jl:155",
          "status": "Default",
          "x1": 5059,
          "x2": 5137.9
         },
         {
          "level": 12,
          "sf": "getproperty at Base.jl:33 [inlined]",
          "status": "Default",
          "x1": 5059,
          "x2": 5067.9
         },
         {
          "level": 12,
          "sf": "Type at gmp.jl:56 [inlined]",
          "status": "Default",
          "x1": 5068,
          "x2": 5127.9
         },
         {
          "level": 13,
          "sf": "BigInt at gmp.jl:56 [inlined]",
          "status": "Garbage collection",
          "x1": 5068,
          "x2": 5124.9
         },
         {
          "level": 14,
          "sf": "init2! at gmp.jl:140 [inlined]",
          "status": "Garbage collection",
          "x1": 5068,
          "x2": 5110.9
         },
         {
          "level": 15,
          "sf": "cconvert at essentials.jl:390 [inlined]",
          "status": "Default",
          "x1": 5068,
          "x2": 5068.9
         },
         {
          "level": 16,
          "sf": "convert at number.jl:7 [inlined]",
          "status": "Default",
          "x1": 5068,
          "x2": 5068.9
         },
         {
          "level": 17,
          "sf": "UInt64 at boot.jl:712 [inlined]",
          "status": "Default",
          "x1": 5068,
          "x2": 5068.9
         },
         {
          "level": 18,
          "sf": "toUInt64 at boot.jl:682 [inlined]",
          "status": "Default",
          "x1": 5068,
          "x2": 5068.9
         },
         {
          "level": 19,
          "sf": "check_top_bit at boot.jl:571 [inlined]",
          "status": "Default",
          "x1": 5068,
          "x2": 5068.9
         },
         {
          "level": 13,
          "sf": "BigInt at gmp.jl:57 [inlined]",
          "status": "Default",
          "x1": 5125,
          "x2": 5127.9
         },
         {
          "level": 14,
          "sf": "finalizer at gcutils.jl:32 [inlined]",
          "status": "Garbage collection",
          "x1": 5125,
          "x2": 5127.9
         },
         {
          "level": 12,
          "sf": "add! at gmp.jl:154 [inlined]",
          "status": "Default",
          "x1": 5128,
          "x2": 5136.9
         },
         {
          "level": 12,
          "sf": "* at int.jl:54 [inlined]",
          "status": "Default",
          "x1": 5137,
          "x2": 5137.9
         },
         {
          "level": 10,
          "sf": "getindex at tuple.jl:24 [inlined]",
          "status": "Default",
          "x1": 5139,
          "x2": 5139.9
         },
         {
          "level": 9,
          "sf": "getindex(::Tuple, ::Int64) at tuple.jl:24",
          "status": "Garbage collection",
          "x1": 5327,
          "x2": 5345.9
         },
         {
          "level": 9,
          "sf": "getindex(::Array{Tuple{Char,Int64},1}, ::Int64) at array.jl:788",
          "status": "Default",
          "x1": 5346,
          "x2": 5349.9
         },
         {
          "level": 9,
          "sf": "getindex(::Tuple, ::Int64) at tuple.jl:24",
          "status": "Default",
          "x1": 5361,
          "x2": 5361.9
         },
         {
          "level": 9,
          "sf": "getindex(::Tuple, ::Int64) at tuple.jl:24",
          "status": "Default",
          "x1": 5362,
          "x2": 5362.9
         },
         {
          "level": 8,
          "sf": "main(::String) at In[4]:64",
          "status": "Garbage collection",
          "x1": 5391,
          "x2": 6215.9
         },
         {
          "level": 9,
          "sf": "tadd at In[4]:12 [inlined]",
          "status": "Garbage collection",
          "x1": 5391,
          "x2": 5667.9
         },
         {
          "level": 10,
          "sf": "* at gmp.jl:535 [inlined]",
          "status": "Default",
          "x1": 5391,
          "x2": 5584.9
         },
         {
          "level": 11,
          "sf": "* at gmp.jl:534 [inlined]",
          "status": "Default",
          "x1": 5391,
          "x2": 5584.9
         },
         {
          "level": 12,
          "sf": "mul_si(::BigInt, ::Int64) at gmp.jl:182",
          "status": "Default",
          "x1": 5391,
          "x2": 5584.9
         },
         {
          "level": 13,
          "sf": "BigInt at gmp.jl:56 [inlined]",
          "status": "Default",
          "x1": 5391,
          "x2": 5560.9
         },
         {
          "level": 14,
          "sf": "BigInt at gmp.jl:56 [inlined]",
          "status": "Garbage collection",
          "x1": 5391,
          "x2": 5559.9
         },
         {
          "level": 15,
          "sf": "init2! at gmp.jl:140 [inlined]",
          "status": "Garbage collection",
          "x1": 5391,
          "x2": 5546.9
         },
         {
          "level": 14,
          "sf": "BigInt at gmp.jl:57 [inlined]",
          "status": "Default",
          "x1": 5560,
          "x2": 5560.9
         },
         {
          "level": 15,
          "sf": "finalizer at gcutils.jl:32 [inlined]",
          "status": "Garbage collection",
          "x1": 5560,
          "x2": 5560.9
         },
         {
          "level": 13,
          "sf": "mul_si! at gmp.jl:181 [inlined]",
          "status": "Garbage collection",
          "x1": 5561,
          "x2": 5584.9
         },
         {
          "level": 10,
          "sf": "+ at gmp.jl:473 [inlined]",
          "status": "Default",
          "x1": 5585,
          "x2": 5658.9
         },
         {
          "level": 11,
          "sf": "add(::BigInt, ::BigInt) at gmp.jl:155",
          "status": "Default",
          "x1": 5585,
          "x2": 5656.9
         },
         {
          "level": 12,
          "sf": "getproperty at Base.jl:33 [inlined]",
          "status": "Default",
          "x1": 5585,
          "x2": 5586.9
         },
         {
          "level": 12,
          "sf": "Type at gmp.jl:56 [inlined]",
          "status": "Default",
          "x1": 5587,
          "x2": 5648.9
         },
         {
          "level": 13,
          "sf": "BigInt at gmp.jl:56 [inlined]",
          "status": "Garbage collection",
          "x1": 5587,
          "x2": 5647.9
         },
         {
          "level": 14,
          "sf": "init2! at gmp.jl:140 [inlined]",
          "status": "Default",
          "x1": 5587,
          "x2": 5637.9
         },
         {
          "level": 13,
          "sf": "BigInt at gmp.jl:57 [inlined]",
          "status": "Default",
          "x1": 5648,
          "x2": 5648.9
         },
         {
          "level": 14,
          "sf": "finalizer at gcutils.jl:32 [inlined]",
          "status": "Garbage collection",
          "x1": 5648,
          "x2": 5648.9
         },
         {
          "level": 12,
          "sf": "add! at gmp.jl:154 [inlined]",
          "status": "Default",
          "x1": 5649,
          "x2": 5656.9
         },
         {
          "level": 9,
          "sf": "getindex(::Array{Tuple{BigInt,BigInt},1}, ::Int64) at array.jl:788",
          "status": "Default",
          "x1": 5668,
          "x2": 5668.9
         },
         {
          "level": 9,
          "sf": "getindex(::Tuple, ::Int64) at tuple.jl:24",
          "status": "Garbage collection",
          "x1": 5828,
          "x2": 5851.9
         },
         {
          "level": 9,
          "sf": "getindex(::Array{Tuple{Char,Int64},1}, ::Int64) at array.jl:788",
          "status": "Default",
          "x1": 5852,
          "x2": 5855.9
         },
         {
          "level": 9,
          "sf": "getindex(::Tuple, ::Int64) at tuple.jl:24",
          "status": "Default",
          "x1": 6192,
          "x2": 6193.9
         },
         {
          "level": 8,
          "sf": "main(::String) at In[4]:65",
          "status": "Garbage collection",
          "x1": 6216,
          "x2": 6923.9
         },
         {
          "level": 9,
          "sf": "==(::Char, ::Char) at char.jl:208",
          "status": "Default",
          "x1": 6216,
          "x2": 6216.9
         },
         {
          "level": 10,
          "sf": "== at char.jl:208 [inlined]",
          "status": "Default",
          "x1": 6216,
          "x2": 6216.9
         },
         {
          "level": 9,
          "sf": "==(::Char, ::Char) at char.jl:208",
          "status": "Default",
          "x1": 6811,
          "x2": 6811.9
         },
         {
          "level": 9,
          "sf": "getindex(::Tuple, ::Int64) at tuple.jl:24",
          "status": "Default",
          "x1": 6814,
          "x2": 6857.9
         },
         {
          "level": 9,
          "sf": "getindex(::Array{Tuple{Char,Int64},1}, ::Int64) at array.jl:788",
          "status": "Default",
          "x1": 6858,
          "x2": 6861.9
         },
         {
          "level": 9,
          "sf": "==(::Char, ::Char) at sys.so:?",
          "status": "Default",
          "x1": 6915,
          "x2": 6915.9
         },
         {
          "level": 9,
          "sf": "getindex(::Tuple, ::Int64) at sys.so:?",
          "status": "Default",
          "x1": 6916,
          "x2": 6916.9
         },
         {
          "level": 10,
          "sf": "getindex(::Tuple, ::Int64) at tuple.jl:24",
          "status": "Default",
          "x1": 6916,
          "x2": 6916.9
         },
         {
          "level": 9,
          "sf": "getindex(::Tuple, ::Int64) at tuple.jl:24",
          "status": "Default",
          "x1": 6918,
          "x2": 6918.9
         },
         {
          "level": 8,
          "sf": "main(::String) at In[4]:66",
          "status": "Garbage collection",
          "x1": 6924,
          "x2": 7699.9
         },
         {
          "level": 9,
          "sf": "tsub at In[4]:16 [inlined]",
          "status": "Garbage collection",
          "x1": 6924,
          "x2": 7304.9
         },
         {
          "level": 10,
          "sf": "* at gmp.jl:535 [inlined]",
          "status": "Default",
          "x1": 6924,
          "x2": 6988.9
         },
         {
          "level": 11,
          "sf": "* at gmp.jl:534 [inlined]",
          "status": "Default",
          "x1": 6924,
          "x2": 6988.9
         },
         {
          "level": 12,
          "sf": "mul_si(::BigInt, ::Int64) at gmp.jl:182",
          "status": "Default",
          "x1": 6924,
          "x2": 6988.9
         },
         {
          "level": 13,
          "sf": "BigInt at gmp.jl:56 [inlined]",
          "status": "Default",
          "x1": 6924,
          "x2": 6966.9
         },
         {
          "level": 14,
          "sf": "BigInt at gmp.jl:56 [inlined]",
          "status": "Garbage collection",
          "x1": 6924,
          "x2": 6963.9
         },
         {
          "level": 15,
          "sf": "init2! at gmp.jl:140 [inlined]",
          "status": "Default",
          "x1": 6924,
          "x2": 6953.9
         },
         {
          "level": 14,
          "sf": "BigInt at gmp.jl:57 [inlined]",
          "status": "Default",
          "x1": 6964,
          "x2": 6966.9
         },
         {
          "level": 15,
          "sf": "finalizer at gcutils.jl:32 [inlined]",
          "status": "Garbage collection",
          "x1": 6964,
          "x2": 6966.9
         },
         {
          "level": 13,
          "sf": "mul_si! at gmp.jl:181 [inlined]",
          "status": "Default",
          "x1": 6967,
          "x2": 6987.9
         },
         {
          "level": 10,
          "sf": "- at gmp.jl:473 [inlined]",
          "status": "Default",
          "x1": 6989,
          "x2": 7083.9
         },
         {
          "level": 11,
          "sf": "sub(::BigInt, ::BigInt) at gmp.jl:155",
          "status": "Default",
          "x1": 6989,
          "x2": 7082.9
         },
         {
          "level": 12,
          "sf": "getproperty at Base.jl:33 [inlined]",
          "status": "Default",
          "x1": 6989,
          "x2": 7010.9
         },
         {
          "level": 12,
          "sf": "Type at gmp.jl:56 [inlined]",
          "status": "Default",
          "x1": 7011,
          "x2": 7072.9
         },
         {
          "level": 13,
          "sf": "BigInt at gmp.jl:56 [inlined]",
          "status": "Garbage collection",
          "x1": 7011,
          "x2": 7071.9
         },
         {
          "level": 14,
          "sf": "init2! at gmp.jl:140 [inlined]",
          "status": "Garbage collection",
          "x1": 7011,
          "x2": 7057.9
         },
         {
          "level": 13,
          "sf": "BigInt at gmp.jl:57 [inlined]",
          "status": "Default",
          "x1": 7072,
          "x2": 7072.9
         },
         {
          "level": 14,
          "sf": "finalizer at gcutils.jl:32 [inlined]",
          "status": "Garbage collection",
          "x1": 7072,
          "x2": 7072.9
         },
         {
          "level": 12,
          "sf": "sub! at gmp.jl:154 [inlined]",
          "status": "Default",
          "x1": 7073,
          "x2": 7081.9
         },
         {
          "level": 12,
          "sf": "max at promotion.jl:409 [inlined]",
          "status": "Default",
          "x1": 7082,
          "x2": 7082.9
         },
         {
          "level": 13,
          "sf": "< at int.jl:49 [inlined]",
          "status": "Default",
          "x1": 7082,
          "x2": 7082.9
         },
         {
          "level": 10,
          "sf": "getindex at tuple.jl:24 [inlined]",
          "status": "Default",
          "x1": 7084,
          "x2": 7084.9
         },
         {
          "level": 9,
          "sf": "getindex(::Tuple, ::Int64) at tuple.jl:24",
          "status": "Garbage collection",
          "x1": 7456,
          "x2": 7640.9
         },
         {
          "level": 9,
          "sf": "getindex(::Array{Tuple{BigInt,BigInt},1}, ::Int64) at array.jl:788",
          "status": "Default",
          "x1": 7641,
          "x2": 7643.9
         },
         {
          "level": 9,
          "sf": "getindex(::Tuple, ::Int64) at sys.so:?",
          "status": "Default",
          "x1": 7660,
          "x2": 7660.9
         },
         {
          "level": 10,
          "sf": "getindex(::Tuple, ::Int64) at tuple.jl:24",
          "status": "Default",
          "x1": 7660,
          "x2": 7660.9
         },
         {
          "level": 9,
          "sf": "getindex(::Tuple, ::Int64) at tuple.jl:24",
          "status": "Default",
          "x1": 7661,
          "x2": 7661.9
         },
         {
          "level": 8,
          "sf": "main(::String) at In[4]:67",
          "status": "Garbage collection",
          "x1": 7700,
          "x2": 8318.9
         },
         {
          "level": 9,
          "sf": "tsub at In[4]:16 [inlined]",
          "status": "Garbage collection",
          "x1": 7700,
          "x2": 8094.9
         },
         {
          "level": 10,
          "sf": "* at gmp.jl:535 [inlined]",
          "status": "Default",
          "x1": 7700,
          "x2": 8024.9
         },
         {
          "level": 11,
          "sf": "* at gmp.jl:534 [inlined]",
          "status": "Default",
          "x1": 7700,
          "x2": 8024.9
         },
         {
          "level": 12,
          "sf": "mul_si(::BigInt, ::Int64) at gmp.jl:182",
          "status": "Default",
          "x1": 7700,
          "x2": 8022.9
         },
         {
          "level": 13,
          "sf": "BigInt at gmp.jl:56 [inlined]",
          "status": "Default",
          "x1": 7700,
          "x2": 7999.9
         },
         {
          "level": 14,
          "sf": "BigInt at gmp.jl:56 [inlined]",
          "status": "Garbage collection",
          "x1": 7700,
          "x2": 7998.9
         },
         {
          "level": 15,
          "sf": "init2! at gmp.jl:140 [inlined]",
          "status": "Garbage collection",
          "x1": 7700,
          "x2": 7987.9
         },
         {
          "level": 14,
          "sf": "BigInt at gmp.jl:57 [inlined]",
          "status": "Default",
          "x1": 7999,
          "x2": 7999.9
         },
         {
          "level": 15,
          "sf": "finalizer at gcutils.jl:32 [inlined]",
          "status": "Default",
          "x1": 7999,
          "x2": 7999.9
         },
         {
          "level": 13,
          "sf": "mul_si! at gmp.jl:181 [inlined]",
          "status": "Garbage collection",
          "x1": 8000,
          "x2": 8022.9
         },
         {
          "level": 10,
          "sf": "- at gmp.jl:473 [inlined]",
          "status": "Default",
          "x1": 8025,
          "x2": 8086.9
         },
         {
          "level": 11,
          "sf": "sub(::BigInt, ::BigInt) at gmp.jl:155",
          "status": "Default",
          "x1": 8025,
          "x2": 8085.9
         },
         {
          "level": 12,
          "sf": "getproperty at Base.jl:33 [inlined]",
          "status": "Default",
          "x1": 8025,
          "x2": 8034.9
         },
         {
          "level": 12,
          "sf": "Type at gmp.jl:56 [inlined]",
          "status": "Default",
          "x1": 8035,
          "x2": 8081.9
         },
         {
          "level": 13,
          "sf": "BigInt at gmp.jl:56 [inlined]",
          "status": "Garbage collection",
          "x1": 8035,
          "x2": 8080.9
         },
         {
          "level": 14,
          "sf": "init2! at gmp.jl:140 [inlined]",
          "status": "Default",
          "x1": 8035,
          "x2": 8072.9
         },
         {
          "level": 15,
          "sf": "cconvert at essentials.jl:390 [inlined]",
          "status": "Default",
          "x1": 8035,
          "x2": 8035.9
         },
         {
          "level": 16,
          "sf": "convert at number.jl:7 [inlined]",
          "status": "Default",
          "x1": 8035,
          "x2": 8035.9
         },
         {
          "level": 17,
          "sf": "UInt64 at boot.jl:712 [inlined]",
          "status": "Default",
          "x1": 8035,
          "x2": 8035.9
         },
         {
          "level": 18,
          "sf": "toUInt64 at boot.jl:682 [inlined]",
          "status": "Default",
          "x1": 8035,
          "x2": 8035.9
         },
         {
          "level": 19,
          "sf": "check_top_bit at boot.jl:571 [inlined]",
          "status": "Default",
          "x1": 8035,
          "x2": 8035.9
         },
         {
          "level": 20,
          "sf": "is_top_bit_set at boot.jl:561 [inlined]",
          "status": "Default",
          "x1": 8035,
          "x2": 8035.9
         },
         {
          "level": 13,
          "sf": "BigInt at gmp.jl:57 [inlined]",
          "status": "Default",
          "x1": 8081,
          "x2": 8081.9
         },
         {
          "level": 14,
          "sf": "finalizer at gcutils.jl:32 [inlined]",
          "status": "Default",
          "x1": 8081,
          "x2": 8081.9
         },
         {
          "level": 12,
          "sf": "sub! at gmp.jl:154 [inlined]",
          "status": "Default",
          "x1": 8082,
          "x2": 8084.9
         },
         {
          "level": 12,
          "sf": "max at promotion.jl:409 [inlined]",
          "status": "Default",
          "x1": 8085,
          "x2": 8085.9
         },
         {
          "level": 13,
          "sf": "< at int.jl:49 [inlined]",
          "status": "Default",
          "x1": 8085,
          "x2": 8085.9
         },
         {
          "level": 9,
          "sf": "getindex(::Tuple, ::Int64) at tuple.jl:24",
          "status": "Garbage collection",
          "x1": 8264,
          "x2": 8278.9
         },
         {
          "level": 9,
          "sf": "getindex(::Array{Tuple{BigInt,BigInt},1}, ::Int64) at array.jl:788",
          "status": "Default",
          "x1": 8279,
          "x2": 8282.9
         },
         {
          "level": 9,
          "sf": "getindex(::Tuple, ::Int64) at sys.so:?",
          "status": "Default",
          "x1": 8297,
          "x2": 8297.9
         },
         {
          "level": 9,
          "sf": "getindex(::Tuple, ::Int64) at tuple.jl:24",
          "status": "Default",
          "x1": 8298,
          "x2": 8298.9
         },
         {
          "level": 9,
          "sf": "getindex(::Tuple, ::Int64) at tuple.jl:24",
          "status": "Default",
          "x1": 8299,
          "x2": 8299.9
         },
         {
          "level": 8,
          "sf": "main(::String) at In[4]:68",
          "status": "Garbage collection",
          "x1": 8319,
          "x2": 9024.9
         },
         {
          "level": 9,
          "sf": "==(::Char, ::Char) at char.jl:208",
          "status": "Default",
          "x1": 8319,
          "x2": 8319.9
         },
         {
          "level": 10,
          "sf": "== at char.jl:208 [inlined]",
          "status": "Default",
          "x1": 8319,
          "x2": 8319.9
         },
         {
          "level": 9,
          "sf": "getindex(::Tuple, ::Int64) at tuple.jl:24",
          "status": "Default",
          "x1": 8721,
          "x2": 8754.9
         },
         {
          "level": 9,
          "sf": "getindex(::Array{Tuple{Char,Int64},1}, ::Int64) at array.jl:788",
          "status": "Default",
          "x1": 8755,
          "x2": 8755.9
         },
         {
          "level": 9,
          "sf": "==(::Char, ::Char) at sys.so:?",
          "status": "Default",
          "x1": 9011,
          "x2": 9011.9
         },
         {
          "level": 9,
          "sf": "getindex(::Tuple, ::Int64) at sys.so:?",
          "status": "Default",
          "x1": 9012,
          "x2": 9013.9
         },
         {
          "level": 10,
          "sf": "getindex(::Tuple, ::Int64) at tuple.jl:24",
          "status": "Default",
          "x1": 9012,
          "x2": 9012.9
         },
         {
          "level": 9,
          "sf": "getindex(::Tuple, ::Int64) at tuple.jl:24",
          "status": "Default",
          "x1": 9015,
          "x2": 9015.9
         },
         {
          "level": 9,
          "sf": "getindex(::Tuple, ::Int64) at tuple.jl:24",
          "status": "Default",
          "x1": 9016,
          "x2": 9016.9
         },
         {
          "level": 8,
          "sf": "main(::String) at In[4]:69",
          "status": "Garbage collection",
          "x1": 9025,
          "x2": 9892.9
         },
         {
          "level": 9,
          "sf": "tmul at In[4]:20 [inlined]",
          "status": "Garbage collection",
          "x1": 9025,
          "x2": 9615.9
         },
         {
          "level": 10,
          "sf": "* at gmp.jl:534 [inlined]",
          "status": "Default",
          "x1": 9025,
          "x2": 9604.9
         },
         {
          "level": 11,
          "sf": "mul_si(::BigInt, ::Int64) at gmp.jl:182",
          "status": "Default",
          "x1": 9025,
          "x2": 9604.9
         },
         {
          "level": 12,
          "sf": "BigInt at gmp.jl:56 [inlined]",
          "status": "Default",
          "x1": 9025,
          "x2": 9570.9
         },
         {
          "level": 13,
          "sf": "BigInt at gmp.jl:56 [inlined]",
          "status": "Garbage collection",
          "x1": 9025,
          "x2": 9564.9
         },
         {
          "level": 14,
          "sf": "init2! at gmp.jl:140 [inlined]",
          "status": "Garbage collection",
          "x1": 9025,
          "x2": 9073.9
         },
         {
          "level": 13,
          "sf": "BigInt at gmp.jl:57 [inlined]",
          "status": "Default",
          "x1": 9565,
          "x2": 9570.9
         },
         {
          "level": 14,
          "sf": "finalizer at gcutils.jl:32 [inlined]",
          "status": "Garbage collection",
          "x1": 9565,
          "x2": 9570.9
         },
         {
          "level": 12,
          "sf": "mul_si! at gmp.jl:181 [inlined]",
          "status": "Garbage collection",
          "x1": 9571,
          "x2": 9603.9
         },
         {
          "level": 10,
          "sf": "getindex at tuple.jl:24 [inlined]",
          "status": "Default",
          "x1": 9605,
          "x2": 9605.9
         },
         {
          "level": 9,
          "sf": "getindex(::Tuple, ::Int64) at tuple.jl:24",
          "status": "Garbage collection",
          "x1": 9807,
          "x2": 9833.9
         },
         {
          "level": 9,
          "sf": "getindex(::Array{Tuple{BigInt,BigInt},1}, ::Int64) at array.jl:788",
          "status": "Default",
          "x1": 9834,
          "x2": 9841.9
         },
         {
          "level": 9,
          "sf": "getindex(::Tuple, ::Int64) at tuple.jl:24",
          "status": "Default",
          "x1": 9858,
          "x2": 9858.9
         },
         {
          "level": 8,
          "sf": "main(::String) at In[4]:70",
          "status": "Garbage collection",
          "x1": 9893,
          "x2": 10713.9
         },
         {
          "level": 9,
          "sf": "tmul at In[4]:20 [inlined]",
          "status": "Garbage collection",
          "x1": 9893,
          "x2": 10452.9
         },
         {
          "level": 10,
          "sf": "* at gmp.jl:534 [inlined]",
          "status": "Default",
          "x1": 9893,
          "x2": 10227.9
         },
         {
          "level": 11,
          "sf": "mul_si(::BigInt, ::Int64) at gmp.jl:182",
          "status": "Default",
          "x1": 9893,
          "x2": 10227.9
         },
         {
          "level": 12,
          "sf": "BigInt at gmp.jl:56 [inlined]",
          "status": "Default",
          "x1": 9893,
          "x2": 10190.9
         },
         {
          "level": 13,
          "sf": "BigInt at gmp.jl:56 [inlined]",
          "status": "Garbage collection",
          "x1": 9893,
          "x2": 10188.9
         },
         {
          "level": 14,
          "sf": "init2! at gmp.jl:140 [inlined]",
          "status": "Default",
          "x1": 9893,
          "x2": 9944.9
         },
         {
          "level": 13,
          "sf": "BigInt at gmp.jl:57 [inlined]",
          "status": "Default",
          "x1": 10189,
          "x2": 10190.9
         },
         {
          "level": 14,
          "sf": "finalizer at gcutils.jl:32 [inlined]",
          "status": "Garbage collection",
          "x1": 10189,
          "x2": 10190.9
         },
         {
          "level": 12,
          "sf": "mul_si! at gmp.jl:181 [inlined]",
          "status": "Garbage collection",
          "x1": 10191,
          "x2": 10226.9
         },
         {
          "level": 9,
          "sf": "getindex(::Tuple, ::Int64) at tuple.jl:24",
          "status": "Garbage collection",
          "x1": 10655,
          "x2": 10672.9
         },
         {
          "level": 9,
          "sf": "getindex(::Tuple, ::Int64) at tuple.jl:24",
          "status": "Default",
          "x1": 10694,
          "x2": 10695.9
         },
         {
          "level": 9,
          "sf": "getindex(::Tuple, ::Int64) at tuple.jl:24",
          "status": "Default",
          "x1": 10696,
          "x2": 10696.9
         },
         {
          "level": 8,
          "sf": "main(::String) at In[4]:71",
          "status": "Garbage collection",
          "x1": 10714,
          "x2": 10919.9
         },
         {
          "level": 9,
          "sf": "getindex(::Tuple, ::Int64) at tuple.jl:24",
          "status": "Default",
          "x1": 10714,
          "x2": 10714.9
         },
         {
          "level": 9,
          "sf": "getindex(::Tuple, ::Int64) at tuple.jl:24",
          "status": "Default",
          "x1": 10886,
          "x2": 10900.9
         },
         {
          "level": 9,
          "sf": "getindex(::Tuple, ::Int64) at sys.so:?",
          "status": "Default",
          "x1": 10915,
          "x2": 10915.9
         },
         {
          "level": 10,
          "sf": "getindex(::Tuple, ::Int64) at tuple.jl:24",
          "status": "Default",
          "x1": 10915,
          "x2": 10915.9
         },
         {
          "level": 9,
          "sf": "getindex(::Tuple, ::Int64) at tuple.jl:24",
          "status": "Default",
          "x1": 10917,
          "x2": 10917.9
         },
         {
          "level": 8,
          "sf": "main(::String) at In[4]:72",
          "status": "Garbage collection",
          "x1": 10920,
          "x2": 11572.9
         },
         {
          "level": 9,
          "sf": "tdiv at In[4]:24 [inlined]",
          "status": "Garbage collection",
          "x1": 10920,
          "x2": 11050.9
         },
         {
          "level": 10,
          "sf": "* at gmp.jl:534 [inlined]",
          "status": "Default",
          "x1": 10920,
          "x2": 11005.9
         },
         {
          "level": 11,
          "sf": "mul_si(::BigInt, ::Int64) at gmp.jl:182",
          "status": "Default",
          "x1": 10920,
          "x2": 11005.9
         },
         {
          "level": 12,
          "sf": "BigInt at gmp.jl:56 [inlined]",
          "status": "Default",
          "x1": 10920,
          "x2": 10974.9
         },
         {
          "level": 13,
          "sf": "BigInt at gmp.jl:56 [inlined]",
          "status": "Garbage collection",
          "x1": 10920,
          "x2": 10973.9
         },
         {
          "level": 14,
          "sf": "init2! at gmp.jl:140 [inlined]",
          "status": "Default",
          "x1": 10920,
          "x2": 10965.9
         },
         {
          "level": 13,
          "sf": "BigInt at gmp.jl:57 [inlined]",
          "status": "Default",
          "x1": 10974,
          "x2": 10974.9
         },
         {
          "level": 14,
          "sf": "finalizer at gcutils.jl:32 [inlined]",
          "status": "Garbage collection",
          "x1": 10974,
          "x2": 10974.9
         },
         {
          "level": 12,
          "sf": "mul_si! at gmp.jl:181 [inlined]",
          "status": "Garbage collection",
          "x1": 10975,
          "x2": 11004.9
         },
         {
          "level": 10,
          "sf": "- at gmp.jl:541 [inlined]",
          "status": "Default",
          "x1": 11006,
          "x2": 11027.9
         },
         {
          "level": 11,
          "sf": "neg(::BigInt) at gmp.jl:189",
          "status": "Default",
          "x1": 11006,
          "x2": 11027.9
         },
         {
          "level": 12,
          "sf": "BigInt at gmp.jl:56 [inlined]",
          "status": "Default",
          "x1": 11006,
          "x2": 11023.9
         },
         {
          "level": 13,
          "sf": "BigInt at gmp.jl:56 [inlined]",
          "status": "Garbage collection",
          "x1": 11006,
          "x2": 11022.9
         },
         {
          "level": 14,
          "sf": "init2! at gmp.jl:140 [inlined]",
          "status": "Garbage collection",
          "x1": 11006,
          "x2": 11021.9
         },
         {
          "level": 13,
          "sf": "BigInt at gmp.jl:57 [inlined]",
          "status": "Default",
          "x1": 11023,
          "x2": 11023.9
         },
         {
          "level": 14,
          "sf": "finalizer at gcutils.jl:32 [inlined]",
          "status": "Garbage collection",
          "x1": 11023,
          "x2": 11023.9
         },
         {
          "level": 12,
          "sf": "neg! at gmp.jl:188 [inlined]",
          "status": "Default",
          "x1": 11024,
          "x2": 11026.9
         },
         {
          "level": 10,
          "sf": "- at int.jl:51 [inlined]",
          "status": "Default",
          "x1": 11028,
          "x2": 11028.9
         },
         {
          "level": 9,
          "sf": "getindex(::Array{Tuple{Char,Int64},1}, ::Int64) at array.jl:788",
          "status": "Default",
          "x1": 11051,
          "x2": 11051.9
         },
         {
          "level": 9,
          "sf": "getindex(::Tuple, ::Int64) at tuple.jl:24",
          "status": "Garbage collection",
          "x1": 11229,
          "x2": 11244.9
         },
         {
          "level": 9,
          "sf": "getindex(::Array{Tuple{BigInt,BigInt},1}, ::Int64) at array.jl:788",
          "status": "Default",
          "x1": 11245,
          "x2": 11247.9
         },
         {
          "level": 9,
          "sf": "getindex(::Tuple, ::Int64) at tuple.jl:24",
          "status": "Default",
          "x1": 11527,
          "x2": 11527.9
         },
         {
          "level": 8,
          "sf": "main(::String) at In[4]:73",
          "status": "Garbage collection",
          "x1": 11573,
          "x2": 12181.9
         },
         {
          "level": 9,
          "sf": "tdiv at In[4]:24 [inlined]",
          "status": "Garbage collection",
          "x1": 11573,
          "x2": 11909.9
         },
         {
          "level": 10,
          "sf": "* at gmp.jl:534 [inlined]",
          "status": "Default",
          "x1": 11573,
          "x2": 11862.9
         },
         {
          "level": 11,
          "sf": "mul_si(::BigInt, ::Int64) at gmp.jl:182",
          "status": "Default",
          "x1": 11573,
          "x2": 11862.9
         },
         {
          "level": 12,
          "sf": "BigInt at gmp.jl:56 [inlined]",
          "status": "Default",
          "x1": 11573,
          "x2": 11837.9
         },
         {
          "level": 13,
          "sf": "BigInt at gmp.jl:56 [inlined]",
          "status": "Garbage collection",
          "x1": 11573,
          "x2": 11836.9
         },
         {
          "level": 14,
          "sf": "init2! at gmp.jl:140 [inlined]",
          "status": "Garbage collection",
          "x1": 11573,
          "x2": 11619.9
         },
         {
          "level": 13,
          "sf": "BigInt at gmp.jl:57 [inlined]",
          "status": "Default",
          "x1": 11837,
          "x2": 11837.9
         },
         {
          "level": 14,
          "sf": "finalizer at gcutils.jl:32 [inlined]",
          "status": "Garbage collection",
          "x1": 11837,
          "x2": 11837.9
         },
         {
          "level": 12,
          "sf": "mul_si! at gmp.jl:181 [inlined]",
          "status": "Garbage collection",
          "x1": 11838,
          "x2": 11862.9
         },
         {
          "level": 10,
          "sf": "- at gmp.jl:541 [inlined]",
          "status": "Default",
          "x1": 11863,
          "x2": 11889.9
         },
         {
          "level": 11,
          "sf": "neg(::BigInt) at gmp.jl:189",
          "status": "Default",
          "x1": 11863,
          "x2": 11889.9
         },
         {
          "level": 12,
          "sf": "BigInt at gmp.jl:56 [inlined]",
          "status": "Default",
          "x1": 11863,
          "x2": 11887.9
         },
         {
          "level": 13,
          "sf": "BigInt at gmp.jl:56 [inlined]",
          "status": "Garbage collection",
          "x1": 11863,
          "x2": 11886.9
         },
         {
          "level": 14,
          "sf": "init2! at gmp.jl:140 [inlined]",
          "status": "Default",
          "x1": 11863,
          "x2": 11880.9
         },
         {
          "level": 13,
          "sf": "BigInt at gmp.jl:57 [inlined]",
          "status": "Default",
          "x1": 11887,
          "x2": 11887.9
         },
         {
          "level": 12,
          "sf": "neg! at gmp.jl:188 [inlined]",
          "status": "Default",
          "x1": 11888,
          "x2": 11889.9
         },
         {
          "level": 10,
          "sf": "getindex at tuple.jl:24 [inlined]",
          "status": "Default",
          "x1": 11890,
          "x2": 11890.9
         },
         {
          "level": 9,
          "sf": "getindex(::Tuple, ::Int64) at tuple.jl:24",
          "status": "Garbage collection",
          "x1": 12126,
          "x2": 12142.9
         },
         {
          "level": 9,
          "sf": "getindex(::Array{Tuple{BigInt,BigInt},1}, ::Int64) at array.jl:788",
          "status": "Default",
          "x1": 12143,
          "x2": 12147.9
         },
         {
          "level": 8,
          "sf": "main(::String) at In[4]:75",
          "status": "Garbage collection",
          "x1": 12182,
          "x2": 13610.9
         },
         {
          "level": 9,
          "sf": "tgt(::Tuple{BigInt,BigInt}, ::Tuple{BigInt,BigInt}) at In[4]:28",
          "status": "Default",
          "x1": 12182,
          "x2": 13573.9
         },
         {
          "level": 10,
          "sf": "* at gmp.jl:473 [inlined]",
          "status": "Default",
          "x1": 12182,
          "x2": 13553.9
         },
         {
          "level": 11,
          "sf": "mul(::BigInt, ::BigInt) at gmp.jl:155",
          "status": "Default",
          "x1": 12182,
          "x2": 13549.9
         },
         {
          "level": 12,
          "sf": "Type at gmp.jl:56 [inlined]",
          "status": "Default",
          "x1": 12182,
          "x2": 13193.9
         },
         {
          "level": 13,
          "sf": "BigInt at gmp.jl:56 [inlined]",
          "status": "Garbage collection",
          "x1": 12182,
          "x2": 13182.9
         },
         {
          "level": 14,
          "sf": "init2! at gmp.jl:140 [inlined]",
          "status": "Garbage collection",
          "x1": 12182,
          "x2": 12780.9
         },
         {
          "level": 15,
          "sf": "close(::IOStream) at iostream.jl:45",
          "status": "Default",
          "x1": 12393,
          "x2": 12403.9
         },
         {
          "level": 16,
          "sf": "macro expansion at lock.jl:194 [inlined]",
          "status": "Default",
          "x1": 12393,
          "x2": 12403.9
         },
         {
          "level": 15,
          "sf": "typeinf_ext(::Core.MethodInstance, ::UInt64) at typeinfer.jl:605",
          "status": "Default",
          "x1": 12406,
          "x2": 12406.9
         },
         {
          "level": 16,
          "sf": "typeinf_ext(::Core.MethodInstance, ::Core.Compiler.Params) at typeinfer.jl:574",
          "status": "Default",
          "x1": 12406,
          "x2": 12406.9
         },
         {
          "level": 17,
          "sf": "typeinf(::Core.Compiler.InferenceState) at typeinfer.jl:33",
          "status": "Default",
          "x1": 12406,
          "x2": 12406.9
         },
         {
          "level": 18,
          "sf": "optimize(::Core.Compiler.OptimizationState, ::Any) at optimize.jl:169",
          "status": "Default",
          "x1": 12406,
          "x2": 12406.9
         },
         {
          "level": 19,
          "sf": "run_passes(::Core.CodeInfo, ::Int64, ::Core.Compiler.OptimizationState) at driver.jl:112",
          "status": "Default",
          "x1": 12406,
          "x2": 12406.9
         },
         {
          "level": 20,
          "sf": "just_construct_ssa(::Core.CodeInfo, ::Array{Any,1}, ::Int64, ::Core.Compiler.OptimizationState) at driver.jl:102",
          "status": "Default",
          "x1": 12406,
          "x2": 12406.9
         },
         {
          "level": 21,
          "sf": "scan_slot_def_use(::Int64, ::Core.CodeInfo, ::Array{Any,1}) at slot2ssa.jl:49",
          "status": "Default",
          "x1": 12406,
          "x2": 12406.9
         },
         {
          "level": 22,
          "sf": "SlotInfo at slot2ssa.jl:8 [inlined]",
          "status": "Default",
          "x1": 12406,
          "x2": 12406.9
         },
         {
          "level": 23,
          "sf": "getindex at array.jl:394 [inlined]",
          "status": "Default",
          "x1": 12406,
          "x2": 12406.9
         },
         {
          "level": 24,
          "sf": "Array at boot.jl:424 [inlined]",
          "status": "Default",
          "x1": 12406,
          "x2": 12406.9
         },
         {
          "level": 25,
          "sf": "Array at boot.jl:405 [inlined]",
          "status": "Default",
          "x1": 12406,
          "x2": 12406.9
         },
         {
          "level": 13,
          "sf": "BigInt at gmp.jl:57 [inlined]",
          "status": "Default",
          "x1": 13183,
          "x2": 13193.9
         },
         {
          "level": 14,
          "sf": "finalizer at gcutils.jl:32 [inlined]",
          "status": "Garbage collection",
          "x1": 13183,
          "x2": 13191.9
         },
         {
          "level": 12,
          "sf": "mul! at gmp.jl:154 [inlined]",
          "status": "Garbage collection",
          "x1": 13194,
          "x2": 13534.9
         },
         {
          "level": 10,
          "sf": "> at operators.jl:294 [inlined]",
          "status": "Default",
          "x1": 13554,
          "x2": 13560.9
         },
         {
          "level": 11,
          "sf": "< at gmp.jl:655 [inlined]",
          "status": "Default",
          "x1": 13554,
          "x2": 13560.9
         },
         {
          "level": 12,
          "sf": "cmp at gmp.jl:562 [inlined]",
          "status": "Default",
          "x1": 13554,
          "x2": 13560.9
         },
         {
          "level": 13,
          "sf": "cmp at gmp.jl:225 [inlined]",
          "status": "Default",
          "x1": 13554,
          "x2": 13558.9
         },
         {
          "level": 13,
          "sf": "sign at number.jl:118 [inlined]",
          "status": "Default",
          "x1": 13559,
          "x2": 13560.9
         },
         {
          "level": 14,
          "sf": "> at operators.jl:294 [inlined]",
          "status": "Default",
          "x1": 13559,
          "x2": 13560.9
         },
         {
          "level": 15,
          "sf": "< at int.jl:49 [inlined]",
          "status": "Default",
          "x1": 13559,
          "x2": 13560.9
         },
         {
          "level": 10,
          "sf": "getindex at tuple.jl:24 [inlined]",
          "status": "Default",
          "x1": 13561,
          "x2": 13564.9
         },
         {
          "level": 9,
          "sf": "mul(::BigInt, ::BigInt) at gmp.jl:155",
          "status": "Default",
          "x1": 13574,
          "x2": 13574.9
         },
         {
          "level": 9,
          "sf": "mul(::BigInt, ::BigInt) at gmp.jl:155",
          "status": "Default",
          "x1": 13583,
          "x2": 13606.9
         },
         {
          "level": 10,
          "sf": "mul! at gmp.jl:154 [inlined]",
          "status": "Default",
          "x1": 13583,
          "x2": 13600.9
         },
         {
          "level": 8,
          "sf": "main(::String) at In[4]:77",
          "status": "Default",
          "x1": 13611,
          "x2": 13611.9
         },
         {
          "level": 8,
          "sf": "main(::String) at In[4]:78",
          "status": "Default",
          "x1": 13612,
          "x2": 13613.9
         },
         {
          "level": 9,
          "sf": "setindex! at array.jl:826 [inlined]",
          "status": "Default",
          "x1": 13612,
          "x2": 13613.9
         },
         {
          "level": 8,
          "sf": "main(::String) at In[4]:81",
          "status": "Garbage collection",
          "x1": 13614,
          "x2": 14685.9
         },
         {
          "level": 9,
          "sf": "tgt(::Tuple{BigInt,BigInt}, ::Tuple{BigInt,BigInt}) at In[4]:28",
          "status": "Default",
          "x1": 13614,
          "x2": 14515.9
         },
         {
          "level": 10,
          "sf": "* at gmp.jl:473 [inlined]",
          "status": "Default",
          "x1": 13614,
          "x2": 14492.9
         },
         {
          "level": 11,
          "sf": "mul(::BigInt, ::BigInt) at gmp.jl:155",
          "status": "Default",
          "x1": 13614,
          "x2": 14489.9
         },
         {
          "level": 12,
          "sf": "Type at gmp.jl:56 [inlined]",
          "status": "Default",
          "x1": 13614,
          "x2": 14297.9
         },
         {
          "level": 13,
          "sf": "BigInt at gmp.jl:56 [inlined]",
          "status": "Garbage collection",
          "x1": 13614,
          "x2": 14278.9
         },
         {
          "level": 14,
          "sf": "init2! at gmp.jl:140 [inlined]",
          "status": "Garbage collection",
          "x1": 13614,
          "x2": 13908.9
         },
         {
          "level": 13,
          "sf": "BigInt at gmp.jl:57 [inlined]",
          "status": "Default",
          "x1": 14279,
          "x2": 14297.9
         },
         {
          "level": 14,
          "sf": "finalizer at gcutils.jl:32 [inlined]",
          "status": "Garbage collection",
          "x1": 14279,
          "x2": 14297.9
         },
         {
          "level": 12,
          "sf": "mul! at gmp.jl:154 [inlined]",
          "status": "Garbage collection",
          "x1": 14298,
          "x2": 14481.9
         },
         {
          "level": 10,
          "sf": "> at operators.jl:294 [inlined]",
          "status": "Default",
          "x1": 14493,
          "x2": 14506.9
         },
         {
          "level": 11,
          "sf": "< at gmp.jl:655 [inlined]",
          "status": "Default",
          "x1": 14493,
          "x2": 14506.9
         },
         {
          "level": 12,
          "sf": "cmp at gmp.jl:562 [inlined]",
          "status": "Default",
          "x1": 14493,
          "x2": 14506.9
         },
         {
          "level": 13,
          "sf": "cmp at gmp.jl:225 [inlined]",
          "status": "Default",
          "x1": 14493,
          "x2": 14505.9
         },
         {
          "level": 13,
          "sf": "sign at number.jl:118 [inlined]",
          "status": "Default",
          "x1": 14506,
          "x2": 14506.9
         },
         {
          "level": 14,
          "sf": "> at operators.jl:294 [inlined]",
          "status": "Default",
          "x1": 14506,
          "x2": 14506.9
         },
         {
          "level": 15,
          "sf": "< at int.jl:49 [inlined]",
          "status": "Default",
          "x1": 14506,
          "x2": 14506.9
         },
         {
          "level": 10,
          "sf": "getindex at tuple.jl:24 [inlined]",
          "status": "Default",
          "x1": 14507,
          "x2": 14512.9
         },
         {
          "level": 9,
          "sf": "getindex(::Array{Tuple{BigInt,BigInt},1}, ::Int64) at array.jl:788",
          "status": "Default",
          "x1": 14516,
          "x2": 14517.9
         },
         {
          "level": 9,
          "sf": "mul(::BigInt, ::BigInt) at gmp.jl:155",
          "status": "Default",
          "x1": 14518,
          "x2": 14519.9
         },
         {
          "level": 9,
          "sf": "getindex(::Array{Tuple{BigInt,BigInt},1}, ::Int64) at array.jl:788",
          "status": "Default",
          "x1": 14632,
          "x2": 14633.9
         },
         {
          "level": 9,
          "sf": "setindex!(::Array{Tuple{BigInt,BigInt},1}, ::Tuple{BigInt,BigInt}, ::Int64) at array.jl:826",
          "status": "Default",
          "x1": 14634,
          "x2": 14640.9
         },
         {
          "level": 9,
          "sf": "setindex!(::Array{Tuple{BigInt,BigInt},1}, ::Tuple{BigInt,BigInt}, ::Int64) at array.jl:826",
          "status": "Default",
          "x1": 14654,
          "x2": 14654.9
         },
         {
          "level": 9,
          "sf": "mul(::BigInt, ::BigInt) at gmp.jl:155",
          "status": "Default",
          "x1": 14655,
          "x2": 14669.9
         },
         {
          "level": 10,
          "sf": "mul! at gmp.jl:154 [inlined]",
          "status": "Default",
          "x1": 14655,
          "x2": 14664.9
         },
         {
          "level": 8,
          "sf": "main(::String) at In[4]:82",
          "status": "Garbage collection",
          "x1": 14686,
          "x2": 15784.9
         },
         {
          "level": 9,
          "sf": "tlt(::Tuple{BigInt,BigInt}, ::Tuple{BigInt,BigInt}) at In[4]:32",
          "status": "Default",
          "x1": 14686,
          "x2": 15458.9
         },
         {
          "level": 10,
          "sf": "* at gmp.jl:473 [inlined]",
          "status": "Default",
          "x1": 14686,
          "x2": 15440.9
         },
         {
          "level": 11,
          "sf": "mul(::BigInt, ::BigInt) at gmp.jl:155",
          "status": "Default",
          "x1": 14686,
          "x2": 15436.9
         },
         {
          "level": 12,
          "sf": "Type at gmp.jl:56 [inlined]",
          "status": "Default",
          "x1": 14686,
          "x2": 15272.9
         },
         {
          "level": 13,
          "sf": "BigInt at gmp.jl:56 [inlined]",
          "status": "Garbage collection",
          "x1": 14686,
          "x2": 15263.9
         },
         {
          "level": 14,
          "sf": "init2! at gmp.jl:140 [inlined]",
          "status": "Garbage collection",
          "x1": 14686,
          "x2": 15176.9
         },
         {
          "level": 13,
          "sf": "BigInt at gmp.jl:57 [inlined]",
          "status": "Default",
          "x1": 15264,
          "x2": 15272.9
         },
         {
          "level": 14,
          "sf": "finalizer at gcutils.jl:32 [inlined]",
          "status": "Garbage collection",
          "x1": 15264,
          "x2": 15272.9
         },
         {
          "level": 12,
          "sf": "mul! at gmp.jl:154 [inlined]",
          "status": "Garbage collection",
          "x1": 15273,
          "x2": 15423.9
         },
         {
          "level": 10,
          "sf": "< at gmp.jl:655 [inlined]",
          "status": "Default",
          "x1": 15441,
          "x2": 15448.9
         },
         {
          "level": 11,
          "sf": "cmp at gmp.jl:562 [inlined]",
          "status": "Default",
          "x1": 15441,
          "x2": 15448.9
         },
         {
          "level": 12,
          "sf": "cmp at gmp.jl:225 [inlined]",
          "status": "Default",
          "x1": 15441,
          "x2": 15446.9
         },
         {
          "level": 12,
          "sf": "sign at number.jl:118 [inlined]",
          "status": "Default",
          "x1": 15447,
          "x2": 15448.9
         },
         {
          "level": 13,
          "sf": "> at operators.jl:294 [inlined]",
          "status": "Default",
          "x1": 15447,
          "x2": 15448.9
         },
         {
          "level": 14,
          "sf": "< at int.jl:49 [inlined]",
          "status": "Default",
          "x1": 15447,
          "x2": 15448.9
         },
         {
          "level": 10,
          "sf": "getindex at tuple.jl:24 [inlined]",
          "status": "Default",
          "x1": 15449,
          "x2": 15449.9
         },
         {
          "level": 9,
          "sf": "mul(::BigInt, ::BigInt) at gmp.jl:155",
          "status": "Default",
          "x1": 15459,
          "x2": 15461.9
         },
         {
          "level": 9,
          "sf": "iterate(::UnitRange{Int64}, ::Int64) at range.jl:598",
          "status": "Default",
          "x1": 15595,
          "x2": 15597.9
         },
         {
          "level": 10,
          "sf": "+ at int.jl:53 [inlined]",
          "status": "Default",
          "x1": 15595,
          "x2": 15597.9
         },
         {
          "level": 9,
          "sf": "iterate(::UnitRange{Int64}, ::Int64) at range.jl:599",
          "status": "Default",
          "x1": 15598,
          "x2": 15602.9
         },
         {
          "level": 9,
          "sf": "getindex(::Array{Tuple{BigInt,BigInt},1}, ::Int64) at array.jl:788",
          "status": "Default",
          "x1": 15726,
          "x2": 15727.9
         },
         {
          "level": 9,
          "sf": "setindex!(::Array{Tuple{BigInt,BigInt},1}, ::Tuple{BigInt,BigInt}, ::Int64) at array.jl:826",
          "status": "Default",
          "x1": 15728,
          "x2": 15730.9
         },
         {
          "level": 9,
          "sf": "setindex!(::Array{Tuple{BigInt,BigInt},1}, ::Tuple{BigInt,BigInt}, ::Int64) at array.jl:826",
          "status": "Default",
          "x1": 15754,
          "x2": 15754.9
         },
         {
          "level": 9,
          "sf": "mul(::BigInt, ::BigInt) at gmp.jl:155",
          "status": "Default",
          "x1": 15755,
          "x2": 15763.9
         },
         {
          "level": 10,
          "sf": "mul! at gmp.jl:154 [inlined]",
          "status": "Default",
          "x1": 15755,
          "x2": 15763.9
         },
         {
          "level": 8,
          "sf": "main(::String) at In[4]:89",
          "status": "Default",
          "x1": 15785,
          "x2": 15785.9
         },
         {
          "level": 9,
          "sf": "iterate at range.jl:597 [inlined]",
          "status": "Default",
          "x1": 15785,
          "x2": 15785.9
         },
         {
          "level": 8,
          "sf": "tlt(::Tuple{BigInt,BigInt}, ::Tuple{BigInt,BigInt}) at In[4]:32",
          "status": "Default",
          "x1": 15786,
          "x2": 15786.9
         },
         {
          "level": 8,
          "sf": "mul_si(::BigInt, ::Int64) at gmp.jl:182",
          "status": "Default",
          "x1": 15787,
          "x2": 15788.9
         },
         {
          "level": 8,
          "sf": "set_si(::Int64) at gmp.jl:199",
          "status": "Default",
          "x1": 15789,
          "x2": 15791.9
         },
         {
          "level": 8,
          "sf": "add(::BigInt, ::BigInt) at gmp.jl:155",
          "status": "Default",
          "x1": 15849,
          "x2": 15849.9
         },
         {
          "level": 8,
          "sf": "mul_si(::BigInt, ::Int64) at gmp.jl:182",
          "status": "Default",
          "x1": 15850,
          "x2": 15853.9
         },
         {
          "level": 8,
          "sf": "set_si(::Int64) at gmp.jl:199",
          "status": "Default",
          "x1": 15854,
          "x2": 15856.9
         },
         {
          "level": 1,
          "sf": "add(::BigInt, ::BigInt) at gmp.jl:155",
          "status": "Default",
          "x1": 16060,
          "x2": 16060.9
         },
         {
          "level": 1,
          "sf": "sub(::BigInt, ::BigInt) at gmp.jl:155",
          "status": "Default",
          "x1": 16061,
          "x2": 16061.9
         }
        ]
       },
       "encoding": {
        "color": {
         "field": "status",
         "legend": {
          "orient": "bottom",
          "title": null
         },
         "type": "nominal"
        },
        "fillOpacity": {
         "condition": [
          {
           "selection": "highlight",
           "value": 0.6
          },
          {
           "selection": "select",
           "value": 0.5
          }
         ],
         "value": 1
        },
        "strokeWidth": {
         "condition": [
          {
           "selection": "highlight",
           "value": 0.5
          },
          {
           "selection": "select",
           "value": 0.5
          }
         ],
         "value": 0
        },
        "tooltip": {
         "field": "sf",
         "type": "nominal"
        },
        "x": {
         "axis": null,
         "field": "x1",
         "type": "quantitative"
        },
        "x2": {
         "field": "x2",
         "type": "quantitative"
        },
        "y": {
         "axis": null,
         "field": "level",
         "type": "quantitative"
        },
        "y2": {
         "field": "level2",
         "type": "quantitative"
        }
       },
       "height": 400,
       "mark": {
        "stroke": "#505050",
        "type": "rect"
       },
       "selection": {
        "grid": {
         "bind": "scales",
         "type": "interval"
        },
        "highlight": {
         "empty": "none",
         "on": "mouseover",
         "type": "single"
        },
        "select": {
         "empty": "none",
         "type": "multi"
        }
       },
       "title": "Profile Results",
       "transform": [
        {
         "as": "level2",
         "calculate": "datum.level+0.9"
        }
       ],
       "width": 800
      },
      "image/png": "[encoded data removed]",
      "image/svg+xml": [
       "<?xml version=\"1.0\" encoding=\"utf-8\"?>\n",
       "<!DOCTYPE svg PUBLIC \"-//W3C//DTD SVG 1.1//EN\" \"http://www.w3.org/Graphics/SVG/1.1/DTD/svg11.dtd\">\n",
       "<svg class=\"marks\" width=\"810\" height=\"458\" viewBox=\"0 0 810 458\" version=\"1.1\" xmlns=\"http://www.w3.org/2000/svg\" xmlns:xlink=\"http://www.w3.org/1999/xlink\"><rect width=\"810\" height=\"458\" style=\"fill: white;\"></rect><defs><clipPath id=\"clip1\"><rect x=\"0\" y=\"0\" width=\"800\" height=\"400\"></rect></clipPath></defs><g transform=\"translate(5,22)\"><g class=\"mark-group role-frame root\"><g transform=\"translate(0,0)\"><path class=\"background\" d=\"M0.5,0.5h800v400h-800Z\" style=\"fill: none; stroke: #ddd;\"></path><g><g class=\"mark-rect role-mark marks\" clip-path=\"url(#clip1)\"><path d=\"M0.044444444444444446,386.15384615384613h726.9733333333332v13.846153846153868h-726.9733333333332Z\" style=\"fill: #f58518; fill-opacity: 1; stroke: #505050; stroke-width: 0;\"></path><path d=\"M0.7111111111111111,370.7692307692308h704.9733333333334v13.846153846153868h-704.9733333333334Z\" style=\"fill: #4c78a8; fill-opacity: 1; stroke: #505050; stroke-width: 0;\"></path><path d=\"M0.7111111111111111,355.38461538461536h704.9733333333334v13.846153846153868h-704.9733333333334Z\" style=\"fill: #4c78a8; fill-opacity: 1; stroke: #505050; stroke-width: 0;\"></path><path d=\"M0.7111111111111111,340h704.9733333333334v13.846153846153811h-704.9733333333334Z\" style=\"fill: #4c78a8; fill-opacity: 1; stroke: #505050; stroke-width: 0;\"></path><path d=\"M0.7111111111111111,324.61538461538464h704.9733333333334v13.846153846153811h-704.9733333333334Z\" style=\"fill: #e45756; fill-opacity: 1; stroke: #505050; stroke-width: 0;\"></path><path d=\"M0.7111111111111111,309.23076923076917h704.9733333333334v13.846153846153925h-704.9733333333334Z\" style=\"fill: #e45756; fill-opacity: 1; stroke: #505050; stroke-width: 0;\"></path><path d=\"M0.7111111111111111,293.84615384615387h704.9733333333334v13.846153846153811h-704.9733333333334Z\" style=\"fill: #4c78a8; fill-opacity: 1; stroke: #505050; stroke-width: 0;\"></path><path d=\"M0.7111111111111111,278.46153846153845h704.9733333333334v13.846153846153868h-704.9733333333334Z\" style=\"fill: #f58518; fill-opacity: 1; stroke: #505050; stroke-width: 0;\"></path><path d=\"M0.7111111111111111,263.0769230769231h0.21777777777777774v13.846153846153811h-0.21777777777777774Z\" style=\"fill: #4c78a8; fill-opacity: 1; stroke: #505050; stroke-width: 0;\"></path><path d=\"M0.9333333333333335,263.0769230769231h0.12888888888888872v13.846153846153811h-0.12888888888888872Z\" style=\"fill: #4c78a8; fill-opacity: 1; stroke: #505050; stroke-width: 0;\"></path><path d=\"M0.9333333333333335,247.6923076923077h0.12888888888888872v13.84615384615384h-0.12888888888888872Z\" style=\"fill: #f58518; fill-opacity: 1; stroke: #505050; stroke-width: 0;\"></path><path d=\"M1.0666666666666667,263.0769230769231h0.039999999999999813v13.846153846153811h-0.039999999999999813Z\" style=\"fill: #e45756; fill-opacity: 1; stroke: #505050; stroke-width: 0;\"></path><path d=\"M1.0666666666666667,247.6923076923077h0.039999999999999813v13.84615384615384h-0.039999999999999813Z\" style=\"fill: #4c78a8; fill-opacity: 1; stroke: #505050; stroke-width: 0;\"></path><path d=\"M1.0666666666666667,232.3076923076923h0.039999999999999813v13.846153846153868h-0.039999999999999813Z\" style=\"fill: #4c78a8; fill-opacity: 1; stroke: #505050; stroke-width: 0;\"></path><path d=\"M1.0666666666666667,216.9230769230769h0.039999999999999813v13.84615384615384h-0.039999999999999813Z\" style=\"fill: #4c78a8; fill-opacity: 1; stroke: #505050; stroke-width: 0;\"></path><path d=\"M1.0666666666666667,201.53846153846155h0.039999999999999813v13.84615384615384h-0.039999999999999813Z\" style=\"fill: #4c78a8; fill-opacity: 1; stroke: #505050; stroke-width: 0;\"></path><path d=\"M1.0666666666666667,186.15384615384616h0.039999999999999813v13.84615384615384h-0.039999999999999813Z\" style=\"fill: #4c78a8; fill-opacity: 1; stroke: #505050; stroke-width: 0;\"></path><path d=\"M1.0666666666666667,170.76923076923077h0.039999999999999813v13.84615384615384h-0.039999999999999813Z\" style=\"fill: #4c78a8; fill-opacity: 1; stroke: #505050; stroke-width: 0;\"></path><path d=\"M1.0666666666666667,155.38461538461536h0.039999999999999813v13.846153846153896h-0.039999999999999813Z\" style=\"fill: #4c78a8; fill-opacity: 1; stroke: #505050; stroke-width: 0;\"></path><path d=\"M1.0666666666666667,140.00000000000003h0.039999999999999813v13.846153846153811h-0.039999999999999813Z\" style=\"fill: #4c78a8; fill-opacity: 1; stroke: #505050; stroke-width: 0;\"></path><path d=\"M1.1111111111111112,263.0769230769231h0.5733333333333333v13.846153846153811h-0.5733333333333333Z\" style=\"fill: #f58518; fill-opacity: 1; stroke: #505050; stroke-width: 0;\"></path><path d=\"M1.6888888888888887,263.0769230769231h0.6622222222222223v13.846153846153811h-0.6622222222222223Z\" style=\"fill: #f58518; fill-opacity: 1; stroke: #505050; stroke-width: 0;\"></path><path d=\"M2.3555555555555556,263.0769230769231h8.52888888888889v13.846153846153811h-8.52888888888889Z\" style=\"fill: #f58518; fill-opacity: 1; stroke: #505050; stroke-width: 0;\"></path><path d=\"M10.888888888888888,263.0769230769231h9.817777777777776v13.846153846153811h-9.817777777777776Z\" style=\"fill: #f58518; fill-opacity: 1; stroke: #505050; stroke-width: 0;\"></path><path d=\"M10.888888888888888,247.6923076923077h0.0400000000000027v13.84615384615384h-0.0400000000000027Z\" style=\"fill: #4c78a8; fill-opacity: 1; stroke: #505050; stroke-width: 0;\"></path><path d=\"M16.88888888888889,247.6923076923077h0.08444444444444343v13.84615384615384h-0.08444444444444343Z\" style=\"fill: #4c78a8; fill-opacity: 1; stroke: #505050; stroke-width: 0;\"></path><path d=\"M17.733333333333334,247.6923076923077h0.30666666666666487v13.84615384615384h-0.30666666666666487Z\" style=\"fill: #4c78a8; fill-opacity: 1; stroke: #505050; stroke-width: 0;\"></path><path d=\"M17.733333333333334,232.3076923076923h0.03999999999999915v13.846153846153868h-0.03999999999999915Z\" style=\"fill: #4c78a8; fill-opacity: 1; stroke: #505050; stroke-width: 0;\"></path><path d=\"M17.77777777777778,232.3076923076923h0.173333333333332v13.846153846153868h-0.173333333333332Z\" style=\"fill: #4c78a8; fill-opacity: 1; stroke: #505050; stroke-width: 0;\"></path><path d=\"M17.955555555555556,232.3076923076923h0.03999999999999915v13.846153846153868h-0.03999999999999915Z\" style=\"fill: #4c78a8; fill-opacity: 1; stroke: #505050; stroke-width: 0;\"></path><path d=\"M20.711111111111112,263.0769230769231h9.373333333333328v13.846153846153811h-9.373333333333328Z\" style=\"fill: #f58518; fill-opacity: 1; stroke: #505050; stroke-width: 0;\"></path><path d=\"M27.77777777777778,247.6923076923077h0.12888888888888417v13.84615384615384h-0.12888888888888417Z\" style=\"fill: #4c78a8; fill-opacity: 1; stroke: #505050; stroke-width: 0;\"></path><path d=\"M30.08888888888889,263.0769230769231h30.351111111111116v13.846153846153811h-30.351111111111116Z\" style=\"fill: #f58518; fill-opacity: 1; stroke: #505050; stroke-width: 0;\"></path><path d=\"M30.08888888888889,247.6923076923077h0.03999999999999915v13.84615384615384h-0.03999999999999915Z\" style=\"fill: #4c78a8; fill-opacity: 1; stroke: #505050; stroke-width: 0;\"></path><path d=\"M59.77777777777777,247.6923076923077h0.04000000000000625v13.84615384615384h-0.04000000000000625Z\" style=\"fill: #4c78a8; fill-opacity: 1; stroke: #505050; stroke-width: 0;\"></path><path d=\"M60.44444444444444,263.0769230769231h99.7288888888889v13.846153846153811h-99.7288888888889Z\" style=\"fill: #4c78a8; fill-opacity: 1; stroke: #505050; stroke-width: 0;\"></path><path d=\"M60.44444444444444,247.6923076923077h99.7288888888889v13.84615384615384h-99.7288888888889Z\" style=\"fill: #4c78a8; fill-opacity: 1; stroke: #505050; stroke-width: 0;\"></path><path d=\"M60.44444444444444,232.3076923076923h99.64v13.846153846153868h-99.64Z\" style=\"fill: #4c78a8; fill-opacity: 1; stroke: #505050; stroke-width: 0;\"></path><path d=\"M60.44444444444444,216.9230769230769h98.57333333333334v13.84615384615384h-98.57333333333334Z\" style=\"fill: #4c78a8; fill-opacity: 1; stroke: #505050; stroke-width: 0;\"></path><path d=\"M60.44444444444444,201.53846153846155h97.10666666666667v13.84615384615384h-97.10666666666667Z\" style=\"fill: #f58518; fill-opacity: 1; stroke: #505050; stroke-width: 0;\"></path><path d=\"M60.44444444444444,186.15384615384616h74.17333333333336v13.84615384615384h-74.17333333333336Z\" style=\"fill: #f58518; fill-opacity: 1; stroke: #505050; stroke-width: 0;\"></path><path d=\"M157.55555555555557,201.53846153846155h1.4622222222222092v13.84615384615384h-1.4622222222222092Z\" style=\"fill: #4c78a8; fill-opacity: 1; stroke: #505050; stroke-width: 0;\"></path><path d=\"M157.55555555555557,186.15384615384616h1.1955555555555293v13.84615384615384h-1.1955555555555293Z\" style=\"fill: #f58518; fill-opacity: 1; stroke: #505050; stroke-width: 0;\"></path><path d=\"M159.0222222222222,216.9230769230769h0.6177777777778033v13.84615384615384h-0.6177777777778033Z\" style=\"fill: #4c78a8; fill-opacity: 1; stroke: #505050; stroke-width: 0;\"></path><path d=\"M160.17777777777778,263.0769230769231h48.21777777777777v13.846153846153811h-48.21777777777777Z\" style=\"fill: #f58518; fill-opacity: 1; stroke: #505050; stroke-width: 0;\"></path><path d=\"M160.17777777777778,247.6923076923077h0.040000000000020464v13.84615384615384h-0.040000000000020464Z\" style=\"fill: #4c78a8; fill-opacity: 1; stroke: #505050; stroke-width: 0;\"></path><path d=\"M191.86666666666667,247.6923076923077h0.03999999999996362v13.84615384615384h-0.03999999999996362Z\" style=\"fill: #4c78a8; fill-opacity: 1; stroke: #505050; stroke-width: 0;\"></path><path d=\"M192.13333333333333,247.6923076923077h3.373333333333335v13.84615384615384h-3.373333333333335Z\" style=\"fill: #4c78a8; fill-opacity: 1; stroke: #505050; stroke-width: 0;\"></path><path d=\"M195.55555555555554,247.6923076923077h0.1733333333333178v13.84615384615384h-0.1733333333333178Z\" style=\"fill: #4c78a8; fill-opacity: 1; stroke: #505050; stroke-width: 0;\"></path><path d=\"M207.73333333333332,247.6923076923077h0.08444444444441501v13.84615384615384h-0.08444444444441501Z\" style=\"fill: #4c78a8; fill-opacity: 1; stroke: #505050; stroke-width: 0;\"></path><path d=\"M207.82222222222222,247.6923076923077h0.08444444444441501v13.84615384615384h-0.08444444444441501Z\" style=\"fill: #4c78a8; fill-opacity: 1; stroke: #505050; stroke-width: 0;\"></path><path d=\"M207.82222222222222,232.3076923076923h0.08444444444441501v13.846153846153868h-0.08444444444441501Z\" style=\"fill: #4c78a8; fill-opacity: 1; stroke: #505050; stroke-width: 0;\"></path><path d=\"M207.91111111111113,247.6923076923077h0.03999999999999204v13.84615384615384h-0.03999999999999204Z\" style=\"fill: #4c78a8; fill-opacity: 1; stroke: #505050; stroke-width: 0;\"></path><path d=\"M208.4,263.0769230769231h31.1955555555555v13.846153846153811h-31.1955555555555Z\" style=\"fill: #f58518; fill-opacity: 1; stroke: #505050; stroke-width: 0;\"></path><path d=\"M208.4,247.6923076923077h20.528888888888872v13.84615384615384h-20.528888888888872Z\" style=\"fill: #f58518; fill-opacity: 1; stroke: #505050; stroke-width: 0;\"></path><path d=\"M208.4,232.3076923076923h16.43999999999997v13.846153846153868h-16.43999999999997Z\" style=\"fill: #4c78a8; fill-opacity: 1; stroke: #505050; stroke-width: 0;\"></path><path d=\"M208.4,216.9230769230769h16.43999999999997v13.84615384615384h-16.43999999999997Z\" style=\"fill: #4c78a8; fill-opacity: 1; stroke: #505050; stroke-width: 0;\"></path><path d=\"M208.4,201.53846153846155h16.43999999999997v13.84615384615384h-16.43999999999997Z\" style=\"fill: #4c78a8; fill-opacity: 1; stroke: #505050; stroke-width: 0;\"></path><path d=\"M208.4,186.15384615384616h15.46222222222218v13.84615384615384h-15.46222222222218Z\" style=\"fill: #4c78a8; fill-opacity: 1; stroke: #505050; stroke-width: 0;\"></path><path d=\"M208.4,170.76923076923077h15.328888888888855v13.84615384615384h-15.328888888888855Z\" style=\"fill: #f58518; fill-opacity: 1; stroke: #505050; stroke-width: 0;\"></path><path d=\"M208.4,155.38461538461536h14.92888888888885v13.846153846153896h-14.92888888888885Z\" style=\"fill: #f58518; fill-opacity: 1; stroke: #505050; stroke-width: 0;\"></path><path d=\"M223.73333333333335,170.76923076923077h0.12888888888883798v13.84615384615384h-0.12888888888883798Z\" style=\"fill: #4c78a8; fill-opacity: 1; stroke: #505050; stroke-width: 0;\"></path><path d=\"M223.73333333333335,155.38461538461536h0.12888888888883798v13.846153846153896h-0.12888888888883798Z\" style=\"fill: #f58518; fill-opacity: 1; stroke: #505050; stroke-width: 0;\"></path><path d=\"M223.86666666666665,186.15384615384616h0.9733333333333292v13.84615384615384h-0.9733333333333292Z\" style=\"fill: #f58518; fill-opacity: 1; stroke: #505050; stroke-width: 0;\"></path><path d=\"M224.84444444444443,232.3076923076923h3.551111111111112v13.846153846153868h-3.551111111111112Z\" style=\"fill: #4c78a8; fill-opacity: 1; stroke: #505050; stroke-width: 0;\"></path><path d=\"M224.84444444444443,216.9230769230769h3.5066666666666606v13.84615384615384h-3.5066666666666606Z\" style=\"fill: #4c78a8; fill-opacity: 1; stroke: #505050; stroke-width: 0;\"></path><path d=\"M224.84444444444443,201.53846153846155h0.39555555555554633v13.84615384615384h-0.39555555555554633Z\" style=\"fill: #4c78a8; fill-opacity: 1; stroke: #505050; stroke-width: 0;\"></path><path d=\"M225.24444444444444,201.53846153846155h2.6622222222222263v13.84615384615384h-2.6622222222222263Z\" style=\"fill: #4c78a8; fill-opacity: 1; stroke: #505050; stroke-width: 0;\"></path><path d=\"M225.24444444444444,186.15384615384616h2.5288888888889005v13.84615384615384h-2.5288888888889005Z\" style=\"fill: #f58518; fill-opacity: 1; stroke: #505050; stroke-width: 0;\"></path><path d=\"M225.24444444444444,170.76923076923077h1.9066666666666379v13.84615384615384h-1.9066666666666379Z\" style=\"fill: #f58518; fill-opacity: 1; stroke: #505050; stroke-width: 0;\"></path><path d=\"M225.24444444444444,155.38461538461536h0.03999999999999204v13.846153846153896h-0.03999999999999204Z\" style=\"fill: #4c78a8; fill-opacity: 1; stroke: #505050; stroke-width: 0;\"></path><path d=\"M225.24444444444444,140.00000000000003h0.03999999999999204v13.846153846153811h-0.03999999999999204Z\" style=\"fill: #4c78a8; fill-opacity: 1; stroke: #505050; stroke-width: 0;\"></path><path d=\"M225.24444444444444,124.61538461538461h0.03999999999999204v13.84615384615384h-0.03999999999999204Z\" style=\"fill: #4c78a8; fill-opacity: 1; stroke: #505050; stroke-width: 0;\"></path><path d=\"M225.24444444444444,109.23076923076924h0.03999999999999204v13.84615384615384h-0.03999999999999204Z\" style=\"fill: #4c78a8; fill-opacity: 1; stroke: #505050; stroke-width: 0;\"></path><path d=\"M225.24444444444444,93.84615384615387h0.03999999999999204v13.84615384615384h-0.03999999999999204Z\" style=\"fill: #4c78a8; fill-opacity: 1; stroke: #505050; stroke-width: 0;\"></path><path d=\"M227.77777777777777,186.15384615384616h0.12888888888889483v13.84615384615384h-0.12888888888889483Z\" style=\"fill: #4c78a8; fill-opacity: 1; stroke: #505050; stroke-width: 0;\"></path><path d=\"M227.77777777777777,170.76923076923077h0.12888888888889483v13.84615384615384h-0.12888888888889483Z\" style=\"fill: #f58518; fill-opacity: 1; stroke: #505050; stroke-width: 0;\"></path><path d=\"M227.91111111111113,201.53846153846155h0.39555555555554633v13.84615384615384h-0.39555555555554633Z\" style=\"fill: #4c78a8; fill-opacity: 1; stroke: #505050; stroke-width: 0;\"></path><path d=\"M228.31111111111113,201.53846153846155h0.03999999999996362v13.84615384615384h-0.03999999999996362Z\" style=\"fill: #4c78a8; fill-opacity: 1; stroke: #505050; stroke-width: 0;\"></path><path d=\"M228.39999999999998,232.3076923076923h0.03999999999999204v13.846153846153868h-0.03999999999999204Z\" style=\"fill: #4c78a8; fill-opacity: 1; stroke: #505050; stroke-width: 0;\"></path><path d=\"M236.75555555555556,247.6923076923077h0.8400000000000034v13.84615384615384h-0.8400000000000034Z\" style=\"fill: #f58518; fill-opacity: 1; stroke: #505050; stroke-width: 0;\"></path><path d=\"M237.6,247.6923076923077h0.1733333333333178v13.84615384615384h-0.1733333333333178Z\" style=\"fill: #4c78a8; fill-opacity: 1; stroke: #505050; stroke-width: 0;\"></path><path d=\"M238.26666666666668,247.6923076923077h0.03999999999999204v13.84615384615384h-0.03999999999999204Z\" style=\"fill: #4c78a8; fill-opacity: 1; stroke: #505050; stroke-width: 0;\"></path><path d=\"M238.3111111111111,247.6923076923077h0.03999999999999204v13.84615384615384h-0.03999999999999204Z\" style=\"fill: #4c78a8; fill-opacity: 1; stroke: #505050; stroke-width: 0;\"></path><path d=\"M239.6,263.0769230769231h36.6622222222222v13.846153846153811h-36.6622222222222Z\" style=\"fill: #f58518; fill-opacity: 1; stroke: #505050; stroke-width: 0;\"></path><path d=\"M239.6,247.6923076923077h12.306666666666644v13.84615384615384h-12.306666666666644Z\" style=\"fill: #f58518; fill-opacity: 1; stroke: #505050; stroke-width: 0;\"></path><path d=\"M239.6,232.3076923076923h8.617777777777775v13.846153846153868h-8.617777777777775Z\" style=\"fill: #4c78a8; fill-opacity: 1; stroke: #505050; stroke-width: 0;\"></path><path d=\"M239.6,216.9230769230769h8.617777777777775v13.84615384615384h-8.617777777777775Z\" style=\"fill: #4c78a8; fill-opacity: 1; stroke: #505050; stroke-width: 0;\"></path><path d=\"M239.6,201.53846153846155h8.617777777777775v13.84615384615384h-8.617777777777775Z\" style=\"fill: #4c78a8; fill-opacity: 1; stroke: #505050; stroke-width: 0;\"></path><path d=\"M239.6,186.15384615384616h7.551111111111112v13.84615384615384h-7.551111111111112Z\" style=\"fill: #4c78a8; fill-opacity: 1; stroke: #505050; stroke-width: 0;\"></path><path d=\"M239.6,170.76923076923077h7.506666666666632v13.84615384615384h-7.506666666666632Z\" style=\"fill: #f58518; fill-opacity: 1; stroke: #505050; stroke-width: 0;\"></path><path d=\"M239.6,155.38461538461536h6.928888888888906v13.846153846153896h-6.928888888888906Z\" style=\"fill: #f58518; fill-opacity: 1; stroke: #505050; stroke-width: 0;\"></path><path d=\"M247.11111111111111,170.76923076923077h0.03999999999999204v13.84615384615384h-0.03999999999999204Z\" style=\"fill: #4c78a8; fill-opacity: 1; stroke: #505050; stroke-width: 0;\"></path><path d=\"M247.11111111111111,155.38461538461536h0.03999999999999204v13.846153846153896h-0.03999999999999204Z\" style=\"fill: #f58518; fill-opacity: 1; stroke: #505050; stroke-width: 0;\"></path><path d=\"M247.15555555555557,186.15384615384616h1.0622222222222035v13.84615384615384h-1.0622222222222035Z\" style=\"fill: #f58518; fill-opacity: 1; stroke: #505050; stroke-width: 0;\"></path><path d=\"M248.2222222222222,232.3076923076923h3.284444444444432v13.846153846153868h-3.284444444444432Z\" style=\"fill: #4c78a8; fill-opacity: 1; stroke: #505050; stroke-width: 0;\"></path><path d=\"M248.2222222222222,216.9230769230769h3.1955555555555293v13.84615384615384h-3.1955555555555293Z\" style=\"fill: #4c78a8; fill-opacity: 1; stroke: #505050; stroke-width: 0;\"></path><path d=\"M248.2222222222222,201.53846153846155h0.08444444444444343v13.84615384615384h-0.08444444444444343Z\" style=\"fill: #4c78a8; fill-opacity: 1; stroke: #505050; stroke-width: 0;\"></path><path d=\"M248.3111111111111,201.53846153846155h2.7511111111111006v13.84615384615384h-2.7511111111111006Z\" style=\"fill: #4c78a8; fill-opacity: 1; stroke: #505050; stroke-width: 0;\"></path><path d=\"M248.3111111111111,186.15384615384616h2.7066666666666492v13.84615384615384h-2.7066666666666492Z\" style=\"fill: #f58518; fill-opacity: 1; stroke: #505050; stroke-width: 0;\"></path><path d=\"M248.3111111111111,170.76923076923077h2.2622222222222206v13.84615384615384h-2.2622222222222206Z\" style=\"fill: #4c78a8; fill-opacity: 1; stroke: #505050; stroke-width: 0;\"></path><path d=\"M251.0222222222222,186.15384615384616h0.03999999999999204v13.84615384615384h-0.03999999999999204Z\" style=\"fill: #4c78a8; fill-opacity: 1; stroke: #505050; stroke-width: 0;\"></path><path d=\"M251.0222222222222,170.76923076923077h0.03999999999999204v13.84615384615384h-0.03999999999999204Z\" style=\"fill: #f58518; fill-opacity: 1; stroke: #505050; stroke-width: 0;\"></path><path d=\"M251.0666666666667,201.53846153846155h0.3511111111110381v13.84615384615384h-0.3511111111110381Z\" style=\"fill: #4c78a8; fill-opacity: 1; stroke: #505050; stroke-width: 0;\"></path><path d=\"M251.9111111111111,247.6923076923077h0.040000000000020464v13.84615384615384h-0.040000000000020464Z\" style=\"fill: #4c78a8; fill-opacity: 1; stroke: #505050; stroke-width: 0;\"></path><path d=\"M259.02222222222224,247.6923076923077h1.0622222222222035v13.84615384615384h-1.0622222222222035Z\" style=\"fill: #f58518; fill-opacity: 1; stroke: #505050; stroke-width: 0;\"></path><path d=\"M260.0888888888889,247.6923076923077h0.17333333333328937v13.84615384615384h-0.17333333333328937Z\" style=\"fill: #4c78a8; fill-opacity: 1; stroke: #505050; stroke-width: 0;\"></path><path d=\"M275.2,247.6923076923077h0.08444444444444343v13.84615384615384h-0.08444444444444343Z\" style=\"fill: #4c78a8; fill-opacity: 1; stroke: #505050; stroke-width: 0;\"></path><path d=\"M276.26666666666665,263.0769230769231h31.46222222222218v13.846153846153811h-31.46222222222218Z\" style=\"fill: #f58518; fill-opacity: 1; stroke: #505050; stroke-width: 0;\"></path><path d=\"M276.26666666666665,247.6923076923077h0.040000000000020464v13.84615384615384h-0.040000000000020464Z\" style=\"fill: #4c78a8; fill-opacity: 1; stroke: #505050; stroke-width: 0;\"></path><path d=\"M276.26666666666665,232.3076923076923h0.040000000000020464v13.846153846153868h-0.040000000000020464Z\" style=\"fill: #4c78a8; fill-opacity: 1; stroke: #505050; stroke-width: 0;\"></path><path d=\"M302.7111111111111,247.6923076923077h0.040000000000020464v13.84615384615384h-0.040000000000020464Z\" style=\"fill: #4c78a8; fill-opacity: 1; stroke: #505050; stroke-width: 0;\"></path><path d=\"M302.84444444444443,247.6923076923077h1.9511111111111177v13.84615384615384h-1.9511111111111177Z\" style=\"fill: #4c78a8; fill-opacity: 1; stroke: #505050; stroke-width: 0;\"></path><path d=\"M304.8,247.6923076923077h0.17333333333328937v13.84615384615384h-0.17333333333328937Z\" style=\"fill: #4c78a8; fill-opacity: 1; stroke: #505050; stroke-width: 0;\"></path><path d=\"M307.3333333333333,247.6923076923077h0.040000000000020464v13.84615384615384h-0.040000000000020464Z\" style=\"fill: #4c78a8; fill-opacity: 1; stroke: #505050; stroke-width: 0;\"></path><path d=\"M307.3777777777778,247.6923076923077h0.03999999999996362v13.84615384615384h-0.03999999999996362Z\" style=\"fill: #4c78a8; fill-opacity: 1; stroke: #505050; stroke-width: 0;\"></path><path d=\"M307.3777777777778,232.3076923076923h0.03999999999996362v13.846153846153868h-0.03999999999996362Z\" style=\"fill: #4c78a8; fill-opacity: 1; stroke: #505050; stroke-width: 0;\"></path><path d=\"M307.4666666666667,247.6923076923077h0.03999999999996362v13.84615384615384h-0.03999999999996362Z\" style=\"fill: #4c78a8; fill-opacity: 1; stroke: #505050; stroke-width: 0;\"></path><path d=\"M307.73333333333335,263.0769230769231h34.48444444444442v13.846153846153811h-34.48444444444442Z\" style=\"fill: #f58518; fill-opacity: 1; stroke: #505050; stroke-width: 0;\"></path><path d=\"M307.73333333333335,247.6923076923077h16.92888888888882v13.84615384615384h-16.92888888888882Z\" style=\"fill: #f58518; fill-opacity: 1; stroke: #505050; stroke-width: 0;\"></path><path d=\"M307.73333333333335,232.3076923076923h2.884444444444398v13.846153846153868h-2.884444444444398Z\" style=\"fill: #4c78a8; fill-opacity: 1; stroke: #505050; stroke-width: 0;\"></path><path d=\"M307.73333333333335,216.9230769230769h2.884444444444398v13.84615384615384h-2.884444444444398Z\" style=\"fill: #4c78a8; fill-opacity: 1; stroke: #505050; stroke-width: 0;\"></path><path d=\"M307.73333333333335,201.53846153846155h2.884444444444398v13.84615384615384h-2.884444444444398Z\" style=\"fill: #4c78a8; fill-opacity: 1; stroke: #505050; stroke-width: 0;\"></path><path d=\"M307.73333333333335,186.15384615384616h1.9066666666666379v13.84615384615384h-1.9066666666666379Z\" style=\"fill: #4c78a8; fill-opacity: 1; stroke: #505050; stroke-width: 0;\"></path><path d=\"M307.73333333333335,170.76923076923077h1.7733333333333121v13.84615384615384h-1.7733333333333121Z\" style=\"fill: #f58518; fill-opacity: 1; stroke: #505050; stroke-width: 0;\"></path><path d=\"M307.73333333333335,155.38461538461536h1.328888888888855v13.846153846153896h-1.328888888888855Z\" style=\"fill: #4c78a8; fill-opacity: 1; stroke: #505050; stroke-width: 0;\"></path><path d=\"M309.5111111111111,170.76923076923077h0.1288888888888664v13.84615384615384h-0.1288888888888664Z\" style=\"fill: #4c78a8; fill-opacity: 1; stroke: #505050; stroke-width: 0;\"></path><path d=\"M309.5111111111111,155.38461538461536h0.1288888888888664v13.846153846153896h-0.1288888888888664Z\" style=\"fill: #f58518; fill-opacity: 1; stroke: #505050; stroke-width: 0;\"></path><path d=\"M309.64444444444445,186.15384615384616h0.9288888888888778v13.84615384615384h-0.9288888888888778Z\" style=\"fill: #4c78a8; fill-opacity: 1; stroke: #505050; stroke-width: 0;\"></path><path d=\"M310.6222222222222,232.3076923076923h4.217777777777769v13.846153846153868h-4.217777777777769Z\" style=\"fill: #4c78a8; fill-opacity: 1; stroke: #505050; stroke-width: 0;\"></path><path d=\"M310.6222222222222,216.9230769230769h4.173333333333346v13.84615384615384h-4.173333333333346Z\" style=\"fill: #4c78a8; fill-opacity: 1; stroke: #505050; stroke-width: 0;\"></path><path d=\"M310.6222222222222,201.53846153846155h0.9733333333333576v13.84615384615384h-0.9733333333333576Z\" style=\"fill: #4c78a8; fill-opacity: 1; stroke: #505050; stroke-width: 0;\"></path><path d=\"M311.6,201.53846153846155h2.751111111111072v13.84615384615384h-2.751111111111072Z\" style=\"fill: #4c78a8; fill-opacity: 1; stroke: #505050; stroke-width: 0;\"></path><path d=\"M311.6,186.15384615384616h2.7066666666666492v13.84615384615384h-2.7066666666666492Z\" style=\"fill: #f58518; fill-opacity: 1; stroke: #505050; stroke-width: 0;\"></path><path d=\"M311.6,170.76923076923077h2.0844444444443866v13.84615384615384h-2.0844444444443866Z\" style=\"fill: #f58518; fill-opacity: 1; stroke: #505050; stroke-width: 0;\"></path><path d=\"M314.31111111111113,186.15384615384616h0.03999999999996362v13.84615384615384h-0.03999999999996362Z\" style=\"fill: #4c78a8; fill-opacity: 1; stroke: #505050; stroke-width: 0;\"></path><path d=\"M314.31111111111113,170.76923076923077h0.03999999999996362v13.84615384615384h-0.03999999999996362Z\" style=\"fill: #f58518; fill-opacity: 1; stroke: #505050; stroke-width: 0;\"></path><path d=\"M314.35555555555555,201.53846153846155h0.39555555555557476v13.84615384615384h-0.39555555555557476Z\" style=\"fill: #4c78a8; fill-opacity: 1; stroke: #505050; stroke-width: 0;\"></path><path d=\"M314.75555555555553,201.53846153846155h0.040000000000020464v13.84615384615384h-0.040000000000020464Z\" style=\"fill: #4c78a8; fill-opacity: 1; stroke: #505050; stroke-width: 0;\"></path><path d=\"M314.75555555555553,186.15384615384616h0.040000000000020464v13.84615384615384h-0.040000000000020464Z\" style=\"fill: #4c78a8; fill-opacity: 1; stroke: #505050; stroke-width: 0;\"></path><path d=\"M314.84444444444443,232.3076923076923h0.040000000000020464v13.846153846153868h-0.040000000000020464Z\" style=\"fill: #4c78a8; fill-opacity: 1; stroke: #505050; stroke-width: 0;\"></path><path d=\"M331.3777777777778,247.6923076923077h8.217777777777712v13.84615384615384h-8.217777777777712Z\" style=\"fill: #f58518; fill-opacity: 1; stroke: #505050; stroke-width: 0;\"></path><path d=\"M339.59999999999997,247.6923076923077h0.12888888888892325v13.84615384615384h-0.12888888888892325Z\" style=\"fill: #4c78a8; fill-opacity: 1; stroke: #505050; stroke-width: 0;\"></path><path d=\"M340.44444444444446,247.6923076923077h0.03999999999996362v13.84615384615384h-0.03999999999996362Z\" style=\"fill: #4c78a8; fill-opacity: 1; stroke: #505050; stroke-width: 0;\"></path><path d=\"M340.44444444444446,232.3076923076923h0.03999999999996362v13.846153846153868h-0.03999999999996362Z\" style=\"fill: #4c78a8; fill-opacity: 1; stroke: #505050; stroke-width: 0;\"></path><path d=\"M340.4888888888889,247.6923076923077h0.040000000000020464v13.84615384615384h-0.040000000000020464Z\" style=\"fill: #4c78a8; fill-opacity: 1; stroke: #505050; stroke-width: 0;\"></path><path d=\"M342.22222222222223,263.0769230769231h27.50666666666666v13.846153846153811h-27.50666666666666Z\" style=\"fill: #f58518; fill-opacity: 1; stroke: #505050; stroke-width: 0;\"></path><path d=\"M342.22222222222223,247.6923076923077h17.551111111111084v13.84615384615384h-17.551111111111084Z\" style=\"fill: #f58518; fill-opacity: 1; stroke: #505050; stroke-width: 0;\"></path><path d=\"M342.22222222222223,232.3076923076923h14.439999999999998v13.846153846153868h-14.439999999999998Z\" style=\"fill: #4c78a8; fill-opacity: 1; stroke: #505050; stroke-width: 0;\"></path><path d=\"M342.22222222222223,216.9230769230769h14.439999999999998v13.84615384615384h-14.439999999999998Z\" style=\"fill: #4c78a8; fill-opacity: 1; stroke: #505050; stroke-width: 0;\"></path><path d=\"M342.22222222222223,201.53846153846155h14.351111111111095v13.84615384615384h-14.351111111111095Z\" style=\"fill: #4c78a8; fill-opacity: 1; stroke: #505050; stroke-width: 0;\"></path><path d=\"M342.22222222222223,186.15384615384616h13.328888888888855v13.84615384615384h-13.328888888888855Z\" style=\"fill: #4c78a8; fill-opacity: 1; stroke: #505050; stroke-width: 0;\"></path><path d=\"M342.22222222222223,170.76923076923077h13.284444444444432v13.84615384615384h-13.284444444444432Z\" style=\"fill: #f58518; fill-opacity: 1; stroke: #505050; stroke-width: 0;\"></path><path d=\"M342.22222222222223,155.38461538461536h12.795555555555495v13.846153846153896h-12.795555555555495Z\" style=\"fill: #f58518; fill-opacity: 1; stroke: #505050; stroke-width: 0;\"></path><path d=\"M355.5111111111111,170.76923076923077h0.03999999999996362v13.84615384615384h-0.03999999999996362Z\" style=\"fill: #4c78a8; fill-opacity: 1; stroke: #505050; stroke-width: 0;\"></path><path d=\"M355.5111111111111,155.38461538461536h0.03999999999996362v13.846153846153896h-0.03999999999996362Z\" style=\"fill: #4c78a8; fill-opacity: 1; stroke: #505050; stroke-width: 0;\"></path><path d=\"M355.55555555555554,186.15384615384616h1.0177777777777806v13.84615384615384h-1.0177777777777806Z\" style=\"fill: #f58518; fill-opacity: 1; stroke: #505050; stroke-width: 0;\"></path><path d=\"M356.6666666666667,232.3076923076923h2.751111111111072v13.846153846153868h-2.751111111111072Z\" style=\"fill: #4c78a8; fill-opacity: 1; stroke: #505050; stroke-width: 0;\"></path><path d=\"M356.6666666666667,216.9230769230769h2.7066666666666492v13.84615384615384h-2.7066666666666492Z\" style=\"fill: #4c78a8; fill-opacity: 1; stroke: #505050; stroke-width: 0;\"></path><path d=\"M356.6666666666667,201.53846153846155h0.4399999999999409v13.84615384615384h-0.4399999999999409Z\" style=\"fill: #4c78a8; fill-opacity: 1; stroke: #505050; stroke-width: 0;\"></path><path d=\"M357.1111111111111,201.53846153846155h2.0844444444444434v13.84615384615384h-2.0844444444444434Z\" style=\"fill: #4c78a8; fill-opacity: 1; stroke: #505050; stroke-width: 0;\"></path><path d=\"M357.1111111111111,186.15384615384616h2.0400000000000205v13.84615384615384h-2.0400000000000205Z\" style=\"fill: #f58518; fill-opacity: 1; stroke: #505050; stroke-width: 0;\"></path><path d=\"M357.1111111111111,170.76923076923077h1.6844444444444662v13.84615384615384h-1.6844444444444662Z\" style=\"fill: #4c78a8; fill-opacity: 1; stroke: #505050; stroke-width: 0;\"></path><path d=\"M357.1111111111111,155.38461538461536h0.040000000000020464v13.846153846153896h-0.040000000000020464Z\" style=\"fill: #4c78a8; fill-opacity: 1; stroke: #505050; stroke-width: 0;\"></path><path d=\"M357.1111111111111,140.00000000000003h0.040000000000020464v13.846153846153811h-0.040000000000020464Z\" style=\"fill: #4c78a8; fill-opacity: 1; stroke: #505050; stroke-width: 0;\"></path><path d=\"M357.1111111111111,124.61538461538461h0.040000000000020464v13.84615384615384h-0.040000000000020464Z\" style=\"fill: #4c78a8; fill-opacity: 1; stroke: #505050; stroke-width: 0;\"></path><path d=\"M357.1111111111111,109.23076923076924h0.040000000000020464v13.84615384615384h-0.040000000000020464Z\" style=\"fill: #4c78a8; fill-opacity: 1; stroke: #505050; stroke-width: 0;\"></path><path d=\"M357.1111111111111,93.84615384615387h0.040000000000020464v13.84615384615384h-0.040000000000020464Z\" style=\"fill: #4c78a8; fill-opacity: 1; stroke: #505050; stroke-width: 0;\"></path><path d=\"M357.1111111111111,78.4615384615385h0.040000000000020464v13.846153846153797h-0.040000000000020464Z\" style=\"fill: #4c78a8; fill-opacity: 1; stroke: #505050; stroke-width: 0;\"></path><path d=\"M359.15555555555557,186.15384615384616h0.03999999999996362v13.84615384615384h-0.03999999999996362Z\" style=\"fill: #4c78a8; fill-opacity: 1; stroke: #505050; stroke-width: 0;\"></path><path d=\"M359.15555555555557,170.76923076923077h0.03999999999996362v13.84615384615384h-0.03999999999996362Z\" style=\"fill: #4c78a8; fill-opacity: 1; stroke: #505050; stroke-width: 0;\"></path><path d=\"M359.2,201.53846153846155h0.1288888888888664v13.84615384615384h-0.1288888888888664Z\" style=\"fill: #4c78a8; fill-opacity: 1; stroke: #505050; stroke-width: 0;\"></path><path d=\"M359.3333333333333,201.53846153846155h0.040000000000020464v13.84615384615384h-0.040000000000020464Z\" style=\"fill: #4c78a8; fill-opacity: 1; stroke: #505050; stroke-width: 0;\"></path><path d=\"M359.3333333333333,186.15384615384616h0.040000000000020464v13.84615384615384h-0.040000000000020464Z\" style=\"fill: #4c78a8; fill-opacity: 1; stroke: #505050; stroke-width: 0;\"></path><path d=\"M367.2888888888889,247.6923076923077h0.6622222222221694v13.84615384615384h-0.6622222222221694Z\" style=\"fill: #f58518; fill-opacity: 1; stroke: #505050; stroke-width: 0;\"></path><path d=\"M367.9555555555555,247.6923076923077h0.17333333333334622v13.84615384615384h-0.17333333333334622Z\" style=\"fill: #4c78a8; fill-opacity: 1; stroke: #505050; stroke-width: 0;\"></path><path d=\"M368.75555555555553,247.6923076923077h0.040000000000020464v13.84615384615384h-0.040000000000020464Z\" style=\"fill: #4c78a8; fill-opacity: 1; stroke: #505050; stroke-width: 0;\"></path><path d=\"M368.8,247.6923076923077h0.03999999999996362v13.84615384615384h-0.03999999999996362Z\" style=\"fill: #4c78a8; fill-opacity: 1; stroke: #505050; stroke-width: 0;\"></path><path d=\"M368.84444444444443,247.6923076923077h0.040000000000020464v13.84615384615384h-0.040000000000020464Z\" style=\"fill: #4c78a8; fill-opacity: 1; stroke: #505050; stroke-width: 0;\"></path><path d=\"M369.73333333333335,263.0769230769231h31.373333333333278v13.846153846153811h-31.373333333333278Z\" style=\"fill: #f58518; fill-opacity: 1; stroke: #505050; stroke-width: 0;\"></path><path d=\"M369.73333333333335,247.6923076923077h0.03999999999996362v13.84615384615384h-0.03999999999996362Z\" style=\"fill: #4c78a8; fill-opacity: 1; stroke: #505050; stroke-width: 0;\"></path><path d=\"M369.73333333333335,232.3076923076923h0.03999999999996362v13.846153846153868h-0.03999999999996362Z\" style=\"fill: #4c78a8; fill-opacity: 1; stroke: #505050; stroke-width: 0;\"></path><path d=\"M387.59999999999997,247.6923076923077h1.5066666666667174v13.84615384615384h-1.5066666666667174Z\" style=\"fill: #4c78a8; fill-opacity: 1; stroke: #505050; stroke-width: 0;\"></path><path d=\"M389.1111111111111,247.6923076923077h0.040000000000020464v13.84615384615384h-0.040000000000020464Z\" style=\"fill: #4c78a8; fill-opacity: 1; stroke: #505050; stroke-width: 0;\"></path><path d=\"M400.4888888888889,247.6923076923077h0.040000000000020464v13.84615384615384h-0.040000000000020464Z\" style=\"fill: #4c78a8; fill-opacity: 1; stroke: #505050; stroke-width: 0;\"></path><path d=\"M400.53333333333336,247.6923076923077h0.08444444444438659v13.84615384615384h-0.08444444444438659Z\" style=\"fill: #4c78a8; fill-opacity: 1; stroke: #505050; stroke-width: 0;\"></path><path d=\"M400.53333333333336,232.3076923076923h0.040000000000020464v13.846153846153868h-0.040000000000020464Z\" style=\"fill: #4c78a8; fill-opacity: 1; stroke: #505050; stroke-width: 0;\"></path><path d=\"M400.6666666666667,247.6923076923077h0.040000000000020464v13.84615384615384h-0.040000000000020464Z\" style=\"fill: #4c78a8; fill-opacity: 1; stroke: #505050; stroke-width: 0;\"></path><path d=\"M400.71111111111117,247.6923076923077h0.03999999999990678v13.84615384615384h-0.03999999999990678Z\" style=\"fill: #4c78a8; fill-opacity: 1; stroke: #505050; stroke-width: 0;\"></path><path d=\"M401.1111111111111,263.0769230769231h38.57333333333338v13.846153846153811h-38.57333333333338Z\" style=\"fill: #f58518; fill-opacity: 1; stroke: #505050; stroke-width: 0;\"></path><path d=\"M401.1111111111111,247.6923076923077h26.26222222222225v13.84615384615384h-26.26222222222225Z\" style=\"fill: #f58518; fill-opacity: 1; stroke: #505050; stroke-width: 0;\"></path><path d=\"M401.1111111111111,232.3076923076923h25.77333333333337v13.846153846153868h-25.77333333333337Z\" style=\"fill: #4c78a8; fill-opacity: 1; stroke: #505050; stroke-width: 0;\"></path><path d=\"M401.1111111111111,216.9230769230769h25.77333333333337v13.84615384615384h-25.77333333333337Z\" style=\"fill: #4c78a8; fill-opacity: 1; stroke: #505050; stroke-width: 0;\"></path><path d=\"M401.1111111111111,201.53846153846155h24.262222222222192v13.84615384615384h-24.262222222222192Z\" style=\"fill: #4c78a8; fill-opacity: 1; stroke: #505050; stroke-width: 0;\"></path><path d=\"M401.1111111111111,186.15384615384616h23.995555555555597v13.84615384615384h-23.995555555555597Z\" style=\"fill: #f58518; fill-opacity: 1; stroke: #505050; stroke-width: 0;\"></path><path d=\"M401.1111111111111,170.76923076923077h2.173333333333403v13.84615384615384h-2.173333333333403Z\" style=\"fill: #f58518; fill-opacity: 1; stroke: #505050; stroke-width: 0;\"></path><path d=\"M425.11111111111114,186.15384615384616h0.2622222222221353v13.84615384615384h-0.2622222222221353Z\" style=\"fill: #4c78a8; fill-opacity: 1; stroke: #505050; stroke-width: 0;\"></path><path d=\"M425.11111111111114,170.76923076923077h0.2622222222221353v13.84615384615384h-0.2622222222221353Z\" style=\"fill: #f58518; fill-opacity: 1; stroke: #505050; stroke-width: 0;\"></path><path d=\"M425.37777777777774,201.53846153846155h1.4622222222222376v13.84615384615384h-1.4622222222222376Z\" style=\"fill: #f58518; fill-opacity: 1; stroke: #505050; stroke-width: 0;\"></path><path d=\"M426.8888888888889,232.3076923076923h0.040000000000020464v13.846153846153868h-0.040000000000020464Z\" style=\"fill: #4c78a8; fill-opacity: 1; stroke: #505050; stroke-width: 0;\"></path><path d=\"M435.8666666666666,247.6923076923077h1.1955555555555861v13.84615384615384h-1.1955555555555861Z\" style=\"fill: #f58518; fill-opacity: 1; stroke: #505050; stroke-width: 0;\"></path><path d=\"M437.06666666666666,247.6923076923077h0.35111111111109494v13.84615384615384h-0.35111111111109494Z\" style=\"fill: #4c78a8; fill-opacity: 1; stroke: #505050; stroke-width: 0;\"></path><path d=\"M438.1333333333333,247.6923076923077h0.03999999999996362v13.84615384615384h-0.03999999999996362Z\" style=\"fill: #4c78a8; fill-opacity: 1; stroke: #505050; stroke-width: 0;\"></path><path d=\"M439.6888888888889,263.0769230769231h36.484444444444364v13.846153846153811h-36.484444444444364Z\" style=\"fill: #f58518; fill-opacity: 1; stroke: #505050; stroke-width: 0;\"></path><path d=\"M439.6888888888889,247.6923076923077h24.884444444444398v13.84615384615384h-24.884444444444398Z\" style=\"fill: #f58518; fill-opacity: 1; stroke: #505050; stroke-width: 0;\"></path><path d=\"M439.6888888888889,232.3076923076923h14.884444444444341v13.846153846153868h-14.884444444444341Z\" style=\"fill: #4c78a8; fill-opacity: 1; stroke: #505050; stroke-width: 0;\"></path><path d=\"M439.6888888888889,216.9230769230769h14.884444444444341v13.84615384615384h-14.884444444444341Z\" style=\"fill: #4c78a8; fill-opacity: 1; stroke: #505050; stroke-width: 0;\"></path><path d=\"M439.6888888888889,201.53846153846155h13.239999999999952v13.84615384615384h-13.239999999999952Z\" style=\"fill: #4c78a8; fill-opacity: 1; stroke: #505050; stroke-width: 0;\"></path><path d=\"M439.6888888888889,186.15384615384616h13.15111111111105v13.84615384615384h-13.15111111111105Z\" style=\"fill: #f58518; fill-opacity: 1; stroke: #505050; stroke-width: 0;\"></path><path d=\"M439.6888888888889,170.76923076923077h2.306666666666615v13.84615384615384h-2.306666666666615Z\" style=\"fill: #4c78a8; fill-opacity: 1; stroke: #505050; stroke-width: 0;\"></path><path d=\"M452.84444444444443,186.15384615384616h0.08444444444444343v13.84615384615384h-0.08444444444444343Z\" style=\"fill: #4c78a8; fill-opacity: 1; stroke: #505050; stroke-width: 0;\"></path><path d=\"M452.84444444444443,170.76923076923077h0.08444444444444343v13.84615384615384h-0.08444444444444343Z\" style=\"fill: #f58518; fill-opacity: 1; stroke: #505050; stroke-width: 0;\"></path><path d=\"M452.9333333333334,201.53846153846155h1.5955555555555065v13.84615384615384h-1.5955555555555065Z\" style=\"fill: #f58518; fill-opacity: 1; stroke: #505050; stroke-width: 0;\"></path><path d=\"M473.5555555555556,247.6923076923077h0.7955555555554952v13.84615384615384h-0.7955555555554952Z\" style=\"fill: #f58518; fill-opacity: 1; stroke: #505050; stroke-width: 0;\"></path><path d=\"M475.2888888888889,247.6923076923077h0.08444444444438659v13.84615384615384h-0.08444444444438659Z\" style=\"fill: #4c78a8; fill-opacity: 1; stroke: #505050; stroke-width: 0;\"></path><path d=\"M475.37777777777774,247.6923076923077h0.040000000000020464v13.84615384615384h-0.040000000000020464Z\" style=\"fill: #4c78a8; fill-opacity: 1; stroke: #505050; stroke-width: 0;\"></path><path d=\"M476.17777777777775,263.0769230769231h9.151111111111106v13.846153846153811h-9.151111111111106Z\" style=\"fill: #f58518; fill-opacity: 1; stroke: #505050; stroke-width: 0;\"></path><path d=\"M476.17777777777775,247.6923076923077h0.040000000000020464v13.84615384615384h-0.040000000000020464Z\" style=\"fill: #4c78a8; fill-opacity: 1; stroke: #505050; stroke-width: 0;\"></path><path d=\"M483.8222222222222,247.6923076923077h0.6622222222222263v13.84615384615384h-0.6622222222222263Z\" style=\"fill: #4c78a8; fill-opacity: 1; stroke: #505050; stroke-width: 0;\"></path><path d=\"M485.1111111111111,247.6923076923077h0.040000000000020464v13.84615384615384h-0.040000000000020464Z\" style=\"fill: #4c78a8; fill-opacity: 1; stroke: #505050; stroke-width: 0;\"></path><path d=\"M485.1111111111111,232.3076923076923h0.040000000000020464v13.846153846153868h-0.040000000000020464Z\" style=\"fill: #4c78a8; fill-opacity: 1; stroke: #505050; stroke-width: 0;\"></path><path d=\"M485.20000000000005,247.6923076923077h0.03999999999996362v13.84615384615384h-0.03999999999996362Z\" style=\"fill: #4c78a8; fill-opacity: 1; stroke: #505050; stroke-width: 0;\"></path><path d=\"M485.33333333333337,263.0769230769231h29.017777777777724v13.846153846153811h-29.017777777777724Z\" style=\"fill: #f58518; fill-opacity: 1; stroke: #505050; stroke-width: 0;\"></path><path d=\"M485.33333333333337,247.6923076923077h5.817777777777792v13.84615384615384h-5.817777777777792Z\" style=\"fill: #f58518; fill-opacity: 1; stroke: #505050; stroke-width: 0;\"></path><path d=\"M485.33333333333337,232.3076923076923h3.817777777777735v13.846153846153868h-3.817777777777735Z\" style=\"fill: #4c78a8; fill-opacity: 1; stroke: #505050; stroke-width: 0;\"></path><path d=\"M485.33333333333337,216.9230769230769h3.817777777777735v13.84615384615384h-3.817777777777735Z\" style=\"fill: #4c78a8; fill-opacity: 1; stroke: #505050; stroke-width: 0;\"></path><path d=\"M485.33333333333337,201.53846153846155h2.4399999999999977v13.84615384615384h-2.4399999999999977Z\" style=\"fill: #4c78a8; fill-opacity: 1; stroke: #505050; stroke-width: 0;\"></path><path d=\"M485.33333333333337,186.15384615384616h2.395555555555518v13.84615384615384h-2.395555555555518Z\" style=\"fill: #f58518; fill-opacity: 1; stroke: #505050; stroke-width: 0;\"></path><path d=\"M485.33333333333337,170.76923076923077h2.0399999999999068v13.84615384615384h-2.0399999999999068Z\" style=\"fill: #4c78a8; fill-opacity: 1; stroke: #505050; stroke-width: 0;\"></path><path d=\"M487.73333333333335,186.15384615384616h0.040000000000020464v13.84615384615384h-0.040000000000020464Z\" style=\"fill: #4c78a8; fill-opacity: 1; stroke: #505050; stroke-width: 0;\"></path><path d=\"M487.73333333333335,170.76923076923077h0.040000000000020464v13.84615384615384h-0.040000000000020464Z\" style=\"fill: #f58518; fill-opacity: 1; stroke: #505050; stroke-width: 0;\"></path><path d=\"M487.7777777777778,201.53846153846155h1.3288888888887982v13.84615384615384h-1.3288888888887982Z\" style=\"fill: #f58518; fill-opacity: 1; stroke: #505050; stroke-width: 0;\"></path><path d=\"M489.15555555555557,232.3076923076923h0.9733333333333007v13.846153846153868h-0.9733333333333007Z\" style=\"fill: #4c78a8; fill-opacity: 1; stroke: #505050; stroke-width: 0;\"></path><path d=\"M489.15555555555557,216.9230769230769h0.9733333333333007v13.84615384615384h-0.9733333333333007Z\" style=\"fill: #4c78a8; fill-opacity: 1; stroke: #505050; stroke-width: 0;\"></path><path d=\"M489.15555555555557,201.53846153846155h0.795555555555552v13.84615384615384h-0.795555555555552Z\" style=\"fill: #4c78a8; fill-opacity: 1; stroke: #505050; stroke-width: 0;\"></path><path d=\"M489.15555555555557,186.15384615384616h0.7511111111110722v13.84615384615384h-0.7511111111110722Z\" style=\"fill: #f58518; fill-opacity: 1; stroke: #505050; stroke-width: 0;\"></path><path d=\"M489.15555555555557,170.76923076923077h0.7066666666667061v13.84615384615384h-0.7066666666667061Z\" style=\"fill: #f58518; fill-opacity: 1; stroke: #505050; stroke-width: 0;\"></path><path d=\"M489.9111111111111,186.15384615384616h0.040000000000020464v13.84615384615384h-0.040000000000020464Z\" style=\"fill: #4c78a8; fill-opacity: 1; stroke: #505050; stroke-width: 0;\"></path><path d=\"M489.9111111111111,170.76923076923077h0.040000000000020464v13.84615384615384h-0.040000000000020464Z\" style=\"fill: #f58518; fill-opacity: 1; stroke: #505050; stroke-width: 0;\"></path><path d=\"M489.9555555555556,201.53846153846155h0.12888888888880956v13.84615384615384h-0.12888888888880956Z\" style=\"fill: #4c78a8; fill-opacity: 1; stroke: #505050; stroke-width: 0;\"></path><path d=\"M490.1333333333333,232.3076923076923h0.040000000000020464v13.846153846153868h-0.040000000000020464Z\" style=\"fill: #4c78a8; fill-opacity: 1; stroke: #505050; stroke-width: 0;\"></path><path d=\"M491.1555555555555,247.6923076923077h0.040000000000020464v13.84615384615384h-0.040000000000020464Z\" style=\"fill: #4c78a8; fill-opacity: 1; stroke: #505050; stroke-width: 0;\"></path><path d=\"M499.06666666666666,247.6923076923077h0.7066666666667061v13.84615384615384h-0.7066666666667061Z\" style=\"fill: #f58518; fill-opacity: 1; stroke: #505050; stroke-width: 0;\"></path><path d=\"M499.7777777777777,247.6923076923077h0.1288888888889801v13.84615384615384h-0.1288888888889801Z\" style=\"fill: #4c78a8; fill-opacity: 1; stroke: #505050; stroke-width: 0;\"></path><path d=\"M512.3111111111111,247.6923076923077h0.03999999999996362v13.84615384615384h-0.03999999999996362Z\" style=\"fill: #4c78a8; fill-opacity: 1; stroke: #505050; stroke-width: 0;\"></path><path d=\"M514.3555555555555,263.0769230769231h27.062222222222317v13.846153846153811h-27.062222222222317Z\" style=\"fill: #f58518; fill-opacity: 1; stroke: #505050; stroke-width: 0;\"></path><path d=\"M514.3555555555555,247.6923076923077h14.973333333333471v13.84615384615384h-14.973333333333471Z\" style=\"fill: #f58518; fill-opacity: 1; stroke: #505050; stroke-width: 0;\"></path><path d=\"M514.3555555555555,232.3076923076923h12.884444444444512v13.846153846153868h-12.884444444444512Z\" style=\"fill: #4c78a8; fill-opacity: 1; stroke: #505050; stroke-width: 0;\"></path><path d=\"M514.3555555555555,216.9230769230769h12.884444444444512v13.84615384615384h-12.884444444444512Z\" style=\"fill: #4c78a8; fill-opacity: 1; stroke: #505050; stroke-width: 0;\"></path><path d=\"M514.3555555555555,201.53846153846155h11.773333333333426v13.84615384615384h-11.773333333333426Z\" style=\"fill: #4c78a8; fill-opacity: 1; stroke: #505050; stroke-width: 0;\"></path><path d=\"M514.3555555555555,186.15384615384616h11.728888888888946v13.84615384615384h-11.728888888888946Z\" style=\"fill: #f58518; fill-opacity: 1; stroke: #505050; stroke-width: 0;\"></path><path d=\"M514.3555555555555,170.76923076923077h2.0844444444444434v13.84615384615384h-2.0844444444444434Z\" style=\"fill: #f58518; fill-opacity: 1; stroke: #505050; stroke-width: 0;\"></path><path d=\"M526.088888888889,186.15384615384616h0.03999999999996362v13.84615384615384h-0.03999999999996362Z\" style=\"fill: #4c78a8; fill-opacity: 1; stroke: #505050; stroke-width: 0;\"></path><path d=\"M526.088888888889,170.76923076923077h0.03999999999996362v13.84615384615384h-0.03999999999996362Z\" style=\"fill: #f58518; fill-opacity: 1; stroke: #505050; stroke-width: 0;\"></path><path d=\"M526.1333333333333,201.53846153846155h1.1066666666666833v13.84615384615384h-1.1066666666666833Z\" style=\"fill: #f58518; fill-opacity: 1; stroke: #505050; stroke-width: 0;\"></path><path d=\"M527.2444444444444,232.3076923076923h1.1955555555555293v13.846153846153868h-1.1955555555555293Z\" style=\"fill: #4c78a8; fill-opacity: 1; stroke: #505050; stroke-width: 0;\"></path><path d=\"M527.2444444444444,216.9230769230769h1.1955555555555293v13.84615384615384h-1.1955555555555293Z\" style=\"fill: #4c78a8; fill-opacity: 1; stroke: #505050; stroke-width: 0;\"></path><path d=\"M527.2444444444444,201.53846153846155h1.1066666666666833v13.84615384615384h-1.1066666666666833Z\" style=\"fill: #4c78a8; fill-opacity: 1; stroke: #505050; stroke-width: 0;\"></path><path d=\"M527.2444444444444,186.15384615384616h1.0622222222222035v13.84615384615384h-1.0622222222222035Z\" style=\"fill: #f58518; fill-opacity: 1; stroke: #505050; stroke-width: 0;\"></path><path d=\"M527.2444444444444,170.76923076923077h0.795555555555552v13.84615384615384h-0.795555555555552Z\" style=\"fill: #4c78a8; fill-opacity: 1; stroke: #505050; stroke-width: 0;\"></path><path d=\"M528.3111111111111,186.15384615384616h0.03999999999996362v13.84615384615384h-0.03999999999996362Z\" style=\"fill: #4c78a8; fill-opacity: 1; stroke: #505050; stroke-width: 0;\"></path><path d=\"M528.3555555555555,201.53846153846155h0.08444444444444343v13.84615384615384h-0.08444444444444343Z\" style=\"fill: #4c78a8; fill-opacity: 1; stroke: #505050; stroke-width: 0;\"></path><path d=\"M528.4444444444445,232.3076923076923h0.03999999999996362v13.846153846153868h-0.03999999999996362Z\" style=\"fill: #4c78a8; fill-opacity: 1; stroke: #505050; stroke-width: 0;\"></path><path d=\"M538.9333333333333,247.6923076923077h0.7511111111111859v13.84615384615384h-0.7511111111111859Z\" style=\"fill: #f58518; fill-opacity: 1; stroke: #505050; stroke-width: 0;\"></path><path d=\"M539.688888888889,247.6923076923077h0.2177777777776555v13.84615384615384h-0.2177777777776555Z\" style=\"fill: #4c78a8; fill-opacity: 1; stroke: #505050; stroke-width: 0;\"></path><path d=\"M541.4222222222222,263.0769230769231h63.50666666666666v13.846153846153811h-63.50666666666666Z\" style=\"fill: #f58518; fill-opacity: 1; stroke: #505050; stroke-width: 0;\"></path><path d=\"M541.4222222222222,247.6923076923077h61.86222222222227v13.84615384615384h-61.86222222222227Z\" style=\"fill: #4c78a8; fill-opacity: 1; stroke: #505050; stroke-width: 0;\"></path><path d=\"M541.4222222222222,232.3076923076923h60.97333333333336v13.846153846153868h-60.97333333333336Z\" style=\"fill: #4c78a8; fill-opacity: 1; stroke: #505050; stroke-width: 0;\"></path><path d=\"M541.4222222222222,216.9230769230769h60.79555555555555v13.84615384615384h-60.79555555555555Z\" style=\"fill: #4c78a8; fill-opacity: 1; stroke: #505050; stroke-width: 0;\"></path><path d=\"M541.4222222222222,201.53846153846155h44.973333333333244v13.84615384615384h-44.973333333333244Z\" style=\"fill: #4c78a8; fill-opacity: 1; stroke: #505050; stroke-width: 0;\"></path><path d=\"M541.4222222222222,186.15384615384616h44.48444444444442v13.84615384615384h-44.48444444444442Z\" style=\"fill: #f58518; fill-opacity: 1; stroke: #505050; stroke-width: 0;\"></path><path d=\"M541.4222222222222,170.76923076923077h26.617777777777746v13.84615384615384h-26.617777777777746Z\" style=\"fill: #f58518; fill-opacity: 1; stroke: #505050; stroke-width: 0;\"></path><path d=\"M550.8,155.38461538461536h0.4844444444444207v13.846153846153896h-0.4844444444444207Z\" style=\"fill: #4c78a8; fill-opacity: 1; stroke: #505050; stroke-width: 0;\"></path><path d=\"M550.8,140.00000000000003h0.4844444444444207v13.846153846153811h-0.4844444444444207Z\" style=\"fill: #4c78a8; fill-opacity: 1; stroke: #505050; stroke-width: 0;\"></path><path d=\"M551.3777777777777,155.38461538461536h0.03999999999996362v13.846153846153896h-0.03999999999996362Z\" style=\"fill: #4c78a8; fill-opacity: 1; stroke: #505050; stroke-width: 0;\"></path><path d=\"M551.3777777777777,140.00000000000003h0.03999999999996362v13.846153846153811h-0.03999999999996362Z\" style=\"fill: #4c78a8; fill-opacity: 1; stroke: #505050; stroke-width: 0;\"></path><path d=\"M551.3777777777777,124.61538461538461h0.03999999999996362v13.84615384615384h-0.03999999999996362Z\" style=\"fill: #4c78a8; fill-opacity: 1; stroke: #505050; stroke-width: 0;\"></path><path d=\"M551.3777777777777,109.23076923076924h0.03999999999996362v13.84615384615384h-0.03999999999996362Z\" style=\"fill: #4c78a8; fill-opacity: 1; stroke: #505050; stroke-width: 0;\"></path><path d=\"M551.3777777777777,93.84615384615387h0.03999999999996362v13.84615384615384h-0.03999999999996362Z\" style=\"fill: #4c78a8; fill-opacity: 1; stroke: #505050; stroke-width: 0;\"></path><path d=\"M551.3777777777777,78.4615384615385h0.03999999999996362v13.846153846153797h-0.03999999999996362Z\" style=\"fill: #4c78a8; fill-opacity: 1; stroke: #505050; stroke-width: 0;\"></path><path d=\"M551.3777777777777,63.07692307692312h0.03999999999996362v13.846153846153797h-0.03999999999996362Z\" style=\"fill: #4c78a8; fill-opacity: 1; stroke: #505050; stroke-width: 0;\"></path><path d=\"M551.3777777777777,47.6923076923077h0.03999999999996362v13.84615384615384h-0.03999999999996362Z\" style=\"fill: #4c78a8; fill-opacity: 1; stroke: #505050; stroke-width: 0;\"></path><path d=\"M551.3777777777777,32.30769230769233h0.03999999999996362v13.84615384615384h-0.03999999999996362Z\" style=\"fill: #4c78a8; fill-opacity: 1; stroke: #505050; stroke-width: 0;\"></path><path d=\"M551.3777777777777,16.92307692307695h0.03999999999996362v13.846153846153797h-0.03999999999996362Z\" style=\"fill: #4c78a8; fill-opacity: 1; stroke: #505050; stroke-width: 0;\"></path><path d=\"M551.3777777777777,1.5384615384615774h0.03999999999996362v13.846153846153797h-0.03999999999996362Z\" style=\"fill: #4c78a8; fill-opacity: 1; stroke: #505050; stroke-width: 0;\"></path><path d=\"M585.911111111111,186.15384615384616h0.4844444444444207v13.84615384615384h-0.4844444444444207Z\" style=\"fill: #4c78a8; fill-opacity: 1; stroke: #505050; stroke-width: 0;\"></path><path d=\"M585.911111111111,170.76923076923077h0.39555555555557476v13.84615384615384h-0.39555555555557476Z\" style=\"fill: #f58518; fill-opacity: 1; stroke: #505050; stroke-width: 0;\"></path><path d=\"M586.4,201.53846153846155h15.15111111111105v13.84615384615384h-15.15111111111105Z\" style=\"fill: #f58518; fill-opacity: 1; stroke: #505050; stroke-width: 0;\"></path><path d=\"M602.4,232.3076923076923h0.30666666666661513v13.846153846153868h-0.30666666666661513Z\" style=\"fill: #4c78a8; fill-opacity: 1; stroke: #505050; stroke-width: 0;\"></path><path d=\"M602.4,216.9230769230769h0.30666666666661513v13.84615384615384h-0.30666666666661513Z\" style=\"fill: #4c78a8; fill-opacity: 1; stroke: #505050; stroke-width: 0;\"></path><path d=\"M602.4,201.53846153846155h0.30666666666661513v13.84615384615384h-0.30666666666661513Z\" style=\"fill: #4c78a8; fill-opacity: 1; stroke: #505050; stroke-width: 0;\"></path><path d=\"M602.4,186.15384615384616h0.2177777777777692v13.84615384615384h-0.2177777777777692Z\" style=\"fill: #4c78a8; fill-opacity: 1; stroke: #505050; stroke-width: 0;\"></path><path d=\"M602.6222222222223,186.15384615384616h0.08444444444432975v13.84615384615384h-0.08444444444432975Z\" style=\"fill: #4c78a8; fill-opacity: 1; stroke: #505050; stroke-width: 0;\"></path><path d=\"M602.6222222222223,170.76923076923077h0.08444444444432975v13.84615384615384h-0.08444444444432975Z\" style=\"fill: #4c78a8; fill-opacity: 1; stroke: #505050; stroke-width: 0;\"></path><path d=\"M602.6222222222223,155.38461538461536h0.08444444444432975v13.846153846153896h-0.08444444444432975Z\" style=\"fill: #4c78a8; fill-opacity: 1; stroke: #505050; stroke-width: 0;\"></path><path d=\"M602.7111111111111,232.3076923076923h0.17333333333328937v13.846153846153868h-0.17333333333328937Z\" style=\"fill: #4c78a8; fill-opacity: 1; stroke: #505050; stroke-width: 0;\"></path><path d=\"M603.2888888888889,247.6923076923077h0.03999999999996362v13.84615384615384h-0.03999999999996362Z\" style=\"fill: #4c78a8; fill-opacity: 1; stroke: #505050; stroke-width: 0;\"></path><path d=\"M603.6888888888889,247.6923076923077h1.0622222222222035v13.84615384615384h-1.0622222222222035Z\" style=\"fill: #4c78a8; fill-opacity: 1; stroke: #505050; stroke-width: 0;\"></path><path d=\"M603.6888888888889,232.3076923076923h0.795555555555552v13.846153846153868h-0.795555555555552Z\" style=\"fill: #4c78a8; fill-opacity: 1; stroke: #505050; stroke-width: 0;\"></path><path d=\"M604.9333333333333,263.0769230769231h0.04000000000007731v13.846153846153811h-0.04000000000007731Z\" style=\"fill: #4c78a8; fill-opacity: 1; stroke: #505050; stroke-width: 0;\"></path><path d=\"M604.9777777777778,263.0769230769231h0.08444444444444343v13.846153846153811h-0.08444444444444343Z\" style=\"fill: #4c78a8; fill-opacity: 1; stroke: #505050; stroke-width: 0;\"></path><path d=\"M604.9777777777778,247.6923076923077h0.08444444444444343v13.84615384615384h-0.08444444444444343Z\" style=\"fill: #4c78a8; fill-opacity: 1; stroke: #505050; stroke-width: 0;\"></path><path d=\"M605.0666666666666,263.0769230769231h47.639999999999986v13.846153846153811h-47.639999999999986Z\" style=\"fill: #f58518; fill-opacity: 1; stroke: #505050; stroke-width: 0;\"></path><path d=\"M605.0666666666666,247.6923076923077h40.08444444444444v13.84615384615384h-40.08444444444444Z\" style=\"fill: #4c78a8; fill-opacity: 1; stroke: #505050; stroke-width: 0;\"></path><path d=\"M605.0666666666666,232.3076923076923h39.06222222222232v13.846153846153868h-39.06222222222232Z\" style=\"fill: #4c78a8; fill-opacity: 1; stroke: #505050; stroke-width: 0;\"></path><path d=\"M605.0666666666666,216.9230769230769h38.92888888888899v13.84615384615384h-38.92888888888899Z\" style=\"fill: #4c78a8; fill-opacity: 1; stroke: #505050; stroke-width: 0;\"></path><path d=\"M605.0666666666666,201.53846153846155h30.395555555555575v13.84615384615384h-30.395555555555575Z\" style=\"fill: #4c78a8; fill-opacity: 1; stroke: #505050; stroke-width: 0;\"></path><path d=\"M605.0666666666666,186.15384615384616h29.55111111111114v13.84615384615384h-29.55111111111114Z\" style=\"fill: #f58518; fill-opacity: 1; stroke: #505050; stroke-width: 0;\"></path><path d=\"M605.0666666666666,170.76923076923077h13.106666666666683v13.84615384615384h-13.106666666666683Z\" style=\"fill: #f58518; fill-opacity: 1; stroke: #505050; stroke-width: 0;\"></path><path d=\"M634.6222222222221,186.15384615384616h0.8400000000000318v13.84615384615384h-0.8400000000000318Z\" style=\"fill: #4c78a8; fill-opacity: 1; stroke: #505050; stroke-width: 0;\"></path><path d=\"M634.6222222222221,170.76923076923077h0.8400000000000318v13.84615384615384h-0.8400000000000318Z\" style=\"fill: #f58518; fill-opacity: 1; stroke: #505050; stroke-width: 0;\"></path><path d=\"M635.4666666666667,201.53846153846155h8.17333333333329v13.84615384615384h-8.17333333333329Z\" style=\"fill: #f58518; fill-opacity: 1; stroke: #505050; stroke-width: 0;\"></path><path d=\"M644.1333333333333,232.3076923076923h0.6177777777777465v13.846153846153868h-0.6177777777777465Z\" style=\"fill: #4c78a8; fill-opacity: 1; stroke: #505050; stroke-width: 0;\"></path><path d=\"M644.1333333333333,216.9230769230769h0.6177777777777465v13.84615384615384h-0.6177777777777465Z\" style=\"fill: #4c78a8; fill-opacity: 1; stroke: #505050; stroke-width: 0;\"></path><path d=\"M644.1333333333333,201.53846153846155h0.6177777777777465v13.84615384615384h-0.6177777777777465Z\" style=\"fill: #4c78a8; fill-opacity: 1; stroke: #505050; stroke-width: 0;\"></path><path d=\"M644.1333333333333,186.15384615384616h0.5733333333332666v13.84615384615384h-0.5733333333332666Z\" style=\"fill: #4c78a8; fill-opacity: 1; stroke: #505050; stroke-width: 0;\"></path><path d=\"M644.7111111111111,186.15384615384616h0.03999999999996362v13.84615384615384h-0.03999999999996362Z\" style=\"fill: #4c78a8; fill-opacity: 1; stroke: #505050; stroke-width: 0;\"></path><path d=\"M644.7111111111111,170.76923076923077h0.03999999999996362v13.84615384615384h-0.03999999999996362Z\" style=\"fill: #4c78a8; fill-opacity: 1; stroke: #505050; stroke-width: 0;\"></path><path d=\"M644.7111111111111,155.38461538461536h0.03999999999996362v13.846153846153896h-0.03999999999996362Z\" style=\"fill: #4c78a8; fill-opacity: 1; stroke: #505050; stroke-width: 0;\"></path><path d=\"M644.7555555555556,232.3076923076923h0.2622222222221353v13.846153846153868h-0.2622222222221353Z\" style=\"fill: #4c78a8; fill-opacity: 1; stroke: #505050; stroke-width: 0;\"></path><path d=\"M645.1555555555556,247.6923076923077h0.08444444444444343v13.84615384615384h-0.08444444444444343Z\" style=\"fill: #4c78a8; fill-opacity: 1; stroke: #505050; stroke-width: 0;\"></path><path d=\"M645.2444444444444,247.6923076923077h0.08444444444444343v13.84615384615384h-0.08444444444444343Z\" style=\"fill: #4c78a8; fill-opacity: 1; stroke: #505050; stroke-width: 0;\"></path><path d=\"M650.3111111111111,247.6923076923077h0.08444444444444343v13.84615384615384h-0.08444444444444343Z\" style=\"fill: #4c78a8; fill-opacity: 1; stroke: #505050; stroke-width: 0;\"></path><path d=\"M650.4,247.6923076923077h0.3066666666667288v13.84615384615384h-0.3066666666667288Z\" style=\"fill: #4c78a8; fill-opacity: 1; stroke: #505050; stroke-width: 0;\"></path><path d=\"M651.2888888888889,247.6923076923077h0.03999999999996362v13.84615384615384h-0.03999999999996362Z\" style=\"fill: #4c78a8; fill-opacity: 1; stroke: #505050; stroke-width: 0;\"></path><path d=\"M651.3333333333334,247.6923076923077h0.6622222222222263v13.84615384615384h-0.6622222222222263Z\" style=\"fill: #4c78a8; fill-opacity: 1; stroke: #505050; stroke-width: 0;\"></path><path d=\"M651.3333333333334,232.3076923076923h0.4399999999999409v13.846153846153868h-0.4399999999999409Z\" style=\"fill: #4c78a8; fill-opacity: 1; stroke: #505050; stroke-width: 0;\"></path><path d=\"M652.7111111111111,263.0769230769231h48.83999999999992v13.846153846153811h-48.83999999999992Z\" style=\"fill: #f58518; fill-opacity: 1; stroke: #505050; stroke-width: 0;\"></path><path d=\"M652.7111111111111,247.6923076923077h34.351111111111095v13.84615384615384h-34.351111111111095Z\" style=\"fill: #4c78a8; fill-opacity: 1; stroke: #505050; stroke-width: 0;\"></path><path d=\"M652.7111111111111,232.3076923076923h33.55111111111114v13.846153846153868h-33.55111111111114Z\" style=\"fill: #4c78a8; fill-opacity: 1; stroke: #505050; stroke-width: 0;\"></path><path d=\"M652.7111111111111,216.9230769230769h33.373333333333335v13.84615384615384h-33.373333333333335Z\" style=\"fill: #4c78a8; fill-opacity: 1; stroke: #505050; stroke-width: 0;\"></path><path d=\"M652.7111111111111,201.53846153846155h26.084444444444443v13.84615384615384h-26.084444444444443Z\" style=\"fill: #4c78a8; fill-opacity: 1; stroke: #505050; stroke-width: 0;\"></path><path d=\"M652.7111111111111,186.15384615384616h25.684444444444352v13.84615384615384h-25.684444444444352Z\" style=\"fill: #f58518; fill-opacity: 1; stroke: #505050; stroke-width: 0;\"></path><path d=\"M652.7111111111111,170.76923076923077h21.817777777777792v13.84615384615384h-21.817777777777792Z\" style=\"fill: #f58518; fill-opacity: 1; stroke: #505050; stroke-width: 0;\"></path><path d=\"M678.4,186.15384615384616h0.39555555555557476v13.84615384615384h-0.39555555555557476Z\" style=\"fill: #4c78a8; fill-opacity: 1; stroke: #505050; stroke-width: 0;\"></path><path d=\"M678.4,170.76923076923077h0.39555555555557476v13.84615384615384h-0.39555555555557476Z\" style=\"fill: #f58518; fill-opacity: 1; stroke: #505050; stroke-width: 0;\"></path><path d=\"M678.8000000000001,201.53846153846155h6.706666666666592v13.84615384615384h-6.706666666666592Z\" style=\"fill: #f58518; fill-opacity: 1; stroke: #505050; stroke-width: 0;\"></path><path d=\"M686.2666666666667,232.3076923076923h0.35111111111109494v13.846153846153868h-0.35111111111109494Z\" style=\"fill: #4c78a8; fill-opacity: 1; stroke: #505050; stroke-width: 0;\"></path><path d=\"M686.2666666666667,216.9230769230769h0.35111111111109494v13.84615384615384h-0.35111111111109494Z\" style=\"fill: #4c78a8; fill-opacity: 1; stroke: #505050; stroke-width: 0;\"></path><path d=\"M686.2666666666667,201.53846153846155h0.2622222222221353v13.84615384615384h-0.2622222222221353Z\" style=\"fill: #4c78a8; fill-opacity: 1; stroke: #505050; stroke-width: 0;\"></path><path d=\"M686.5333333333333,201.53846153846155h0.08444444444444343v13.84615384615384h-0.08444444444444343Z\" style=\"fill: #4c78a8; fill-opacity: 1; stroke: #505050; stroke-width: 0;\"></path><path d=\"M686.5333333333333,186.15384615384616h0.08444444444444343v13.84615384615384h-0.08444444444444343Z\" style=\"fill: #4c78a8; fill-opacity: 1; stroke: #505050; stroke-width: 0;\"></path><path d=\"M686.5333333333333,170.76923076923077h0.08444444444444343v13.84615384615384h-0.08444444444444343Z\" style=\"fill: #4c78a8; fill-opacity: 1; stroke: #505050; stroke-width: 0;\"></path><path d=\"M686.6222222222223,232.3076923076923h0.03999999999996362v13.846153846153868h-0.03999999999996362Z\" style=\"fill: #4c78a8; fill-opacity: 1; stroke: #505050; stroke-width: 0;\"></path><path d=\"M687.0666666666667,247.6923076923077h0.12888888888880956v13.84615384615384h-0.12888888888880956Z\" style=\"fill: #4c78a8; fill-opacity: 1; stroke: #505050; stroke-width: 0;\"></path><path d=\"M693.1111111111111,247.6923076923077h0.12888888888880956v13.84615384615384h-0.12888888888880956Z\" style=\"fill: #4c78a8; fill-opacity: 1; stroke: #505050; stroke-width: 0;\"></path><path d=\"M693.1111111111111,232.3076923076923h0.12888888888880956v13.846153846153868h-0.12888888888880956Z\" style=\"fill: #4c78a8; fill-opacity: 1; stroke: #505050; stroke-width: 0;\"></path><path d=\"M693.2444444444444,247.6923076923077h0.2177777777777692v13.84615384615384h-0.2177777777777692Z\" style=\"fill: #4c78a8; fill-opacity: 1; stroke: #505050; stroke-width: 0;\"></path><path d=\"M698.9333333333334,247.6923076923077h0.08444444444432975v13.84615384615384h-0.08444444444432975Z\" style=\"fill: #4c78a8; fill-opacity: 1; stroke: #505050; stroke-width: 0;\"></path><path d=\"M699.0222222222222,247.6923076923077h0.12888888888880956v13.84615384615384h-0.12888888888880956Z\" style=\"fill: #4c78a8; fill-opacity: 1; stroke: #505050; stroke-width: 0;\"></path><path d=\"M700.1777777777778,247.6923076923077h0.03999999999996362v13.84615384615384h-0.03999999999996362Z\" style=\"fill: #4c78a8; fill-opacity: 1; stroke: #505050; stroke-width: 0;\"></path><path d=\"M700.2222222222223,247.6923076923077h0.39555555555546107v13.84615384615384h-0.39555555555546107Z\" style=\"fill: #4c78a8; fill-opacity: 1; stroke: #505050; stroke-width: 0;\"></path><path d=\"M700.2222222222223,232.3076923076923h0.39555555555546107v13.846153846153868h-0.39555555555546107Z\" style=\"fill: #4c78a8; fill-opacity: 1; stroke: #505050; stroke-width: 0;\"></path><path d=\"M701.5555555555555,263.0769230769231h0.03999999999996362v13.846153846153811h-0.03999999999996362Z\" style=\"fill: #4c78a8; fill-opacity: 1; stroke: #505050; stroke-width: 0;\"></path><path d=\"M701.5555555555555,247.6923076923077h0.03999999999996362v13.84615384615384h-0.03999999999996362Z\" style=\"fill: #4c78a8; fill-opacity: 1; stroke: #505050; stroke-width: 0;\"></path><path d=\"M701.6,263.0769230769231h0.03999999999996362v13.846153846153811h-0.03999999999996362Z\" style=\"fill: #4c78a8; fill-opacity: 1; stroke: #505050; stroke-width: 0;\"></path><path d=\"M701.6444444444445,263.0769230769231h0.08444444444432975v13.846153846153811h-0.08444444444432975Z\" style=\"fill: #4c78a8; fill-opacity: 1; stroke: #505050; stroke-width: 0;\"></path><path d=\"M701.7333333333333,263.0769230769231h0.12888888888880956v13.846153846153811h-0.12888888888880956Z\" style=\"fill: #4c78a8; fill-opacity: 1; stroke: #505050; stroke-width: 0;\"></path><path d=\"M704.4,263.0769230769231h0.03999999999996362v13.846153846153811h-0.03999999999996362Z\" style=\"fill: #4c78a8; fill-opacity: 1; stroke: #505050; stroke-width: 0;\"></path><path d=\"M704.4444444444445,263.0769230769231h0.17333333333328937v13.846153846153811h-0.17333333333328937Z\" style=\"fill: #4c78a8; fill-opacity: 1; stroke: #505050; stroke-width: 0;\"></path><path d=\"M704.6222222222223,263.0769230769231h0.12888888888880956v13.846153846153811h-0.12888888888880956Z\" style=\"fill: #4c78a8; fill-opacity: 1; stroke: #505050; stroke-width: 0;\"></path><path d=\"M713.7777777777778,370.7692307692308h0.03999999999996362v13.846153846153868h-0.03999999999996362Z\" style=\"fill: #4c78a8; fill-opacity: 1; stroke: #505050; stroke-width: 0;\"></path><path d=\"M713.8222222222222,370.7692307692308h0.03999999999996362v13.846153846153868h-0.03999999999996362Z\" style=\"fill: #4c78a8; fill-opacity: 1; stroke: #505050; stroke-width: 0;\"></path></g><g class=\"mark-group role-legend\"><g transform=\"translate(0,418)\"><path class=\"background\" d=\"M0,0h288v13h-288Z\" style=\"pointer-events: none; fill: none;\"></path><g><g class=\"mark-group role-legend-entry\"><g transform=\"translate(0,0)\"><path class=\"background\" d=\"M0,0h0v0h0Z\" style=\"pointer-events: none; fill: none;\"></path><g><g class=\"mark-group role-scope\"><g transform=\"translate(0,0.25)\"><path class=\"background\" d=\"M0,0h53v12.5h-53Z\" style=\"pointer-events: none; fill: none; opacity: 1;\"></path><g><g class=\"mark-symbol role-legend-symbol\" style=\"pointer-events: none;\"><path transform=\"translate(6,6)\" d=\"M-5,-5h10v10h-10Z\" style=\"fill: #4c78a8; stroke: #505050; stroke-width: 1.5; opacity: 1;\"></path></g><g class=\"mark-text role-legend-label\" style=\"pointer-events: none;\"><text text-anchor=\"start\" transform=\"translate(16,9)\" style=\"font-family: sans-serif; font-size: 10px; fill: #000; opacity: 1;\">Default</text></g></g><path class=\"foreground\" d=\"\" style=\"pointer-events: none; display: none; fill: none;\"></path></g><g transform=\"translate(64,0.25)\"><path class=\"background\" d=\"M0,0h110v12.5h-110Z\" style=\"pointer-events: none; fill: none; opacity: 1;\"></path><g><g class=\"mark-symbol role-legend-symbol\" style=\"pointer-events: none;\"><path transform=\"translate(6,6)\" d=\"M-5,-5h10v10h-10Z\" style=\"fill: #f58518; stroke: #505050; stroke-width: 1.5; opacity: 1;\"></path></g><g class=\"mark-text role-legend-label\" style=\"pointer-events: none;\"><text text-anchor=\"start\" transform=\"translate(16,9)\" style=\"font-family: sans-serif; font-size: 10px; fill: #000; opacity: 1;\">Garbage collection</text></g></g><path class=\"foreground\" d=\"\" style=\"pointer-events: none; display: none; fill: none;\"></path></g><g transform=\"translate(185,0.25)\"><path class=\"background\" d=\"M0,0h103v12.5h-103Z\" style=\"pointer-events: none; fill: none; opacity: 1;\"></path><g><g class=\"mark-symbol role-legend-symbol\" style=\"pointer-events: none;\"><path transform=\"translate(6,6)\" d=\"M-5,-5h10v10h-10Z\" style=\"fill: #e45756; stroke: #505050; stroke-width: 1.5; opacity: 1;\"></path></g><g class=\"mark-text role-legend-label\" style=\"pointer-events: none;\"><text text-anchor=\"start\" transform=\"translate(16,9)\" style=\"font-family: sans-serif; font-size: 10px; fill: #000; opacity: 1;\">Runtime dispatch</text></g></g><path class=\"foreground\" d=\"\" style=\"pointer-events: none; display: none; fill: none;\"></path></g></g></g><path class=\"foreground\" d=\"\" style=\"pointer-events: none; display: none; fill: none;\"></path></g></g></g><path class=\"foreground\" d=\"\" style=\"pointer-events: none; display: none; fill: none;\"></path></g></g><g class=\"mark-group role-title\"><g transform=\"translate(400,-17)\"><path class=\"background\" d=\"M0,0h0v0h0Z\" style=\"pointer-events: none; fill: none;\"></path><g><g class=\"mark-text role-title-text\" style=\"pointer-events: none;\"><text text-anchor=\"middle\" transform=\"translate(0,10)\" style=\"font-family: sans-serif; font-size: 13px; font-weight: bold; fill: #000; opacity: 1;\">Profile Results</text></g></g><path class=\"foreground\" d=\"\" style=\"pointer-events: none; display: none; fill: none;\"></path></g></g></g><path class=\"foreground\" d=\"\" style=\"display: none; fill: none;\"></path></g></g></g></svg>\n"
      ],
      "text/plain": [
       "@vlplot(\n",
       "    mark={\n",
       "        type=\"rect\",\n",
       "        stroke=\"#505050\"\n",
       "    },\n",
       "    transform=[\n",
       "        {\n",
       "            calculate=\"datum.level+0.9\",\n",
       "            as=\"level2\"\n",
       "        }\n",
       "    ],\n",
       "    selection={\n",
       "        grid={\n",
       "            type=\"interval\",\n",
       "            bind=\"scales\"\n",
       "        },\n",
       "        highlight={\n",
       "            type=\"single\",\n",
       "            on=\"mouseover\",\n",
       "            empty=\"none\"\n",
       "        },\n",
       "        select={\n",
       "            type=\"multi\",\n",
       "            empty=\"none\"\n",
       "        }\n",
       "    },\n",
       "    width=800,\n",
       "    height=400,\n",
       "    title=\"Profile Results\",\n",
       "    encoding={\n",
       "        x={\n",
       "            axis=nothing,\n",
       "            field=\"x1\"\n",
       "        },\n",
       "        x2={\n",
       "            field=\"x2\"\n",
       "        },\n",
       "        y={\n",
       "            axis=nothing,\n",
       "            field=\"level\",\n",
       "            type=\"quantitative\"\n",
       "        },\n",
       "        y2={\n",
       "            field=\"level2\",\n",
       "            type=\"quantitative\"\n",
       "        },\n",
       "        fillOpacity={\n",
       "            condition=[\n",
       "                {\n",
       "                    selection=\"highlight\",\n",
       "                    value=0.6\n",
       "                },\n",
       "                {\n",
       "                    selection=\"select\",\n",
       "                    value=0.5\n",
       "                }\n",
       "            ],\n",
       "            value=1\n",
       "        },\n",
       "        strokeWidth={\n",
       "            condition=[\n",
       "                {\n",
       "                    selection=\"highlight\",\n",
       "                    value=0.5\n",
       "                },\n",
       "                {\n",
       "                    selection=\"select\",\n",
       "                    value=0.5\n",
       "                }\n",
       "            ],\n",
       "            value=0\n",
       "        },\n",
       "        color={\n",
       "            legend={\n",
       "                title=nothing,\n",
       "                orient=\"bottom\"\n",
       "            },\n",
       "            field=\"status\",\n",
       "            type=\"nominal\"\n",
       "        },\n",
       "        tooltip={\n",
       "            field=\"sf\"\n",
       "        }\n",
       "    },\n",
       "    data={\n",
       "        values=...\n",
       "    }\n",
       ")"
      ]
     },
     "execution_count": 5,
     "metadata": {},
     "output_type": "execute_result"
    }
   ],
   "source": [
    "using Profile, ProfileSVG, ProfileVega\n",
    "@profile main(\"/home/debr/codejams/julia/work/2017/WF/B.in\")\n",
    "Profile.clear()\n",
    "@profile main(\"/home/debr/codejams/julia/work/2017/WF/B.in2b\")\n",
    "ProfileVega.view()"
   ]
  },
  {
   "cell_type": "code",
   "execution_count": null,
   "metadata": {},
   "outputs": [],
   "source": []
  }
 ],
 "metadata": {
  "kernelspec": {
   "display_name": "Julia 1.4.2",
   "language": "julia",
   "name": "julia-1.4"
  },
  "language_info": {
   "file_extension": ".jl",
   "mimetype": "application/julia",
   "name": "julia",
   "version": "1.4.2"
  }
 },
 "nbformat": 4,
 "nbformat_minor": 4
}
