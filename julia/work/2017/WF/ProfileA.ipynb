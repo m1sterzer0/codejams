{
 "cells": [
  {
   "cell_type": "code",
   "execution_count": 1,
   "metadata": {},
   "outputs": [
    {
     "data": {
      "text/plain": [
       "main (generic function with 2 methods)"
      ]
     },
     "execution_count": 1,
     "metadata": {},
     "output_type": "execute_result"
    }
   ],
   "source": [
    "using Printf\n",
    "\n",
    "######################################################################################################\n",
    "### For this, we can solve by doing O(N) maximum bipartite matches incrementally that are each O(N)\n",
    "######################################################################################################\n",
    "\n",
    "function checkMatch(adjL::Vector{Vector{Int}}, matchR::Vector{Int}, seen::Vector{Int8}, minval::Int, maxval::Int, n::Int)\n",
    "    if n == maxval; fill!(seen,0); end\n",
    "    for v in adjL[n]\n",
    "        if seen[v] > 0; continue; end\n",
    "        seen[v] = 1\n",
    "        if matchR[v] == -1; matchR[v] = n; return true; end\n",
    "        if checkMatch(adjL,matchR,seen,minval,maxval,matchR[v]); matchR[v] = n; return true; end\n",
    "    end\n",
    "    return false\n",
    "end\n",
    "\n",
    "function main(infn=\"\")\n",
    "    infile = (infn != \"\") ? open(infn,\"r\") : length(ARGS) > 0 ? open(ARGS[1],\"r\") : stdin\n",
    "    tt = parse(Int64,readline(infile))\n",
    "    for qq in 1:tt\n",
    "        print(\"Case #$qq: \")\n",
    "        N = parse(Int64,rstrip(readline(infile)))\n",
    "        D = fill(-1,N,6)\n",
    "        maxdig = 1\n",
    "        for i in 1:N\n",
    "            D[i,:] = [parse(Int64,x) for x in split(rstrip(readline(infile)))]\n",
    "            maxdig = max(maxdig,maximum(D[i,:]))\n",
    "        end\n",
    "\n",
    "        ## Collect the edges by value\n",
    "        adjL = [Vector{Int64}() for i in 1:maxdig]\n",
    "        for i in 1:N\n",
    "            for j in 1:6\n",
    "                push!(adjL[D[i,j]],i)\n",
    "            end\n",
    "        end\n",
    "\n",
    "        ## Figure out the best possible straight we can make at each starting digits\n",
    "        last = 0\n",
    "        bestPossible = fill(0,maxdig)\n",
    "        for i in maxdig:-1:1\n",
    "            last = length(adjL[i]) == 0 ? 0 : last+1\n",
    "            bestPossible[i] = last\n",
    "        end\n",
    "        seen = fill(zero(Int8),N)\n",
    "        matchR = fill(-1,N)\n",
    "        start,best = 0,1\n",
    "        while(true)\n",
    "            start += 1\n",
    "            while start <= maxdig && bestPossible[start] <= best; start += 1; end\n",
    "            if start > maxdig; break; end\n",
    "            fill!(matchR,-1)\n",
    "            myend = start\n",
    "            #println(\"DEBUG: Starting search from $start\")\n",
    "            while bestPossible[start] > best\n",
    "                if checkMatch(adjL,matchR,seen,start,myend,myend)\n",
    "                    #println(\"DEBUG: Search $start..$myend successful, bumping up $myend to $(myend+1)\")\n",
    "                    myend += 1\n",
    "                    best = max(best,myend-start)\n",
    "                    if myend > maxdig; start = myend; break; end\n",
    "                    if length(adjL[myend]) == 0; start = myend; break; end\n",
    "                else\n",
    "                    #println(\"DEBUG: Search $start..$myend failed, moving range to $(start+1)..$myend\")\n",
    "                    for v in adjL[start]\n",
    "                        if matchR[v] == start; matchR[v] = -1; end\n",
    "                    end\n",
    "                    start += 1\n",
    "                end\n",
    "            end\n",
    "        end\n",
    "        print(\"$best\\n\")\n",
    "    end\n",
    "end"
   ]
  },
  {
   "cell_type": "code",
   "execution_count": 2,
   "metadata": {},
   "outputs": [
    {
     "name": "stderr",
     "output_type": "stream",
     "text": [
      "┌ Info: Precompiling ProfileSVG [132c30aa-f267-4189-9183-c8a63c7e05e6]\n",
      "└ @ Base loading.jl:1260\n",
      "┌ Info: Precompiling ProfileVega [4391764f-db79-4bd7-a4c6-f9062de4300e]\n",
      "└ @ Base loading.jl:1260\n"
     ]
    },
    {
     "ename": "SystemError",
     "evalue": "SystemError: opening file \"A.in\": No such file or directory",
     "output_type": "error",
     "traceback": [
      "SystemError: opening file \"A.in\": No such file or directory",
      "",
      "Stacktrace:",
      " [1] systemerror(::String, ::Int32; extrainfo::Nothing) at ./error.jl:168",
      " [2] #systemerror#50 at ./error.jl:167 [inlined]",
      " [3] systemerror at ./error.jl:167 [inlined]",
      " [4] open(::String; read::Bool, write::Nothing, create::Nothing, truncate::Nothing, append::Nothing) at ./iostream.jl:254",
      " [5] open(::String, ::String) at ./iostream.jl:310",
      " [6] main(::String) at ./In[1]:19",
      " [7] top-level scope at /buildworker/worker/package_linux64/build/usr/share/julia/stdlib/v1.4/Profile/src/Profile.jl:28",
      " [8] top-level scope at In[2]:2"
     ]
    }
   ],
   "source": [
    "using Profile, ProfileSVG, ProfileVega\n",
    "@profile main(\"A.in\")\n",
    "Profile.clear()\n",
    "@profile main(\"A.in6\")\n",
    "ProfileVega.view()"
   ]
  },
  {
   "cell_type": "code",
   "execution_count": null,
   "metadata": {},
   "outputs": [],
   "source": []
  }
 ],
 "metadata": {
  "kernelspec": {
   "display_name": "Julia 1.4.2",
   "language": "julia",
   "name": "julia-1.4"
  },
  "language_info": {
   "file_extension": ".jl",
   "mimetype": "application/julia",
   "name": "julia",
   "version": "1.4.2"
  }
 },
 "nbformat": 4,
 "nbformat_minor": 4
}
