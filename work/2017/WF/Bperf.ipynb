{
 "cells": [
  {
   "cell_type": "code",
   "execution_count": 1,
   "metadata": {},
   "outputs": [
    {
     "data": {
      "text/plain": [
       "main (generic function with 2 methods)"
      ]
     },
     "execution_count": 1,
     "metadata": {},
     "output_type": "execute_result"
    }
   ],
   "source": [
    "using Printf\n",
    "\n",
    "######################################################################################################\n",
    "### a) The trick here is to turn 15! orderings to 2^15 subsets and use dynamic programing.\n",
    "### b) The observation is that if I have a set of prefix operations plus one \"last\" operation,\n",
    "###    --- The maximum value is related to either the maximum or the minimum possible value of the\n",
    "###        prefix operations.\n",
    "### c) This leads to a rather naiive dyanmic programming solution\n",
    "######################################################################################################\n",
    "\n",
    "function tadd(a::Tuple{BigInt,BigInt},b::Int64)\n",
    "    return (a[1]+b*a[2],a[2])\n",
    "end\n",
    "\n",
    "function tsub(a::Tuple{BigInt,BigInt},b::Int64)\n",
    "    return (a[1]-b*a[2],a[2])\n",
    "end\n",
    "\n",
    "function tmul(a::Tuple{BigInt,BigInt},b::Int64)\n",
    "    return (a[1]*b,a[2])\n",
    "end\n",
    "\n",
    "function tdiv(a::Tuple{BigInt,BigInt},b::Int64)\n",
    "    return b < 0 ? (-a[1],a[2]*(-b)) : (a[1],a[2]*b)\n",
    "end\n",
    "\n",
    "function tgt(a::Tuple{BigInt,BigInt},b::Tuple{BigInt,BigInt})\n",
    "    return b[2]*a[1] > a[2]*b[1]\n",
    "end\n",
    "\n",
    "function tlt(a::Tuple{BigInt,BigInt},b::Tuple{BigInt,BigInt})\n",
    "    return b[2]*a[1] < a[2]*b[1]\n",
    "end\n",
    "\n",
    "\n",
    "function main(infn=\"\")\n",
    "    infile = (infn != \"\") ? open(infn,\"r\") : length(ARGS) > 0 ? open(ARGS[1],\"r\") : stdin\n",
    "    tt = parse(Int64,readline(infile))\n",
    "    for qq in 1:tt\n",
    "        print(\"Case #$qq: \")\n",
    "        S,C = [parse(Int64,x) for x in split(rstrip(readline(infile)))]\n",
    "        ops = Vector{Tuple{Char,Int64}}()\n",
    "        for i in 1:C\n",
    "            aa = split(rstrip(readline(infile)))\n",
    "            op = aa[1][1]\n",
    "            val = parse(Int64,aa[2])\n",
    "            push!(ops,(op,val))\n",
    "        end\n",
    "\n",
    "        minvals = resize!(Vector{Tuple{BigInt,BigInt}}(),2^C)\n",
    "        maxvals = resize!(Vector{Tuple{BigInt,BigInt}}(),2^C)\n",
    "        minvals[1] = maxvals[1] = (BigInt(S),BigInt(1))\n",
    "        #print(\"\\n\")\n",
    "        for i in 2:2^C\n",
    "            first = true\n",
    "            bitmask = i-1\n",
    "            for j in 1:C\n",
    "                bm = 1 << (j-1)\n",
    "                if bitmask & bm == 0; continue; end\n",
    "                residual = bitmask & ~bm + 1\n",
    "                v1,v2 = (BigInt(0),BigInt(1)),(BigInt(0),BigInt(1))\n",
    "                if ops[j][1] == '+'\n",
    "                    v1 = tadd(maxvals[residual],ops[j][2])\n",
    "                    v2 = tadd(minvals[residual],ops[j][2])\n",
    "                elseif ops[j][1] == '-'\n",
    "                    v1 = tsub(maxvals[residual],ops[j][2])\n",
    "                    v2 = tsub(minvals[residual],ops[j][2])\n",
    "                elseif ops[j][1] == '*'\n",
    "                    v1 = tmul(maxvals[residual],ops[j][2])\n",
    "                    v2 = tmul(minvals[residual],ops[j][2])\n",
    "                else ops[j][1] == '/'\n",
    "                    v1 = tdiv(maxvals[residual],ops[j][2])\n",
    "                    v2 = tdiv(minvals[residual],ops[j][2])\n",
    "                end\n",
    "                (maxv,minv) = tgt(v1,v2) ? (v1,v2) : (v2,v1)\n",
    "                if first\n",
    "                    maxvals[i] = maxv\n",
    "                    minvals[i] = minv\n",
    "                    first = false\n",
    "                else\n",
    "                    maxvals[i] = tgt(maxvals[i],maxv) ? maxvals[i] : maxv\n",
    "                    minvals[i] = tlt(minvals[i],minv) ? minvals[i] : minv\n",
    "                end\n",
    "                #print(\"DEBUG: $i $bitmask $bm $(j-1) $(ops[j][1]) $(ops[j][2]) v1:($v1) v2:($v2) maxvals[i]:($(maxvals[i])) minvals[i]:($(minvals[i]))\\n\")\n",
    "\n",
    "            end\n",
    "        end\n",
    "        ans = maxvals[2^C][1]//maxvals[2^C][2]\n",
    "        print(\"$(numerator(ans)) $(denominator(ans))\\n\")\n",
    "    end\n",
    "end"
   ]
  },
  {
   "cell_type": "code",
   "execution_count": 3,
   "metadata": {},
   "outputs": [],
   "source": [
    "using Profile, ProfileSVG, ProfileVega"
   ]
  },
  {
   "cell_type": "code",
   "execution_count": 4,
   "metadata": {},
   "outputs": [
    {
     "name": "stdout",
     "output_type": "stream",
     "text": [
      "Case #1: -1 1\n",
      "Case #2: -3 2\n",
      "Case #3: 1000000000000000000000000 1\n",
      "Case #4: 1 1\n",
      "Case #5: 0 1\n",
      "Case #1: 11448987486508929377154082067 1772559360\n",
      "Case #2: 11898395950988571833056996 8310165861\n",
      "Case #3: 184449631085236764648 274369375\n",
      "Case #4: 25784062282936176315525 27473\n",
      "Case #5: 507780237323376589 586845\n",
      "Case #6: 1774352031395198601229 109900900\n",
      "Case #7: 1752637497177600 131\n",
      "Case #8: 564151155642157256045599 2804904062982000\n",
      "Case #9: 65723549772324959647745485320 4449747259\n",
      "Case #10: 33729205513564951520 737429\n",
      "Case #11: 1041684513619381507874560653 88264\n",
      "Case #12: 124345860809924321850418344000 1120571\n",
      "Case #13: 61013980218511169202 2974697\n",
      "Case #14: 40119666917296 165\n",
      "Case #15: 10589480908679455 1104\n",
      "Case #16: 606159793985221501416 40145\n",
      "Case #17: 8967079012924567711 456319881180\n",
      "Case #18: 740860830979277229 34410992000\n",
      "Case #19: 49298594005655778080 6830903\n",
      "Case #20: 284539140273186952920 3110147\n",
      "Case #21: 113207919140292955223 2904100\n",
      "Case #22: 1185073226041186591 20174976\n",
      "Case #23: 1050071740936540464281 3658364274024\n",
      "Case #24: 39308014401193 28194320\n",
      "Case #25: 333198103406727058 249063165\n",
      "Case #26: 121814059673228563175535 4891\n",
      "Case #27: 106119157090776125800 1860285051\n",
      "Case #28: 1465228555507512 89099\n",
      "Case #29: 2381867915757043801869 11475621248\n",
      "Case #30: 263455391154198242412 4011351917\n",
      "Case #31: 107052379801104714721526250 17757037614359\n",
      "Case #32: 9976099870626430968 13965462545\n",
      "Case #33: 583324985687136 147053\n",
      "Case #34: 18204099914179231689 16\n",
      "Case #35: 2820348744790918466070 13\n",
      "Case #36: 8591548778410230406319 17280\n",
      "Case #37: 139411881083545441465454429 11271408000\n",
      "Case #38: 465497976484582415 3636672\n",
      "Case #39: 37021350225877045 276862\n",
      "Case #40: 586124674 1\n",
      "Case #41: 285686084857600 1\n",
      "Case #42: 555524393400556125376 31772169\n",
      "Case #43: 5587405876228985424 71\n",
      "Case #44: 155535681143837894023950 80550077\n",
      "Case #45: 3003983394239347021 3057776400\n",
      "Case #46: 1358628624462882991 9578913966\n",
      "Case #47: 158416917214363200 1\n",
      "Case #48: 91609371468164550 16399\n",
      "Case #49: 732183352305287571000 163\n",
      "Case #50: 33169814645455483875 848982316\n",
      "Case #51: 224278627196137536000 13\n",
      "Case #52: 1968174578130666511649615 1314536832\n",
      "Case #53: 385649363536211682120576826 839597317215\n",
      "Case #54: 8065890509816301 34310276\n",
      "Case #55: 1173125693 344720\n",
      "Case #56: 710544674119547456 573\n",
      "Case #57: 209584943243771305 57960742752\n",
      "Case #58: 91285170325605005551479 1284140648\n",
      "Case #59: 4603358190234433839605189 7871559809596\n",
      "Case #60: 152433290811673547 96937848\n",
      "Case #61: 19418010333580279704654 9491771\n",
      "Case #62: 33955333124265183483193186909 41131033860288768\n",
      "Case #63: 3889185509902594968 13151285\n",
      "Case #64: 580292970369 2\n",
      "Case #65: 12034820326450478000 42441\n",
      "Case #66: 229453788538365295 8178816\n",
      "Case #67: 114668379291690691993890 1602403\n",
      "Case #68: 6792599247597568042417 175\n",
      "Case #69: 7114262267527428599299840 8472463071\n",
      "Case #70: 148204494776199510245 27542596634784\n",
      "Case #71: 1543250844035735 1459193\n",
      "Case #72: 248774406318152983791091 872720105585900\n",
      "Case #73: 59864897985750 1\n",
      "Case #74: 2386010372336640 1\n",
      "Case #75: 16361578259873107731572 902193004251\n",
      "Case #76: 33028731794133586643 19559269174086\n",
      "Case #77: 68676444911227856758615625 6581311488\n",
      "Case #78: 31595828213443520541560 587703\n",
      "Case #79: 72285012496905394695 543402496\n",
      "Case #80: 8619521158253280000 3283\n",
      "Case #81: 3469448838548385 278\n",
      "Case #82: 1945524560547585476250 283\n",
      "Case #83: 520729348381625592300 1115005397\n",
      "Case #84: 15550234354540588614912047 36137604935842872000\n",
      "Case #85: 1091529856409696897298496 5125776367725\n",
      "Case #86: 181875606446475955505 1872809776266\n",
      "Case #87: 35559415474757882837 108659294172\n",
      "Case #88: 110349593823400278984 190105\n",
      "Case #89: 1856284389629676998620 37705017\n",
      "Case #90: 577901355898722975 4574944\n",
      "Case #91: 37657394947530741795494400 40843\n",
      "Case #92: 405990967664469331963 12138926\n",
      "Case #93: 616176712056731238616 13889\n",
      "Case #94: 193644139535639091 4945112\n",
      "Case #95: 2100727419479522304 9978875\n",
      "Case #96: 172920106863455000 451\n",
      "Case #97: 150399563242519263016341088 15041953\n",
      "Case #98: 256825977052945253471 211150035392\n",
      "Case #99: 4667397199501457 6635640\n",
      "Case #100: 28606899591664016002 821469\n"
     ]
    },
    {
     "data": {
      "application/vnd.vegalite.v4+json": {
       "data": {
        "values": [
         {
          "level": 0,
          "sf": "ip:0x0",
          "status": "Garbage collection",
          "x1": 1,
          "x2": 37671.9
         },
         {
          "level": 1,
          "sf": "(::Base.var\"#504#505\"{typeof(IJulia.send_stdout),Timer})() at task.jl:358",
          "status": "Default",
          "x1": 49,
          "x2": 57.9
         },
         {
          "level": 2,
          "sf": "macro expansion at asyncevent.jl:251 [inlined]",
          "status": "Default",
          "x1": 49,
          "x2": 57.9
         },
         {
          "level": 3,
          "sf": "send_stdout at stdio.jl:122 [inlined]",
          "status": "Default",
          "x1": 49,
          "x2": 57.9
         },
         {
          "level": 4,
          "sf": "send_stdio(::String) at stdio.jl:119",
          "status": "Default",
          "x1": 49,
          "x2": 57.9
         },
         {
          "level": 5,
          "sf": "Dict{String,String}() at dict.jl:89",
          "status": "Default",
          "x1": 49,
          "x2": 49.9
         },
         {
          "level": 5,
          "sf": "send_stream(::String) at stdio.jl:161",
          "status": "Default",
          "x1": 50,
          "x2": 57.9
         },
         {
          "level": 6,
          "sf": "msg_pub at msg.jl:30 [inlined]",
          "status": "Default",
          "x1": 50,
          "x2": 52.9
         },
         {
          "level": 7,
          "sf": "msg_pub(::IJulia.Msg, ::String, ::Dict{String,String}, ::Dict{String,Any}) at msg.jl:30",
          "status": "Default",
          "x1": 50,
          "x2": 52.9
         },
         {
          "level": 8,
          "sf": "msg_header(::IJulia.Msg, ::String) at msg.jl:18",
          "status": "Default",
          "x1": 50,
          "x2": 52.9
         },
         {
          "level": 9,
          "sf": "Dict(::Pair{String,String}, ::Vararg{Pair,N} where N) at dict.jl:124",
          "status": "Runtime dispatch",
          "x1": 50,
          "x2": 51.9
         },
         {
          "level": 10,
          "sf": "Dict(::Tuple{Pair{String,String},Pair{String,String},Pair{String,String},Pair{String,Dates.DateTime},Pair{String,String},Pair{String,String}}) at dict.jl:128",
          "status": "Default",
          "x1": 50,
          "x2": 51.9
         },
         {
          "level": 11,
          "sf": "dict_with_eltype at abstractdict.jl:543 [inlined]",
          "status": "Default",
          "x1": 50,
          "x2": 51.9
         },
         {
          "level": 12,
          "sf": "grow_to!(::Dict{Any,Any}, ::Tuple{Pair{String,String},Pair{String,String},Pair{String,String},Pair{String,Dates.DateTime},Pair{String,String},Pair{String,String}}) at dict.jl:142",
          "status": "Runtime dispatch",
          "x1": 50,
          "x2": 51.9
         },
         {
          "level": 9,
          "sf": "Pair(::String, ::String) at pair.jl:15",
          "status": "Default",
          "x1": 52,
          "x2": 52.9
         },
         {
          "level": 6,
          "sf": "send_ipython(::ZMQ.Socket, ::IJulia.Msg) at msg.jl:55",
          "status": "Default",
          "x1": 53,
          "x2": 53.9
         },
         {
          "level": 7,
          "sf": "send at comm.jl:43 [inlined]",
          "status": "Default",
          "x1": 53,
          "x2": 53.9
         },
         {
          "level": 8,
          "sf": "send(::ZMQ.Socket, ::String; more::Bool) at comm.jl:45",
          "status": "Default",
          "x1": 53,
          "x2": 53.9
         },
         {
          "level": 9,
          "sf": "_send(::ZMQ.Socket, ::Base.RefValue{ZMQ._Message}, ::Bool) at comm.jl:13",
          "status": "Default",
          "x1": 53,
          "x2": 53.9
         },
         {
          "level": 10,
          "sf": "msg_send at comm.jl:6 [inlined]",
          "status": "Default",
          "x1": 53,
          "x2": 53.9
         },
         {
          "level": 6,
          "sf": "send_ipython(::ZMQ.Socket, ::IJulia.Msg) at msg.jl:56",
          "status": "Default",
          "x1": 54,
          "x2": 54.9
         },
         {
          "level": 7,
          "sf": "send at comm.jl:43 [inlined]",
          "status": "Default",
          "x1": 54,
          "x2": 54.9
         },
         {
          "level": 8,
          "sf": "send(::ZMQ.Socket, ::String; more::Bool) at comm.jl:43",
          "status": "Default",
          "x1": 54,
          "x2": 54.9
         },
         {
          "level": 9,
          "sf": "_MessageRef(::String) at _message.jl:55",
          "status": "Default",
          "x1": 54,
          "x2": 54.9
         },
         {
          "level": 10,
          "sf": "msg_init(::Int64) at _message.jl:19",
          "status": "Default",
          "x1": 54,
          "x2": 54.9
         },
         {
          "level": 6,
          "sf": "send_ipython(::ZMQ.Socket, ::IJulia.Msg) at msg.jl:57",
          "status": "Default",
          "x1": 55,
          "x2": 56.9
         },
         {
          "level": 7,
          "sf": "send at comm.jl:43 [inlined]",
          "status": "Default",
          "x1": 55,
          "x2": 56.9
         },
         {
          "level": 8,
          "sf": "send(::ZMQ.Socket, ::String; more::Bool) at comm.jl:43",
          "status": "Default",
          "x1": 55,
          "x2": 56.9
         },
         {
          "level": 9,
          "sf": "_MessageRef(::String) at _message.jl:55",
          "status": "Default",
          "x1": 55,
          "x2": 56.9
         },
         {
          "level": 10,
          "sf": "msg_init(::Int64) at _message.jl:19",
          "status": "Default",
          "x1": 55,
          "x2": 56.9
         },
         {
          "level": 6,
          "sf": "send_ipython(::ZMQ.Socket, ::IJulia.Msg) at msg.jl:59",
          "status": "Default",
          "x1": 57,
          "x2": 57.9
         },
         {
          "level": 7,
          "sf": "send at comm.jl:43 [inlined]",
          "status": "Default",
          "x1": 57,
          "x2": 57.9
         },
         {
          "level": 8,
          "sf": "send(::ZMQ.Socket, ::String; more::Bool) at comm.jl:45",
          "status": "Default",
          "x1": 57,
          "x2": 57.9
         },
         {
          "level": 9,
          "sf": "_send(::ZMQ.Socket, ::Base.RefValue{ZMQ._Message}, ::Bool) at comm.jl:13",
          "status": "Default",
          "x1": 57,
          "x2": 57.9
         },
         {
          "level": 10,
          "sf": "msg_send at comm.jl:6 [inlined]",
          "status": "Default",
          "x1": 57,
          "x2": 57.9
         },
         {
          "level": 1,
          "sf": "(::IJulia.var\"#15#18\")() at task.jl:358",
          "status": "Default",
          "x1": 58,
          "x2": 36624.9
         },
         {
          "level": 2,
          "sf": "eventloop(::ZMQ.Socket) at eventloop.jl:8",
          "status": "Default",
          "x1": 58,
          "x2": 36624.9
         },
         {
          "level": 3,
          "sf": "invokelatest at essentials.jl:711 [inlined]",
          "status": "Default",
          "x1": 58,
          "x2": 36624.9
         },
         {
          "level": 4,
          "sf": "#invokelatest#1 at essentials.jl:712 [inlined]",
          "status": "Runtime dispatch",
          "x1": 58,
          "x2": 36624.9
         },
         {
          "level": 5,
          "sf": "execute_request(::ZMQ.Socket, ::IJulia.Msg) at execute_request.jl:67",
          "status": "Runtime dispatch",
          "x1": 58,
          "x2": 36624.9
         },
         {
          "level": 6,
          "sf": "softscope_include_string(::Module, ::String, ::String) at SoftGlobalScope.jl:218",
          "status": "Default",
          "x1": 58,
          "x2": 36624.9
         },
         {
          "level": 7,
          "sf": "eval at boot.jl:331 [inlined]",
          "status": "Garbage collection",
          "x1": 58,
          "x2": 36624.9
         },
         {
          "level": 8,
          "sf": "main(::String) at In[1]:0",
          "status": "Default",
          "x1": 58,
          "x2": 74.9
         },
         {
          "level": 8,
          "sf": "main(::String) at In[1]:39",
          "status": "Default",
          "x1": 75,
          "x2": 83.9
         },
         {
          "level": 9,
          "sf": "iterate at range.jl:593 [inlined]",
          "status": "Garbage collection",
          "x1": 75,
          "x2": 83.9
         },
         {
          "level": 8,
          "sf": "main(::String) at In[1]:40",
          "status": "Default",
          "x1": 84,
          "x2": 86.9
         },
         {
          "level": 9,
          "sf": "print(::String) at coreio.jl:3",
          "status": "Runtime dispatch",
          "x1": 84,
          "x2": 86.9
         },
         {
          "level": 10,
          "sf": "print(::IJulia.IJuliaStdio{Base.PipeEndpoint}, ::String) at io.jl:185",
          "status": "Default",
          "x1": 84,
          "x2": 86.9
         },
         {
          "level": 11,
          "sf": "write at io.jl:183 [inlined]",
          "status": "Default",
          "x1": 84,
          "x2": 86.9
         },
         {
          "level": 12,
          "sf": "unsafe_write at io.jl:310 [inlined]",
          "status": "Default",
          "x1": 84,
          "x2": 86.9
         },
         {
          "level": 13,
          "sf": "unsafe_write(::Base.PipeEndpoint, ::Ptr{UInt8}, ::UInt64) at stream.jl:1007",
          "status": "Default",
          "x1": 84,
          "x2": 86.9
         },
         {
          "level": 14,
          "sf": "uv_write(::Base.PipeEndpoint, ::Ptr{UInt8}, ::UInt64) at stream.jl:926",
          "status": "Default",
          "x1": 84,
          "x2": 84.9
         },
         {
          "level": 15,
          "sf": "preserve_handle(::Task) at libuv.jl:58",
          "status": "Default",
          "x1": 84,
          "x2": 84.9
         },
         {
          "level": 16,
          "sf": "setindex!(::IdDict{Any,Any}, ::Any, ::Any) at abstractdict.jl:588",
          "status": "Default",
          "x1": 84,
          "x2": 84.9
         },
         {
          "level": 17,
          "sf": "rehash! at abstractdict.jl:568 [inlined]",
          "status": "Garbage collection",
          "x1": 84,
          "x2": 84.9
         },
         {
          "level": 14,
          "sf": "uv_write(::Base.PipeEndpoint, ::Ptr{UInt8}, ::UInt64) at stream.jl:935",
          "status": "Default",
          "x1": 85,
          "x2": 86.9
         },
         {
          "level": 15,
          "sf": "wait at task.jl:709 [inlined]",
          "status": "Default",
          "x1": 85,
          "x2": 85.9
         },
         {
          "level": 16,
          "sf": "poptaskref(::Base.InvasiveLinkedListSynchronized{Task}) at task.jl:702",
          "status": "Default",
          "x1": 85,
          "x2": 85.9
         },
         {
          "level": 15,
          "sf": "wait at task.jl:711 [inlined]",
          "status": "Default",
          "x1": 86,
          "x2": 86.9
         },
         {
          "level": 16,
          "sf": "process_events at libuv.jl:104 [inlined]",
          "status": "Default",
          "x1": 86,
          "x2": 86.9
         },
         {
          "level": 8,
          "sf": "main(::String) at In[1]:47",
          "status": "Runtime dispatch",
          "x1": 87,
          "x2": 87.9
         },
         {
          "level": 8,
          "sf": "main(::String) at In[1]:50",
          "status": "Runtime dispatch",
          "x1": 88,
          "x2": 165.9
         },
         {
          "level": 9,
          "sf": "resize!(::Array{Tuple{BigInt,BigInt},1}, ::Int64) at array.jl:1064",
          "status": "Default",
          "x1": 88,
          "x2": 165.9
         },
         {
          "level": 10,
          "sf": "_growend! at array.jl:871 [inlined]",
          "status": "Garbage collection",
          "x1": 88,
          "x2": 165.9
         },
         {
          "level": 8,
          "sf": "main(::String) at In[1]:51",
          "status": "Runtime dispatch",
          "x1": 166,
          "x2": 353.9
         },
         {
          "level": 9,
          "sf": "Array at boot.jl:424 [inlined]",
          "status": "Default",
          "x1": 166,
          "x2": 347.9
         },
         {
          "level": 10,
          "sf": "Array at boot.jl:405 [inlined]",
          "status": "Garbage collection",
          "x1": 166,
          "x2": 347.9
         },
         {
          "level": 9,
          "sf": "resize!(::Array{Tuple{BigInt,BigInt},1}, ::Int64) at array.jl:1064",
          "status": "Default",
          "x1": 348,
          "x2": 353.9
         },
         {
          "level": 10,
          "sf": "_growend! at array.jl:871 [inlined]",
          "status": "Garbage collection",
          "x1": 348,
          "x2": 353.9
         },
         {
          "level": 8,
          "sf": "main(::String) at In[1]:52",
          "status": "Runtime dispatch",
          "x1": 354,
          "x2": 522.9
         },
         {
          "level": 9,
          "sf": "BigInt(::Int64) at gmp.jl:288",
          "status": "Default",
          "x1": 355,
          "x2": 522.9
         },
         {
          "level": 10,
          "sf": "set_si(::Int64) at gmp.jl:199",
          "status": "Default",
          "x1": 355,
          "x2": 522.9
         },
         {
          "level": 11,
          "sf": "BigInt at gmp.jl:56 [inlined]",
          "status": "Default",
          "x1": 355,
          "x2": 522.9
         },
         {
          "level": 12,
          "sf": "BigInt at gmp.jl:56 [inlined]",
          "status": "Garbage collection",
          "x1": 355,
          "x2": 522.9
         },
         {
          "level": 8,
          "sf": "main(::String) at In[1]:54",
          "status": "Garbage collection",
          "x1": 523,
          "x2": 567.9
         },
         {
          "level": 8,
          "sf": "main(::String) at In[1]:56",
          "status": "Garbage collection",
          "x1": 568,
          "x2": 600.9
         },
         {
          "level": 8,
          "sf": "main(::String) at In[1]:57",
          "status": "Garbage collection",
          "x1": 601,
          "x2": 1053.9
         },
         {
          "level": 9,
          "sf": "Colon at range.jl:5 [inlined]",
          "status": "Default",
          "x1": 601,
          "x2": 601.9
         },
         {
          "level": 10,
          "sf": "UnitRange at range.jl:277 [inlined]",
          "status": "Default",
          "x1": 601,
          "x2": 601.9
         },
         {
          "level": 11,
          "sf": "unitrange_last at range.jl:282 [inlined]",
          "status": "Default",
          "x1": 601,
          "x2": 601.9
         },
         {
          "level": 9,
          "sf": "iterate(::UnitRange{Int64}) at range.jl:593",
          "status": "Default",
          "x1": 1001,
          "x2": 1002.9
         },
         {
          "level": 10,
          "sf": "isempty at range.jl:477 [inlined]",
          "status": "Default",
          "x1": 1001,
          "x2": 1002.9
         },
         {
          "level": 11,
          "sf": "> at operators.jl:294 [inlined]",
          "status": "Default",
          "x1": 1001,
          "x2": 1002.9
         },
         {
          "level": 12,
          "sf": "< at range.jl:593 [inlined]",
          "status": "Default",
          "x1": 1001,
          "x2": 1002.9
         },
         {
          "level": 8,
          "sf": "main(::String) at In[1]:58",
          "status": "Garbage collection",
          "x1": 1054,
          "x2": 1715.9
         },
         {
          "level": 9,
          "sf": "-(::Int64, ::Int64) at int.jl:52",
          "status": "Default",
          "x1": 1054,
          "x2": 1054.9
         },
         {
          "level": 9,
          "sf": "<<(::Int64, ::Int64) at int.jl:432",
          "status": "Default",
          "x1": 1055,
          "x2": 1055.9
         },
         {
          "level": 10,
          "sf": "<< at int.jl:432 [inlined]",
          "status": "Default",
          "x1": 1055,
          "x2": 1055.9
         },
         {
          "level": 9,
          "sf": "-(::Int64, ::Int64) at int.jl:52",
          "status": "Default",
          "x1": 1393,
          "x2": 1394.9
         },
         {
          "level": 9,
          "sf": "<<(::Int64, ::Int64) at int.jl:432",
          "status": "Default",
          "x1": 1425,
          "x2": 1445.9
         },
         {
          "level": 10,
          "sf": "- at int.jl:51 [inlined]",
          "status": "Default",
          "x1": 1425,
          "x2": 1430.9
         },
         {
          "level": 10,
          "sf": "<< at int.jl:425 [inlined]",
          "status": "Default",
          "x1": 1431,
          "x2": 1437.9
         },
         {
          "level": 10,
          "sf": "<= at int.jl:410 [inlined]",
          "status": "Default",
          "x1": 1438,
          "x2": 1440.9
         },
         {
          "level": 10,
          "sf": ">> at int.jl:0 [inlined]",
          "status": "Default",
          "x1": 1441,
          "x2": 1441.9
         },
         {
          "level": 10,
          "sf": ">> at int.jl:423 [inlined]",
          "status": "Default",
          "x1": 1442,
          "x2": 1442.9
         },
         {
          "level": 9,
          "sf": "-(::Int64, ::Int64) at sys.so:?",
          "status": "Default",
          "x1": 1670,
          "x2": 1673.9
         },
         {
          "level": 9,
          "sf": "<<(::Int64, ::Int64) at sys.so:?",
          "status": "Default",
          "x1": 1674,
          "x2": 1677.9
         },
         {
          "level": 8,
          "sf": "main(::String) at In[1]:59",
          "status": "Garbage collection",
          "x1": 1716,
          "x2": 2324.9
         },
         {
          "level": 9,
          "sf": "==(::Int64, ::Int64) at promotion.jl:398",
          "status": "Default",
          "x1": 1716,
          "x2": 1717.9
         },
         {
          "level": 9,
          "sf": "==(::Int64, ::Int64) at promotion.jl:398",
          "status": "Default",
          "x1": 2069,
          "x2": 2075.9
         },
         {
          "level": 9,
          "sf": "&(::Int64, ::Int64) at int.jl:277",
          "status": "Default",
          "x1": 2096,
          "x2": 2096.9
         },
         {
          "level": 9,
          "sf": "==(::Int64, ::Int64) at sys.so:?",
          "status": "Default",
          "x1": 2270,
          "x2": 2277.9
         },
         {
          "level": 8,
          "sf": "main(::String) at In[1]:60",
          "status": "Garbage collection",
          "x1": 2325,
          "x2": 3096.9
         },
         {
          "level": 9,
          "sf": "+(::Int64, ::Int64) at int.jl:53",
          "status": "Default",
          "x1": 2325,
          "x2": 2325.9
         },
         {
          "level": 9,
          "sf": "~(::Int64) at int.jl:254",
          "status": "Default",
          "x1": 2326,
          "x2": 2326.9
         },
         {
          "level": 9,
          "sf": "+(::Int64, ::Int64) at int.jl:53",
          "status": "Default",
          "x1": 2589,
          "x2": 2589.9
         },
         {
          "level": 9,
          "sf": "&(::Int64, ::Int64) at int.jl:277",
          "status": "Default",
          "x1": 2949,
          "x2": 2953.9
         },
         {
          "level": 9,
          "sf": "~(::Int64) at int.jl:254",
          "status": "Default",
          "x1": 2954,
          "x2": 2954.9
         },
         {
          "level": 9,
          "sf": "+(::Int64, ::Int64) at sys.so:?",
          "status": "Default",
          "x1": 3063,
          "x2": 3063.9
         },
         {
          "level": 8,
          "sf": "main(::String) at In[1]:61",
          "status": "Default",
          "x1": 3097,
          "x2": 7936.9
         },
         {
          "level": 9,
          "sf": "BigInt at gmp.jl:288 [inlined]",
          "status": "Default",
          "x1": 3097,
          "x2": 7936.9
         },
         {
          "level": 10,
          "sf": "set_si(::Int64) at gmp.jl:199",
          "status": "Default",
          "x1": 3097,
          "x2": 7929.9
         },
         {
          "level": 11,
          "sf": "BigInt at gmp.jl:56 [inlined]",
          "status": "Default",
          "x1": 3097,
          "x2": 7875.9
         },
         {
          "level": 12,
          "sf": "BigInt at gmp.jl:56 [inlined]",
          "status": "Garbage collection",
          "x1": 3097,
          "x2": 7788.9
         },
         {
          "level": 13,
          "sf": "init2! at gmp.jl:140 [inlined]",
          "status": "Garbage collection",
          "x1": 3097,
          "x2": 6689.9
         },
         {
          "level": 12,
          "sf": "BigInt at gmp.jl:57 [inlined]",
          "status": "Default",
          "x1": 7789,
          "x2": 7875.9
         },
         {
          "level": 13,
          "sf": "finalizer at gcutils.jl:32 [inlined]",
          "status": "Garbage collection",
          "x1": 7789,
          "x2": 7867.9
         },
         {
          "level": 11,
          "sf": "set_si! at gmp.jl:198 [inlined]",
          "status": "Default",
          "x1": 7876,
          "x2": 7907.9
         },
         {
          "level": 8,
          "sf": "main(::String) at In[1]:62",
          "status": "Garbage collection",
          "x1": 7937,
          "x2": 10479.9
         },
         {
          "level": 9,
          "sf": "getindex(::Array{Tuple{Char,Int64},1}, ::Int64) at array.jl:788",
          "status": "Default",
          "x1": 7937,
          "x2": 7937.9
         },
         {
          "level": 9,
          "sf": "==(::Char, ::Char) at char.jl:208",
          "status": "Default",
          "x1": 7938,
          "x2": 7939.9
         },
         {
          "level": 10,
          "sf": "== at char.jl:208 [inlined]",
          "status": "Default",
          "x1": 7938,
          "x2": 7939.9
         },
         {
          "level": 9,
          "sf": "getindex(::Tuple, ::Int64) at tuple.jl:24",
          "status": "Default",
          "x1": 7940,
          "x2": 7940.9
         },
         {
          "level": 9,
          "sf": "==(::Char, ::Char) at char.jl:208",
          "status": "Default",
          "x1": 9836,
          "x2": 9836.9
         },
         {
          "level": 10,
          "sf": "== at promotion.jl:398 [inlined]",
          "status": "Default",
          "x1": 9836,
          "x2": 9836.9
         },
         {
          "level": 9,
          "sf": "getindex(::Tuple, ::Int64) at tuple.jl:24",
          "status": "Default",
          "x1": 9842,
          "x2": 10018.9
         },
         {
          "level": 9,
          "sf": "getindex(::Array{Tuple{Char,Int64},1}, ::Int64) at array.jl:0",
          "status": "Default",
          "x1": 10020,
          "x2": 10020.9
         },
         {
          "level": 9,
          "sf": "getindex(::Array{Tuple{Char,Int64},1}, ::Int64) at array.jl:788",
          "status": "Default",
          "x1": 10021,
          "x2": 10028.9
         },
         {
          "level": 9,
          "sf": "==(::Char, ::Char) at sys.so:?",
          "status": "Default",
          "x1": 10439,
          "x2": 10439.9
         },
         {
          "level": 9,
          "sf": "getindex(::Tuple, ::Int64) at sys.so:?",
          "status": "Default",
          "x1": 10440,
          "x2": 10444.9
         },
         {
          "level": 10,
          "sf": "getindex(::Tuple, ::Int64) at tuple.jl:24",
          "status": "Default",
          "x1": 10440,
          "x2": 10443.9
         },
         {
          "level": 9,
          "sf": "getindex(::Tuple, ::Int64) at tuple.jl:24",
          "status": "Default",
          "x1": 10448,
          "x2": 10449.9
         },
         {
          "level": 9,
          "sf": "getindex(::Tuple, ::Int64) at tuple.jl:24",
          "status": "Default",
          "x1": 10450,
          "x2": 10454.9
         },
         {
          "level": 8,
          "sf": "main(::String) at In[1]:63",
          "status": "Garbage collection",
          "x1": 10480,
          "x2": 12130.9
         },
         {
          "level": 9,
          "sf": "tadd at In[1]:12 [inlined]",
          "status": "Garbage collection",
          "x1": 10480,
          "x2": 11365.9
         },
         {
          "level": 10,
          "sf": "* at gmp.jl:535 [inlined]",
          "status": "Default",
          "x1": 10480,
          "x2": 10906.9
         },
         {
          "level": 11,
          "sf": "* at gmp.jl:534 [inlined]",
          "status": "Default",
          "x1": 10480,
          "x2": 10906.9
         },
         {
          "level": 12,
          "sf": "mul_si(::BigInt, ::Int64) at gmp.jl:182",
          "status": "Default",
          "x1": 10480,
          "x2": 10905.9
         },
         {
          "level": 13,
          "sf": "BigInt at gmp.jl:56 [inlined]",
          "status": "Default",
          "x1": 10480,
          "x2": 10860.9
         },
         {
          "level": 14,
          "sf": "BigInt at gmp.jl:56 [inlined]",
          "status": "Garbage collection",
          "x1": 10480,
          "x2": 10856.9
         },
         {
          "level": 15,
          "sf": "init2! at gmp.jl:140 [inlined]",
          "status": "Garbage collection",
          "x1": 10480,
          "x2": 10845.9
         },
         {
          "level": 14,
          "sf": "BigInt at gmp.jl:57 [inlined]",
          "status": "Default",
          "x1": 10857,
          "x2": 10860.9
         },
         {
          "level": 15,
          "sf": "finalizer at gcutils.jl:32 [inlined]",
          "status": "Garbage collection",
          "x1": 10857,
          "x2": 10860.9
         },
         {
          "level": 13,
          "sf": "mul_si! at gmp.jl:181 [inlined]",
          "status": "Garbage collection",
          "x1": 10861,
          "x2": 10903.9
         },
         {
          "level": 10,
          "sf": "+ at gmp.jl:473 [inlined]",
          "status": "Default",
          "x1": 10907,
          "x2": 11341.9
         },
         {
          "level": 11,
          "sf": "add(::BigInt, ::BigInt) at gmp.jl:155",
          "status": "Default",
          "x1": 10907,
          "x2": 11341.9
         },
         {
          "level": 12,
          "sf": "getproperty at Base.jl:33 [inlined]",
          "status": "Default",
          "x1": 10907,
          "x2": 10918.9
         },
         {
          "level": 12,
          "sf": "Type at gmp.jl:56 [inlined]",
          "status": "Default",
          "x1": 10919,
          "x2": 11310.9
         },
         {
          "level": 13,
          "sf": "BigInt at gmp.jl:56 [inlined]",
          "status": "Garbage collection",
          "x1": 10919,
          "x2": 11304.9
         },
         {
          "level": 14,
          "sf": "init2! at gmp.jl:140 [inlined]",
          "status": "Garbage collection",
          "x1": 10919,
          "x2": 11286.9
         },
         {
          "level": 13,
          "sf": "BigInt at gmp.jl:57 [inlined]",
          "status": "Default",
          "x1": 11305,
          "x2": 11310.9
         },
         {
          "level": 14,
          "sf": "finalizer at gcutils.jl:32 [inlined]",
          "status": "Garbage collection",
          "x1": 11305,
          "x2": 11310.9
         },
         {
          "level": 12,
          "sf": "add! at gmp.jl:154 [inlined]",
          "status": "Default",
          "x1": 11311,
          "x2": 11337.9
         },
         {
          "level": 12,
          "sf": "max at promotion.jl:409 [inlined]",
          "status": "Default",
          "x1": 11338,
          "x2": 11338.9
         },
         {
          "level": 13,
          "sf": "< at int.jl:49 [inlined]",
          "status": "Default",
          "x1": 11338,
          "x2": 11338.9
         },
         {
          "level": 10,
          "sf": "getindex at tuple.jl:24 [inlined]",
          "status": "Default",
          "x1": 11342,
          "x2": 11343.9
         },
         {
          "level": 9,
          "sf": "getindex(::Tuple, ::Int64) at tuple.jl:24",
          "status": "Garbage collection",
          "x1": 11805,
          "x2": 11847.9
         },
         {
          "level": 9,
          "sf": "getindex(::Array{Tuple{BigInt,BigInt},1}, ::Int64) at array.jl:788",
          "status": "Default",
          "x1": 11848,
          "x2": 11856.9
         },
         {
          "level": 9,
          "sf": "getindex(::Tuple, ::Int64) at tuple.jl:24",
          "status": "Default",
          "x1": 12062,
          "x2": 12062.9
         },
         {
          "level": 9,
          "sf": "getindex(::Tuple, ::Int64) at tuple.jl:24",
          "status": "Default",
          "x1": 12063,
          "x2": 12067.9
         },
         {
          "level": 8,
          "sf": "main(::String) at In[1]:64",
          "status": "Garbage collection",
          "x1": 12131,
          "x2": 13627.9
         },
         {
          "level": 9,
          "sf": "tadd at In[1]:12 [inlined]",
          "status": "Garbage collection",
          "x1": 12131,
          "x2": 12861.9
         },
         {
          "level": 10,
          "sf": "* at gmp.jl:535 [inlined]",
          "status": "Default",
          "x1": 12131,
          "x2": 12679.9
         },
         {
          "level": 11,
          "sf": "* at gmp.jl:534 [inlined]",
          "status": "Default",
          "x1": 12131,
          "x2": 12679.9
         },
         {
          "level": 12,
          "sf": "mul_si(::BigInt, ::Int64) at gmp.jl:182",
          "status": "Default",
          "x1": 12131,
          "x2": 12677.9
         },
         {
          "level": 13,
          "sf": "BigInt at gmp.jl:56 [inlined]",
          "status": "Default",
          "x1": 12131,
          "x2": 12482.9
         },
         {
          "level": 14,
          "sf": "BigInt at gmp.jl:56 [inlined]",
          "status": "Garbage collection",
          "x1": 12131,
          "x2": 12474.9
         },
         {
          "level": 15,
          "sf": "init2! at gmp.jl:140 [inlined]",
          "status": "Garbage collection",
          "x1": 12131,
          "x2": 12453.9
         },
         {
          "level": 14,
          "sf": "BigInt at gmp.jl:57 [inlined]",
          "status": "Default",
          "x1": 12475,
          "x2": 12482.9
         },
         {
          "level": 15,
          "sf": "finalizer at gcutils.jl:32 [inlined]",
          "status": "Garbage collection",
          "x1": 12475,
          "x2": 12481.9
         },
         {
          "level": 13,
          "sf": "mul_si! at gmp.jl:181 [inlined]",
          "status": "Garbage collection",
          "x1": 12483,
          "x2": 12674.9
         },
         {
          "level": 10,
          "sf": "+ at gmp.jl:473 [inlined]",
          "status": "Default",
          "x1": 12680,
          "x2": 12824.9
         },
         {
          "level": 11,
          "sf": "add(::BigInt, ::BigInt) at gmp.jl:155",
          "status": "Default",
          "x1": 12680,
          "x2": 12822.9
         },
         {
          "level": 12,
          "sf": "getproperty at Base.jl:33 [inlined]",
          "status": "Default",
          "x1": 12680,
          "x2": 12692.9
         },
         {
          "level": 12,
          "sf": "Type at gmp.jl:56 [inlined]",
          "status": "Default",
          "x1": 12693,
          "x2": 12804.9
         },
         {
          "level": 13,
          "sf": "BigInt at gmp.jl:56 [inlined]",
          "status": "Garbage collection",
          "x1": 12693,
          "x2": 12799.9
         },
         {
          "level": 14,
          "sf": "init2! at gmp.jl:140 [inlined]",
          "status": "Garbage collection",
          "x1": 12693,
          "x2": 12775.9
         },
         {
          "level": 15,
          "sf": "cconvert at essentials.jl:390 [inlined]",
          "status": "Default",
          "x1": 12693,
          "x2": 12693.9
         },
         {
          "level": 16,
          "sf": "convert at number.jl:7 [inlined]",
          "status": "Default",
          "x1": 12693,
          "x2": 12693.9
         },
         {
          "level": 17,
          "sf": "UInt64 at boot.jl:712 [inlined]",
          "status": "Default",
          "x1": 12693,
          "x2": 12693.9
         },
         {
          "level": 18,
          "sf": "toUInt64 at boot.jl:682 [inlined]",
          "status": "Default",
          "x1": 12693,
          "x2": 12693.9
         },
         {
          "level": 19,
          "sf": "check_top_bit at boot.jl:571 [inlined]",
          "status": "Default",
          "x1": 12693,
          "x2": 12693.9
         },
         {
          "level": 20,
          "sf": "is_top_bit_set at boot.jl:561 [inlined]",
          "status": "Default",
          "x1": 12693,
          "x2": 12693.9
         },
         {
          "level": 13,
          "sf": "BigInt at gmp.jl:57 [inlined]",
          "status": "Default",
          "x1": 12800,
          "x2": 12804.9
         },
         {
          "level": 14,
          "sf": "finalizer at gcutils.jl:32 [inlined]",
          "status": "Garbage collection",
          "x1": 12800,
          "x2": 12803.9
         },
         {
          "level": 12,
          "sf": "add! at gmp.jl:154 [inlined]",
          "status": "Default",
          "x1": 12805,
          "x2": 12821.9
         },
         {
          "level": 12,
          "sf": "max at promotion.jl:409 [inlined]",
          "status": "Default",
          "x1": 12822,
          "x2": 12822.9
         },
         {
          "level": 10,
          "sf": "getindex at tuple.jl:24 [inlined]",
          "status": "Default",
          "x1": 12825,
          "x2": 12825.9
         },
         {
          "level": 9,
          "sf": "getindex(::Array{Tuple{Char,Int64},1}, ::Int64) at array.jl:788",
          "status": "Default",
          "x1": 12862,
          "x2": 12862.9
         },
         {
          "level": 9,
          "sf": "getindex(::Tuple, ::Int64) at tuple.jl:24",
          "status": "Garbage collection",
          "x1": 13322,
          "x2": 13530.9
         },
         {
          "level": 9,
          "sf": "getindex(::Array{Tuple{BigInt,BigInt},1}, ::Int64) at array.jl:788",
          "status": "Default",
          "x1": 13533,
          "x2": 13540.9
         },
         {
          "level": 9,
          "sf": "getindex(::Tuple, ::Int64) at sys.so:?",
          "status": "Default",
          "x1": 13581,
          "x2": 13581.9
         },
         {
          "level": 10,
          "sf": "getindex(::Tuple, ::Int64) at tuple.jl:24",
          "status": "Default",
          "x1": 13581,
          "x2": 13581.9
         },
         {
          "level": 8,
          "sf": "main(::String) at In[1]:65",
          "status": "Garbage collection",
          "x1": 13628,
          "x2": 15637.9
         },
         {
          "level": 9,
          "sf": "getindex(::Tuple, ::Int64) at tuple.jl:24",
          "status": "Default",
          "x1": 13628,
          "x2": 13628.9
         },
         {
          "level": 9,
          "sf": "==(::Char, ::Char) at char.jl:208",
          "status": "Default",
          "x1": 14998,
          "x2": 15000.9
         },
         {
          "level": 10,
          "sf": "== at promotion.jl:398 [inlined]",
          "status": "Default",
          "x1": 14998,
          "x2": 14999.9
         },
         {
          "level": 9,
          "sf": "getindex(::Tuple, ::Int64) at tuple.jl:24",
          "status": "Default",
          "x1": 15010,
          "x2": 15115.9
         },
         {
          "level": 9,
          "sf": "getindex(::Array{Tuple{Char,Int64},1}, ::Int64) at array.jl:788",
          "status": "Default",
          "x1": 15117,
          "x2": 15128.9
         },
         {
          "level": 9,
          "sf": "==(::Char, ::Char) at sys.so:?",
          "status": "Default",
          "x1": 15596,
          "x2": 15601.9
         },
         {
          "level": 9,
          "sf": "getindex(::Tuple, ::Int64) at sys.so:?",
          "status": "Default",
          "x1": 15602,
          "x2": 15604.9
         },
         {
          "level": 10,
          "sf": "getindex(::Tuple, ::Int64) at tuple.jl:24",
          "status": "Default",
          "x1": 15602,
          "x2": 15603.9
         },
         {
          "level": 9,
          "sf": "getindex(::Tuple, ::Int64) at tuple.jl:24",
          "status": "Default",
          "x1": 15609,
          "x2": 15609.9
         },
         {
          "level": 9,
          "sf": "getindex(::Tuple, ::Int64) at tuple.jl:24",
          "status": "Default",
          "x1": 15610,
          "x2": 15617.9
         },
         {
          "level": 8,
          "sf": "main(::String) at In[1]:66",
          "status": "Garbage collection",
          "x1": 15638,
          "x2": 16835.9
         },
         {
          "level": 9,
          "sf": "tsub at In[1]:16 [inlined]",
          "status": "Garbage collection",
          "x1": 15638,
          "x2": 16164.9
         },
         {
          "level": 10,
          "sf": "* at gmp.jl:535 [inlined]",
          "status": "Default",
          "x1": 15638,
          "x2": 15975.9
         },
         {
          "level": 11,
          "sf": "* at gmp.jl:534 [inlined]",
          "status": "Default",
          "x1": 15638,
          "x2": 15975.9
         },
         {
          "level": 12,
          "sf": "mul_si(::BigInt, ::Int64) at gmp.jl:182",
          "status": "Default",
          "x1": 15638,
          "x2": 15974.9
         },
         {
          "level": 13,
          "sf": "BigInt at gmp.jl:56 [inlined]",
          "status": "Default",
          "x1": 15638,
          "x2": 15813.9
         },
         {
          "level": 14,
          "sf": "BigInt at gmp.jl:56 [inlined]",
          "status": "Garbage collection",
          "x1": 15638,
          "x2": 15806.9
         },
         {
          "level": 15,
          "sf": "init2! at gmp.jl:140 [inlined]",
          "status": "Garbage collection",
          "x1": 15638,
          "x2": 15789.9
         },
         {
          "level": 14,
          "sf": "BigInt at gmp.jl:57 [inlined]",
          "status": "Default",
          "x1": 15807,
          "x2": 15813.9
         },
         {
          "level": 15,
          "sf": "finalizer at gcutils.jl:32 [inlined]",
          "status": "Garbage collection",
          "x1": 15807,
          "x2": 15812.9
         },
         {
          "level": 13,
          "sf": "mul_si! at gmp.jl:181 [inlined]",
          "status": "Garbage collection",
          "x1": 15814,
          "x2": 15974.9
         },
         {
          "level": 10,
          "sf": "- at gmp.jl:473 [inlined]",
          "status": "Default",
          "x1": 15976,
          "x2": 16148.9
         },
         {
          "level": 11,
          "sf": "sub(::BigInt, ::BigInt) at gmp.jl:155",
          "status": "Default",
          "x1": 15976,
          "x2": 16146.9
         },
         {
          "level": 12,
          "sf": "getproperty at Base.jl:33 [inlined]",
          "status": "Default",
          "x1": 15976,
          "x2": 15990.9
         },
         {
          "level": 12,
          "sf": "Type at gmp.jl:56 [inlined]",
          "status": "Default",
          "x1": 15991,
          "x2": 16116.9
         },
         {
          "level": 13,
          "sf": "BigInt at gmp.jl:56 [inlined]",
          "status": "Garbage collection",
          "x1": 15991,
          "x2": 16107.9
         },
         {
          "level": 14,
          "sf": "init2! at gmp.jl:140 [inlined]",
          "status": "Garbage collection",
          "x1": 15991,
          "x2": 16079.9
         },
         {
          "level": 13,
          "sf": "BigInt at gmp.jl:57 [inlined]",
          "status": "Default",
          "x1": 16108,
          "x2": 16116.9
         },
         {
          "level": 14,
          "sf": "finalizer at gcutils.jl:32 [inlined]",
          "status": "Garbage collection",
          "x1": 16108,
          "x2": 16114.9
         },
         {
          "level": 12,
          "sf": "sub! at gmp.jl:154 [inlined]",
          "status": "Default",
          "x1": 16117,
          "x2": 16142.9
         },
         {
          "level": 12,
          "sf": "* at int.jl:54 [inlined]",
          "status": "Default",
          "x1": 16143,
          "x2": 16143.9
         },
         {
          "level": 12,
          "sf": "+ at int.jl:858 [inlined]",
          "status": "Default",
          "x1": 16144,
          "x2": 16144.9
         },
         {
          "level": 13,
          "sf": "rem at int.jl:445 [inlined]",
          "status": "Default",
          "x1": 16144,
          "x2": 16144.9
         },
         {
          "level": 9,
          "sf": "getindex(::Array{Tuple{BigInt,BigInt},1}, ::Int64) at array.jl:788",
          "status": "Default",
          "x1": 16165,
          "x2": 16165.9
         },
         {
          "level": 9,
          "sf": "getindex(::Tuple, ::Int64) at tuple.jl:24",
          "status": "Garbage collection",
          "x1": 16528,
          "x2": 16578.9
         },
         {
          "level": 9,
          "sf": "getindex(::Array{Tuple{Char,Int64},1}, ::Int64) at array.jl:788",
          "status": "Default",
          "x1": 16580,
          "x2": 16583.9
         },
         {
          "level": 9,
          "sf": "getindex(::Tuple, ::Int64) at sys.so:?",
          "status": "Default",
          "x1": 16769,
          "x2": 16769.9
         },
         {
          "level": 9,
          "sf": "getindex(::Tuple, ::Int64) at tuple.jl:24",
          "status": "Default",
          "x1": 16770,
          "x2": 16771.9
         },
         {
          "level": 9,
          "sf": "getindex(::Tuple, ::Int64) at tuple.jl:24",
          "status": "Default",
          "x1": 16772,
          "x2": 16774.9
         },
         {
          "level": 8,
          "sf": "main(::String) at In[1]:67",
          "status": "Garbage collection",
          "x1": 16836,
          "x2": 18183.9
         },
         {
          "level": 9,
          "sf": "tsub at In[1]:16 [inlined]",
          "status": "Garbage collection",
          "x1": 16836,
          "x2": 17514.9
         },
         {
          "level": 10,
          "sf": "* at gmp.jl:535 [inlined]",
          "status": "Default",
          "x1": 16836,
          "x2": 17206.9
         },
         {
          "level": 11,
          "sf": "* at gmp.jl:534 [inlined]",
          "status": "Default",
          "x1": 16836,
          "x2": 17206.9
         },
         {
          "level": 12,
          "sf": "mul_si(::BigInt, ::Int64) at gmp.jl:182",
          "status": "Default",
          "x1": 16836,
          "x2": 17206.9
         },
         {
          "level": 13,
          "sf": "BigInt at gmp.jl:56 [inlined]",
          "status": "Default",
          "x1": 16836,
          "x2": 17163.9
         },
         {
          "level": 14,
          "sf": "BigInt at gmp.jl:56 [inlined]",
          "status": "Garbage collection",
          "x1": 16836,
          "x2": 17155.9
         },
         {
          "level": 15,
          "sf": "init2! at gmp.jl:140 [inlined]",
          "status": "Garbage collection",
          "x1": 16836,
          "x2": 17131.9
         },
         {
          "level": 14,
          "sf": "BigInt at gmp.jl:57 [inlined]",
          "status": "Default",
          "x1": 17156,
          "x2": 17163.9
         },
         {
          "level": 15,
          "sf": "finalizer at gcutils.jl:32 [inlined]",
          "status": "Garbage collection",
          "x1": 17156,
          "x2": 17163.9
         },
         {
          "level": 13,
          "sf": "mul_si! at gmp.jl:181 [inlined]",
          "status": "Garbage collection",
          "x1": 17164,
          "x2": 17205.9
         },
         {
          "level": 10,
          "sf": "- at gmp.jl:473 [inlined]",
          "status": "Default",
          "x1": 17207,
          "x2": 17481.9
         },
         {
          "level": 11,
          "sf": "sub(::BigInt, ::BigInt) at gmp.jl:155",
          "status": "Default",
          "x1": 17207,
          "x2": 17480.9
         },
         {
          "level": 12,
          "sf": "getproperty at Base.jl:33 [inlined]",
          "status": "Default",
          "x1": 17207,
          "x2": 17222.9
         },
         {
          "level": 12,
          "sf": "Type at gmp.jl:56 [inlined]",
          "status": "Default",
          "x1": 17223,
          "x2": 17463.9
         },
         {
          "level": 13,
          "sf": "BigInt at gmp.jl:56 [inlined]",
          "status": "Garbage collection",
          "x1": 17223,
          "x2": 17461.9
         },
         {
          "level": 14,
          "sf": "init2! at gmp.jl:140 [inlined]",
          "status": "Garbage collection",
          "x1": 17223,
          "x2": 17441.9
         },
         {
          "level": 13,
          "sf": "BigInt at gmp.jl:57 [inlined]",
          "status": "Default",
          "x1": 17462,
          "x2": 17463.9
         },
         {
          "level": 14,
          "sf": "finalizer at gcutils.jl:32 [inlined]",
          "status": "Garbage collection",
          "x1": 17462,
          "x2": 17463.9
         },
         {
          "level": 12,
          "sf": "sub! at gmp.jl:154 [inlined]",
          "status": "Default",
          "x1": 17464,
          "x2": 17474.9
         },
         {
          "level": 12,
          "sf": "+ at int.jl:858 [inlined]",
          "status": "Default",
          "x1": 17475,
          "x2": 17475.9
         },
         {
          "level": 13,
          "sf": "rem at int.jl:445 [inlined]",
          "status": "Default",
          "x1": 17475,
          "x2": 17475.9
         },
         {
          "level": 12,
          "sf": "max at promotion.jl:409 [inlined]",
          "status": "Default",
          "x1": 17476,
          "x2": 17478.9
         },
         {
          "level": 13,
          "sf": "< at int.jl:49 [inlined]",
          "status": "Default",
          "x1": 17476,
          "x2": 17478.9
         },
         {
          "level": 9,
          "sf": "getindex(::Tuple, ::Int64) at tuple.jl:24",
          "status": "Garbage collection",
          "x1": 17931,
          "x2": 18080.9
         },
         {
          "level": 9,
          "sf": "getindex(::Array{Tuple{BigInt,BigInt},1}, ::Int64) at array.jl:788",
          "status": "Default",
          "x1": 18081,
          "x2": 18089.9
         },
         {
          "level": 9,
          "sf": "getindex(::Tuple, ::Int64) at sys.so:?",
          "status": "Default",
          "x1": 18136,
          "x2": 18136.9
         },
         {
          "level": 10,
          "sf": "getindex(::Tuple, ::Int64) at tuple.jl:24",
          "status": "Default",
          "x1": 18136,
          "x2": 18136.9
         },
         {
          "level": 9,
          "sf": "getindex(::Tuple, ::Int64) at tuple.jl:24",
          "status": "Default",
          "x1": 18137,
          "x2": 18138.9
         },
         {
          "level": 8,
          "sf": "main(::String) at In[1]:68",
          "status": "Garbage collection",
          "x1": 18184,
          "x2": 19511.9
         },
         {
          "level": 9,
          "sf": "getindex(::Array{Tuple{Char,Int64},1}, ::Int64) at array.jl:788",
          "status": "Default",
          "x1": 18184,
          "x2": 18185.9
         },
         {
          "level": 9,
          "sf": "getindex(::Tuple, ::Int64) at tuple.jl:24",
          "status": "Default",
          "x1": 19127,
          "x2": 19199.9
         },
         {
          "level": 9,
          "sf": "getindex(::Array{Tuple{Char,Int64},1}, ::Int64) at array.jl:788",
          "status": "Default",
          "x1": 19200,
          "x2": 19204.9
         },
         {
          "level": 9,
          "sf": "==(::Char, ::Char) at sys.so:?",
          "status": "Default",
          "x1": 19497,
          "x2": 19499.9
         },
         {
          "level": 9,
          "sf": "getindex(::Tuple, ::Int64) at sys.so:?",
          "status": "Default",
          "x1": 19500,
          "x2": 19500.9
         },
         {
          "level": 10,
          "sf": "getindex(::Tuple, ::Int64) at tuple.jl:24",
          "status": "Default",
          "x1": 19500,
          "x2": 19500.9
         },
         {
          "level": 9,
          "sf": "getindex(::Tuple, ::Int64) at tuple.jl:24",
          "status": "Default",
          "x1": 19501,
          "x2": 19501.9
         },
         {
          "level": 8,
          "sf": "main(::String) at In[1]:69",
          "status": "Garbage collection",
          "x1": 19512,
          "x2": 20941.9
         },
         {
          "level": 9,
          "sf": "tmul at In[1]:20 [inlined]",
          "status": "Garbage collection",
          "x1": 19512,
          "x2": 20069.9
         },
         {
          "level": 10,
          "sf": "* at gmp.jl:534 [inlined]",
          "status": "Default",
          "x1": 19512,
          "x2": 20040.9
         },
         {
          "level": 11,
          "sf": "mul_si(::BigInt, ::Int64) at gmp.jl:182",
          "status": "Default",
          "x1": 19512,
          "x2": 20039.9
         },
         {
          "level": 12,
          "sf": "BigInt at gmp.jl:56 [inlined]",
          "status": "Default",
          "x1": 19512,
          "x2": 19969.9
         },
         {
          "level": 13,
          "sf": "BigInt at gmp.jl:56 [inlined]",
          "status": "Garbage collection",
          "x1": 19512,
          "x2": 19966.9
         },
         {
          "level": 14,
          "sf": "init2! at gmp.jl:140 [inlined]",
          "status": "Garbage collection",
          "x1": 19512,
          "x2": 19774.9
         },
         {
          "level": 14,
          "sf": "close(::IOStream) at iostream.jl:45",
          "status": "Default",
          "x1": 19933,
          "x2": 19933.9
         },
         {
          "level": 15,
          "sf": "macro expansion at lock.jl:194 [inlined]",
          "status": "Default",
          "x1": 19933,
          "x2": 19933.9
         },
         {
          "level": 13,
          "sf": "BigInt at gmp.jl:57 [inlined]",
          "status": "Default",
          "x1": 19967,
          "x2": 19969.9
         },
         {
          "level": 14,
          "sf": "finalizer at gcutils.jl:32 [inlined]",
          "status": "Garbage collection",
          "x1": 19967,
          "x2": 19968.9
         },
         {
          "level": 12,
          "sf": "mul_si! at gmp.jl:181 [inlined]",
          "status": "Garbage collection",
          "x1": 19970,
          "x2": 20038.9
         },
         {
          "level": 9,
          "sf": "getindex(::Array{Tuple{Char,Int64},1}, ::Int64) at array.jl:788",
          "status": "Default",
          "x1": 20070,
          "x2": 20070.9
         },
         {
          "level": 9,
          "sf": "getindex(::Tuple, ::Int64) at tuple.jl:24",
          "status": "Garbage collection",
          "x1": 20536,
          "x2": 20584.9
         },
         {
          "level": 9,
          "sf": "getindex(::Array{Tuple{Char,Int64},1}, ::Int64) at array.jl:788",
          "status": "Default",
          "x1": 20586,
          "x2": 20592.9
         },
         {
          "level": 9,
          "sf": "getindex(::Tuple, ::Int64) at tuple.jl:24",
          "status": "Default",
          "x1": 20881,
          "x2": 20882.9
         },
         {
          "level": 8,
          "sf": "main(::String) at In[1]:70",
          "status": "Garbage collection",
          "x1": 20942,
          "x2": 22164.9
         },
         {
          "level": 9,
          "sf": "tmul at In[1]:20 [inlined]",
          "status": "Garbage collection",
          "x1": 20942,
          "x2": 21330.9
         },
         {
          "level": 10,
          "sf": "* at gmp.jl:534 [inlined]",
          "status": "Default",
          "x1": 20942,
          "x2": 21301.9
         },
         {
          "level": 11,
          "sf": "mul_si(::BigInt, ::Int64) at gmp.jl:182",
          "status": "Default",
          "x1": 20942,
          "x2": 21301.9
         },
         {
          "level": 12,
          "sf": "BigInt at gmp.jl:56 [inlined]",
          "status": "Default",
          "x1": 20942,
          "x2": 21203.9
         },
         {
          "level": 13,
          "sf": "BigInt at gmp.jl:56 [inlined]",
          "status": "Garbage collection",
          "x1": 20942,
          "x2": 21196.9
         },
         {
          "level": 14,
          "sf": "init2! at gmp.jl:140 [inlined]",
          "status": "Garbage collection",
          "x1": 20942,
          "x2": 21158.9
         },
         {
          "level": 13,
          "sf": "BigInt at gmp.jl:57 [inlined]",
          "status": "Default",
          "x1": 21197,
          "x2": 21203.9
         },
         {
          "level": 14,
          "sf": "finalizer at gcutils.jl:32 [inlined]",
          "status": "Garbage collection",
          "x1": 21197,
          "x2": 21203.9
         },
         {
          "level": 12,
          "sf": "mul_si! at gmp.jl:181 [inlined]",
          "status": "Garbage collection",
          "x1": 21204,
          "x2": 21300.9
         },
         {
          "level": 10,
          "sf": "getindex at tuple.jl:24 [inlined]",
          "status": "Default",
          "x1": 21302,
          "x2": 21303.9
         },
         {
          "level": 9,
          "sf": "getindex(::Array{Tuple{Char,Int64},1}, ::Int64) at array.jl:788",
          "status": "Default",
          "x1": 21331,
          "x2": 21332.9
         },
         {
          "level": 9,
          "sf": "getindex(::Tuple, ::Int64) at tuple.jl:24",
          "status": "Garbage collection",
          "x1": 21860,
          "x2": 22051.9
         },
         {
          "level": 9,
          "sf": "getindex(::Array{Tuple{Char,Int64},1}, ::Int64) at array.jl:788",
          "status": "Default",
          "x1": 22053,
          "x2": 22060.9
         },
         {
          "level": 9,
          "sf": "getindex(::Tuple, ::Int64) at sys.so:?",
          "status": "Default",
          "x1": 22121,
          "x2": 22121.9
         },
         {
          "level": 9,
          "sf": "getindex(::Tuple, ::Int64) at tuple.jl:24",
          "status": "Default",
          "x1": 22122,
          "x2": 22125.9
         },
         {
          "level": 8,
          "sf": "main(::String) at In[1]:71",
          "status": "Garbage collection",
          "x1": 22165,
          "x2": 22854.9
         },
         {
          "level": 9,
          "sf": "getindex(::Tuple, ::Int64) at tuple.jl:24",
          "status": "Default",
          "x1": 22626,
          "x2": 22665.9
         },
         {
          "level": 9,
          "sf": "getindex(::Array{Tuple{Char,Int64},1}, ::Int64) at array.jl:788",
          "status": "Default",
          "x1": 22666,
          "x2": 22671.9
         },
         {
          "level": 9,
          "sf": "==(::Char, ::Char) at sys.so:?",
          "status": "Default",
          "x1": 22841,
          "x2": 22841.9
         },
         {
          "level": 9,
          "sf": "getindex(::Tuple, ::Int64) at sys.so:?",
          "status": "Default",
          "x1": 22842,
          "x2": 22842.9
         },
         {
          "level": 10,
          "sf": "getindex(::Tuple, ::Int64) at tuple.jl:24",
          "status": "Default",
          "x1": 22842,
          "x2": 22842.9
         },
         {
          "level": 9,
          "sf": "getindex(::Tuple, ::Int64) at tuple.jl:24",
          "status": "Default",
          "x1": 22845,
          "x2": 22846.9
         },
         {
          "level": 9,
          "sf": "getindex(::Tuple, ::Int64) at tuple.jl:24",
          "status": "Default",
          "x1": 22847,
          "x2": 22848.9
         },
         {
          "level": 8,
          "sf": "main(::String) at In[1]:72",
          "status": "Garbage collection",
          "x1": 22855,
          "x2": 24014.9
         },
         {
          "level": 9,
          "sf": "tdiv at In[1]:24 [inlined]",
          "status": "Garbage collection",
          "x1": 22855,
          "x2": 23318.9
         },
         {
          "level": 10,
          "sf": "* at gmp.jl:534 [inlined]",
          "status": "Default",
          "x1": 22855,
          "x2": 23234.9
         },
         {
          "level": 11,
          "sf": "mul_si(::BigInt, ::Int64) at gmp.jl:182",
          "status": "Default",
          "x1": 22855,
          "x2": 23234.9
         },
         {
          "level": 12,
          "sf": "BigInt at gmp.jl:56 [inlined]",
          "status": "Default",
          "x1": 22855,
          "x2": 23182.9
         },
         {
          "level": 13,
          "sf": "BigInt at gmp.jl:56 [inlined]",
          "status": "Garbage collection",
          "x1": 22855,
          "x2": 23176.9
         },
         {
          "level": 14,
          "sf": "init2! at gmp.jl:140 [inlined]",
          "status": "Garbage collection",
          "x1": 22855,
          "x2": 23154.9
         },
         {
          "level": 13,
          "sf": "BigInt at gmp.jl:57 [inlined]",
          "status": "Default",
          "x1": 23177,
          "x2": 23182.9
         },
         {
          "level": 14,
          "sf": "finalizer at gcutils.jl:32 [inlined]",
          "status": "Garbage collection",
          "x1": 23177,
          "x2": 23182.9
         },
         {
          "level": 12,
          "sf": "mul_si! at gmp.jl:181 [inlined]",
          "status": "Garbage collection",
          "x1": 23183,
          "x2": 23234.9
         },
         {
          "level": 10,
          "sf": "- at gmp.jl:541 [inlined]",
          "status": "Default",
          "x1": 23235,
          "x2": 23293.9
         },
         {
          "level": 11,
          "sf": "neg(::BigInt) at gmp.jl:189",
          "status": "Default",
          "x1": 23235,
          "x2": 23293.9
         },
         {
          "level": 12,
          "sf": "BigInt at gmp.jl:56 [inlined]",
          "status": "Default",
          "x1": 23235,
          "x2": 23280.9
         },
         {
          "level": 13,
          "sf": "BigInt at gmp.jl:56 [inlined]",
          "status": "Garbage collection",
          "x1": 23235,
          "x2": 23278.9
         },
         {
          "level": 14,
          "sf": "init2! at gmp.jl:140 [inlined]",
          "status": "Default",
          "x1": 23235,
          "x2": 23272.9
         },
         {
          "level": 13,
          "sf": "BigInt at gmp.jl:57 [inlined]",
          "status": "Default",
          "x1": 23279,
          "x2": 23280.9
         },
         {
          "level": 14,
          "sf": "finalizer at gcutils.jl:32 [inlined]",
          "status": "Garbage collection",
          "x1": 23279,
          "x2": 23279.9
         },
         {
          "level": 12,
          "sf": "neg! at gmp.jl:188 [inlined]",
          "status": "Default",
          "x1": 23281,
          "x2": 23291.9
         },
         {
          "level": 10,
          "sf": "getindex at tuple.jl:24 [inlined]",
          "status": "Default",
          "x1": 23294,
          "x2": 23294.9
         },
         {
          "level": 9,
          "sf": "getindex(::Array{Tuple{Char,Int64},1}, ::Int64) at array.jl:788",
          "status": "Default",
          "x1": 23319,
          "x2": 23319.9
         },
         {
          "level": 9,
          "sf": "getindex(::Tuple, ::Int64) at tuple.jl:24",
          "status": "Default",
          "x1": 23320,
          "x2": 23320.9
         },
         {
          "level": 9,
          "sf": "getindex(::Tuple, ::Int64) at tuple.jl:24",
          "status": "Garbage collection",
          "x1": 23769,
          "x2": 23815.9
         },
         {
          "level": 9,
          "sf": "getindex(::Array{Tuple{Char,Int64},1}, ::Int64) at array.jl:788",
          "status": "Default",
          "x1": 23816,
          "x2": 23827.9
         },
         {
          "level": 9,
          "sf": "getindex(::Tuple, ::Int64) at tuple.jl:24",
          "status": "Default",
          "x1": 23958,
          "x2": 23959.9
         },
         {
          "level": 8,
          "sf": "main(::String) at In[1]:73",
          "status": "Garbage collection",
          "x1": 24015,
          "x2": 25439.9
         },
         {
          "level": 9,
          "sf": "tdiv at In[1]:24 [inlined]",
          "status": "Garbage collection",
          "x1": 24015,
          "x2": 24545.9
         },
         {
          "level": 10,
          "sf": "* at gmp.jl:534 [inlined]",
          "status": "Default",
          "x1": 24015,
          "x2": 24325.9
         },
         {
          "level": 11,
          "sf": "mul_si(::BigInt, ::Int64) at gmp.jl:182",
          "status": "Default",
          "x1": 24015,
          "x2": 24325.9
         },
         {
          "level": 12,
          "sf": "BigInt at gmp.jl:56 [inlined]",
          "status": "Default",
          "x1": 24015,
          "x2": 24266.9
         },
         {
          "level": 13,
          "sf": "BigInt at gmp.jl:56 [inlined]",
          "status": "Garbage collection",
          "x1": 24015,
          "x2": 24262.9
         },
         {
          "level": 14,
          "sf": "init2! at gmp.jl:140 [inlined]",
          "status": "Garbage collection",
          "x1": 24015,
          "x2": 24241.9
         },
         {
          "level": 13,
          "sf": "BigInt at gmp.jl:57 [inlined]",
          "status": "Default",
          "x1": 24263,
          "x2": 24266.9
         },
         {
          "level": 14,
          "sf": "finalizer at gcutils.jl:32 [inlined]",
          "status": "Garbage collection",
          "x1": 24263,
          "x2": 24266.9
         },
         {
          "level": 12,
          "sf": "mul_si! at gmp.jl:181 [inlined]",
          "status": "Garbage collection",
          "x1": 24267,
          "x2": 24325.9
         },
         {
          "level": 10,
          "sf": "- at gmp.jl:541 [inlined]",
          "status": "Default",
          "x1": 24326,
          "x2": 24508.9
         },
         {
          "level": 11,
          "sf": "neg(::BigInt) at gmp.jl:189",
          "status": "Default",
          "x1": 24326,
          "x2": 24508.9
         },
         {
          "level": 12,
          "sf": "BigInt at gmp.jl:56 [inlined]",
          "status": "Default",
          "x1": 24326,
          "x2": 24496.9
         },
         {
          "level": 13,
          "sf": "BigInt at gmp.jl:56 [inlined]",
          "status": "Garbage collection",
          "x1": 24326,
          "x2": 24496.9
         },
         {
          "level": 14,
          "sf": "init2! at gmp.jl:140 [inlined]",
          "status": "Garbage collection",
          "x1": 24326,
          "x2": 24490.9
         },
         {
          "level": 12,
          "sf": "neg! at gmp.jl:188 [inlined]",
          "status": "Default",
          "x1": 24497,
          "x2": 24506.9
         },
         {
          "level": 10,
          "sf": "< at int.jl:49 [inlined]",
          "status": "Default",
          "x1": 24509,
          "x2": 24509.9
         },
         {
          "level": 10,
          "sf": "getindex at tuple.jl:24 [inlined]",
          "status": "Default",
          "x1": 24510,
          "x2": 24513.9
         },
         {
          "level": 9,
          "sf": "getindex(::Array{Tuple{BigInt,BigInt},1}, ::Int64) at array.jl:788",
          "status": "Default",
          "x1": 24546,
          "x2": 24546.9
         },
         {
          "level": 9,
          "sf": "getindex(::Tuple, ::Int64) at tuple.jl:24",
          "status": "Default",
          "x1": 24547,
          "x2": 24547.9
         },
         {
          "level": 9,
          "sf": "getindex(::Tuple, ::Int64) at tuple.jl:24",
          "status": "Garbage collection",
          "x1": 25007,
          "x2": 25150.9
         },
         {
          "level": 9,
          "sf": "getindex(::Array{Tuple{BigInt,BigInt},1}, ::Int64) at array.jl:788",
          "status": "Default",
          "x1": 25152,
          "x2": 25169.9
         },
         {
          "level": 9,
          "sf": "getindex(::Tuple, ::Int64) at sys.so:?",
          "status": "Default",
          "x1": 25374,
          "x2": 25374.9
         },
         {
          "level": 10,
          "sf": "getindex(::Tuple, ::Int64) at tuple.jl:24",
          "status": "Default",
          "x1": 25374,
          "x2": 25374.9
         },
         {
          "level": 9,
          "sf": "getindex(::Tuple, ::Int64) at tuple.jl:24",
          "status": "Default",
          "x1": 25375,
          "x2": 25378.9
         },
         {
          "level": 8,
          "sf": "main(::String) at In[1]:75",
          "status": "Garbage collection",
          "x1": 25440,
          "x2": 29543.9
         },
         {
          "level": 9,
          "sf": "tgt(::Tuple{BigInt,BigInt}, ::Tuple{BigInt,BigInt}) at In[1]:28",
          "status": "Default",
          "x1": 25440,
          "x2": 29468.9
         },
         {
          "level": 10,
          "sf": "* at gmp.jl:473 [inlined]",
          "status": "Default",
          "x1": 25440,
          "x2": 29446.9
         },
         {
          "level": 11,
          "sf": "mul(::BigInt, ::BigInt) at gmp.jl:155",
          "status": "Default",
          "x1": 25440,
          "x2": 29438.9
         },
         {
          "level": 12,
          "sf": "Type at gmp.jl:56 [inlined]",
          "status": "Default",
          "x1": 25440,
          "x2": 28729.9
         },
         {
          "level": 13,
          "sf": "BigInt at gmp.jl:56 [inlined]",
          "status": "Garbage collection",
          "x1": 25440,
          "x2": 28678.9
         },
         {
          "level": 14,
          "sf": "init2! at gmp.jl:140 [inlined]",
          "status": "Garbage collection",
          "x1": 25440,
          "x2": 27426.9
         },
         {
          "level": 13,
          "sf": "BigInt at gmp.jl:57 [inlined]",
          "status": "Default",
          "x1": 28679,
          "x2": 28729.9
         },
         {
          "level": 14,
          "sf": "finalizer at gcutils.jl:32 [inlined]",
          "status": "Garbage collection",
          "x1": 28679,
          "x2": 28724.9
         },
         {
          "level": 12,
          "sf": "mul! at gmp.jl:154 [inlined]",
          "status": "Garbage collection",
          "x1": 28730,
          "x2": 29412.9
         },
         {
          "level": 10,
          "sf": "> at operators.jl:294 [inlined]",
          "status": "Default",
          "x1": 29447,
          "x2": 29455.9
         },
         {
          "level": 11,
          "sf": "< at gmp.jl:655 [inlined]",
          "status": "Default",
          "x1": 29447,
          "x2": 29455.9
         },
         {
          "level": 12,
          "sf": "cmp at gmp.jl:562 [inlined]",
          "status": "Default",
          "x1": 29447,
          "x2": 29455.9
         },
         {
          "level": 13,
          "sf": "cmp at gmp.jl:225 [inlined]",
          "status": "Default",
          "x1": 29447,
          "x2": 29452.9
         },
         {
          "level": 13,
          "sf": "sign at number.jl:118 [inlined]",
          "status": "Default",
          "x1": 29453,
          "x2": 29455.9
         },
         {
          "level": 14,
          "sf": "> at operators.jl:294 [inlined]",
          "status": "Default",
          "x1": 29453,
          "x2": 29455.9
         },
         {
          "level": 15,
          "sf": "< at int.jl:49 [inlined]",
          "status": "Default",
          "x1": 29453,
          "x2": 29455.9
         },
         {
          "level": 10,
          "sf": "getindex at tuple.jl:24 [inlined]",
          "status": "Default",
          "x1": 29456,
          "x2": 29458.9
         },
         {
          "level": 9,
          "sf": "mul(::BigInt, ::BigInt) at gmp.jl:155",
          "status": "Default",
          "x1": 29469,
          "x2": 29472.9
         },
         {
          "level": 9,
          "sf": "mul(::BigInt, ::BigInt) at gmp.jl:155",
          "status": "Default",
          "x1": 29488,
          "x2": 29527.9
         },
         {
          "level": 10,
          "sf": "mul! at gmp.jl:154 [inlined]",
          "status": "Default",
          "x1": 29488,
          "x2": 29513.9
         },
         {
          "level": 8,
          "sf": "main(::String) at In[1]:76",
          "status": "Default",
          "x1": 29544,
          "x2": 29544.9
         },
         {
          "level": 8,
          "sf": "main(::String) at In[1]:77",
          "status": "Default",
          "x1": 29545,
          "x2": 29556.9
         },
         {
          "level": 9,
          "sf": "setindex! at array.jl:826 [inlined]",
          "status": "Default",
          "x1": 29545,
          "x2": 29550.9
         },
         {
          "level": 8,
          "sf": "main(::String) at In[1]:78",
          "status": "Default",
          "x1": 29557,
          "x2": 29557.9
         },
         {
          "level": 9,
          "sf": "setindex! at array.jl:826 [inlined]",
          "status": "Default",
          "x1": 29557,
          "x2": 29557.9
         },
         {
          "level": 8,
          "sf": "main(::String) at In[1]:81",
          "status": "Garbage collection",
          "x1": 29558,
          "x2": 32429.9
         },
         {
          "level": 9,
          "sf": "tgt(::Tuple{BigInt,BigInt}, ::Tuple{BigInt,BigInt}) at In[1]:28",
          "status": "Default",
          "x1": 29558,
          "x2": 32044.9
         },
         {
          "level": 10,
          "sf": "* at gmp.jl:473 [inlined]",
          "status": "Default",
          "x1": 29558,
          "x2": 31981.9
         },
         {
          "level": 11,
          "sf": "mul(::BigInt, ::BigInt) at gmp.jl:155",
          "status": "Default",
          "x1": 29558,
          "x2": 31979.9
         },
         {
          "level": 12,
          "sf": "Type at gmp.jl:56 [inlined]",
          "status": "Default",
          "x1": 29558,
          "x2": 31455.9
         },
         {
          "level": 13,
          "sf": "BigInt at gmp.jl:56 [inlined]",
          "status": "Garbage collection",
          "x1": 29558,
          "x2": 31421.9
         },
         {
          "level": 14,
          "sf": "init2! at gmp.jl:140 [inlined]",
          "status": "Garbage collection",
          "x1": 29558,
          "x2": 31112.9
         },
         {
          "level": 13,
          "sf": "BigInt at gmp.jl:57 [inlined]",
          "status": "Default",
          "x1": 31422,
          "x2": 31455.9
         },
         {
          "level": 14,
          "sf": "finalizer at gcutils.jl:32 [inlined]",
          "status": "Garbage collection",
          "x1": 31422,
          "x2": 31454.9
         },
         {
          "level": 12,
          "sf": "mul! at gmp.jl:154 [inlined]",
          "status": "Garbage collection",
          "x1": 31456,
          "x2": 31962.9
         },
         {
          "level": 10,
          "sf": "> at operators.jl:294 [inlined]",
          "status": "Default",
          "x1": 31982,
          "x2": 32034.9
         },
         {
          "level": 11,
          "sf": "< at gmp.jl:655 [inlined]",
          "status": "Default",
          "x1": 31982,
          "x2": 32034.9
         },
         {
          "level": 12,
          "sf": "cmp at gmp.jl:562 [inlined]",
          "status": "Default",
          "x1": 31982,
          "x2": 32034.9
         },
         {
          "level": 13,
          "sf": "cmp at gmp.jl:225 [inlined]",
          "status": "Default",
          "x1": 31982,
          "x2": 32030.9
         },
         {
          "level": 13,
          "sf": "sign at number.jl:118 [inlined]",
          "status": "Default",
          "x1": 32031,
          "x2": 32034.9
         },
         {
          "level": 14,
          "sf": "> at operators.jl:294 [inlined]",
          "status": "Default",
          "x1": 32031,
          "x2": 32034.9
         },
         {
          "level": 15,
          "sf": "< at int.jl:49 [inlined]",
          "status": "Default",
          "x1": 32031,
          "x2": 32034.9
         },
         {
          "level": 10,
          "sf": "getindex at tuple.jl:24 [inlined]",
          "status": "Default",
          "x1": 32035,
          "x2": 32036.9
         },
         {
          "level": 9,
          "sf": "getindex(::Array{Tuple{BigInt,BigInt},1}, ::Int64) at array.jl:788",
          "status": "Default",
          "x1": 32045,
          "x2": 32047.9
         },
         {
          "level": 9,
          "sf": "setindex!(::Array{Tuple{BigInt,BigInt},1}, ::Tuple{BigInt,BigInt}, ::Int64) at array.jl:826",
          "status": "Default",
          "x1": 32048,
          "x2": 32048.9
         },
         {
          "level": 9,
          "sf": "getindex(::Array{Tuple{BigInt,BigInt},1}, ::Int64) at array.jl:788",
          "status": "Default",
          "x1": 32310,
          "x2": 32317.9
         },
         {
          "level": 9,
          "sf": "setindex!(::Array{Tuple{BigInt,BigInt},1}, ::Tuple{BigInt,BigInt}, ::Int64) at array.jl:826",
          "status": "Default",
          "x1": 32318,
          "x2": 32330.9
         },
         {
          "level": 9,
          "sf": "mul(::BigInt, ::BigInt) at gmp.jl:155",
          "status": "Default",
          "x1": 32358,
          "x2": 32389.9
         },
         {
          "level": 10,
          "sf": "mul! at gmp.jl:154 [inlined]",
          "status": "Default",
          "x1": 32358,
          "x2": 32382.9
         },
         {
          "level": 8,
          "sf": "main(::String) at In[1]:82",
          "status": "Garbage collection",
          "x1": 32430,
          "x2": 36359.9
         },
         {
          "level": 9,
          "sf": "tlt(::Tuple{BigInt,BigInt}, ::Tuple{BigInt,BigInt}) at In[1]:32",
          "status": "Default",
          "x1": 32430,
          "x2": 35384.9
         },
         {
          "level": 10,
          "sf": "* at gmp.jl:473 [inlined]",
          "status": "Default",
          "x1": 32430,
          "x2": 35341.9
         },
         {
          "level": 11,
          "sf": "mul(::BigInt, ::BigInt) at gmp.jl:155",
          "status": "Default",
          "x1": 32430,
          "x2": 35329.9
         },
         {
          "level": 12,
          "sf": "Type at gmp.jl:56 [inlined]",
          "status": "Default",
          "x1": 32430,
          "x2": 34554.9
         },
         {
          "level": 13,
          "sf": "BigInt at gmp.jl:56 [inlined]",
          "status": "Garbage collection",
          "x1": 32430,
          "x2": 34513.9
         },
         {
          "level": 14,
          "sf": "init2! at gmp.jl:140 [inlined]",
          "status": "Garbage collection",
          "x1": 32430,
          "x2": 34304.9
         },
         {
          "level": 13,
          "sf": "BigInt at gmp.jl:57 [inlined]",
          "status": "Default",
          "x1": 34514,
          "x2": 34554.9
         },
         {
          "level": 14,
          "sf": "finalizer at gcutils.jl:32 [inlined]",
          "status": "Garbage collection",
          "x1": 34514,
          "x2": 34552.9
         },
         {
          "level": 12,
          "sf": "mul! at gmp.jl:154 [inlined]",
          "status": "Garbage collection",
          "x1": 34555,
          "x2": 35316.9
         },
         {
          "level": 10,
          "sf": "< at gmp.jl:655 [inlined]",
          "status": "Default",
          "x1": 35342,
          "x2": 35365.9
         },
         {
          "level": 11,
          "sf": "cmp at gmp.jl:562 [inlined]",
          "status": "Default",
          "x1": 35342,
          "x2": 35365.9
         },
         {
          "level": 12,
          "sf": "cmp at gmp.jl:225 [inlined]",
          "status": "Default",
          "x1": 35342,
          "x2": 35362.9
         },
         {
          "level": 12,
          "sf": "sign at number.jl:118 [inlined]",
          "status": "Default",
          "x1": 35363,
          "x2": 35365.9
         },
         {
          "level": 13,
          "sf": "> at operators.jl:294 [inlined]",
          "status": "Default",
          "x1": 35363,
          "x2": 35365.9
         },
         {
          "level": 14,
          "sf": "< at int.jl:49 [inlined]",
          "status": "Default",
          "x1": 35363,
          "x2": 35365.9
         },
         {
          "level": 10,
          "sf": "getindex at tuple.jl:24 [inlined]",
          "status": "Default",
          "x1": 35366,
          "x2": 35371.9
         },
         {
          "level": 9,
          "sf": "getindex(::Array{Tuple{BigInt,BigInt},1}, ::Int64) at array.jl:788",
          "status": "Default",
          "x1": 35385,
          "x2": 35385.9
         },
         {
          "level": 9,
          "sf": "setindex!(::Array{Tuple{BigInt,BigInt},1}, ::Tuple{BigInt,BigInt}, ::Int64) at array.jl:826",
          "status": "Default",
          "x1": 35386,
          "x2": 35387.9
         },
         {
          "level": 9,
          "sf": "iterate(::UnitRange{Int64}, ::Int64) at range.jl:597",
          "status": "Default",
          "x1": 35718,
          "x2": 35718.9
         },
         {
          "level": 10,
          "sf": "== at range.jl:596 [inlined]",
          "status": "Default",
          "x1": 35718,
          "x2": 35718.9
         },
         {
          "level": 9,
          "sf": "iterate(::UnitRange{Int64}, ::Int64) at range.jl:597",
          "status": "Default",
          "x1": 35723,
          "x2": 35725.9
         },
         {
          "level": 9,
          "sf": "iterate(::UnitRange{Int64}, ::Int64) at range.jl:598",
          "status": "Default",
          "x1": 35726,
          "x2": 35731.9
         },
         {
          "level": 10,
          "sf": "+ at int.jl:53 [inlined]",
          "status": "Default",
          "x1": 35726,
          "x2": 35731.9
         },
         {
          "level": 9,
          "sf": "iterate(::UnitRange{Int64}, ::Int64) at range.jl:599",
          "status": "Default",
          "x1": 35732,
          "x2": 35733.9
         },
         {
          "level": 9,
          "sf": "getindex(::Array{Tuple{BigInt,BigInt},1}, ::Int64) at array.jl:788",
          "status": "Default",
          "x1": 36203,
          "x2": 36214.9
         },
         {
          "level": 9,
          "sf": "setindex!(::Array{Tuple{BigInt,BigInt},1}, ::Tuple{BigInt,BigInt}, ::Int64) at array.jl:826",
          "status": "Default",
          "x1": 36215,
          "x2": 36220.9
         },
         {
          "level": 9,
          "sf": "getindex(::Array{Tuple{BigInt,BigInt},1}, ::Int64) at array.jl:788",
          "status": "Default",
          "x1": 36269,
          "x2": 36269.9
         },
         {
          "level": 9,
          "sf": "mul(::BigInt, ::BigInt) at gmp.jl:155",
          "status": "Default",
          "x1": 36270,
          "x2": 36310.9
         },
         {
          "level": 10,
          "sf": "mul! at gmp.jl:154 [inlined]",
          "status": "Default",
          "x1": 36270,
          "x2": 36294.9
         },
         {
          "level": 8,
          "sf": "main(::String) at In[1]:89",
          "status": "Default",
          "x1": 36360,
          "x2": 36363.9
         },
         {
          "level": 9,
          "sf": "print(::String) at coreio.jl:3",
          "status": "Runtime dispatch",
          "x1": 36360,
          "x2": 36360.9
         },
         {
          "level": 10,
          "sf": "print(::IJulia.IJuliaStdio{Base.PipeEndpoint}, ::String) at io.jl:185",
          "status": "Default",
          "x1": 36360,
          "x2": 36360.9
         },
         {
          "level": 11,
          "sf": "write at io.jl:183 [inlined]",
          "status": "Default",
          "x1": 36360,
          "x2": 36360.9
         },
         {
          "level": 12,
          "sf": "unsafe_write at io.jl:310 [inlined]",
          "status": "Default",
          "x1": 36360,
          "x2": 36360.9
         },
         {
          "level": 13,
          "sf": "unsafe_write(::Base.PipeEndpoint, ::Ptr{UInt8}, ::UInt64) at stream.jl:1007",
          "status": "Default",
          "x1": 36360,
          "x2": 36360.9
         },
         {
          "level": 14,
          "sf": "uv_write(::Base.PipeEndpoint, ::Ptr{UInt8}, ::UInt64) at stream.jl:924",
          "status": "Default",
          "x1": 36360,
          "x2": 36360.9
         },
         {
          "level": 15,
          "sf": "uv_write_async(::Base.PipeEndpoint, ::Ptr{UInt8}, ::UInt64) at stream.jl:967",
          "status": "Default",
          "x1": 36360,
          "x2": 36360.9
         },
         {
          "level": 9,
          "sf": "iterate at range.jl:597 [inlined]",
          "status": "Default",
          "x1": 36361,
          "x2": 36363.9
         },
         {
          "level": 8,
          "sf": "tlt(::Tuple{BigInt,BigInt}, ::Tuple{BigInt,BigInt}) at In[1]:32",
          "status": "Default",
          "x1": 36364,
          "x2": 36365.9
         },
         {
          "level": 8,
          "sf": "main(::String) at array.jl:0",
          "status": "Default",
          "x1": 36366,
          "x2": 36369.9
         },
         {
          "level": 8,
          "sf": "add(::BigInt, ::BigInt) at gmp.jl:155",
          "status": "Default",
          "x1": 36370,
          "x2": 36370.9
         },
         {
          "level": 8,
          "sf": "neg(::BigInt) at gmp.jl:189",
          "status": "Default",
          "x1": 36371,
          "x2": 36371.9
         },
         {
          "level": 8,
          "sf": "set_si(::Int64) at gmp.jl:199",
          "status": "Default",
          "x1": 36372,
          "x2": 36380.9
         },
         {
          "level": 8,
          "sf": "main(::String) at range.jl:0",
          "status": "Default",
          "x1": 36381,
          "x2": 36383.9
         },
         {
          "level": 8,
          "sf": "mul_si(::BigInt, ::Int64) at gmp.jl:182",
          "status": "Default",
          "x1": 36485,
          "x2": 36495.9
         },
         {
          "level": 8,
          "sf": "tlt(::Tuple{BigInt,BigInt}, ::Tuple{BigInt,BigInt}) at In[1]:32",
          "status": "Default",
          "x1": 36525,
          "x2": 36525.9
         },
         {
          "level": 8,
          "sf": "add(::BigInt, ::BigInt) at gmp.jl:155",
          "status": "Default",
          "x1": 36526,
          "x2": 36529.9
         },
         {
          "level": 8,
          "sf": "mul_si(::BigInt, ::Int64) at gmp.jl:182",
          "status": "Default",
          "x1": 36530,
          "x2": 36535.9
         },
         {
          "level": 8,
          "sf": "neg(::BigInt) at gmp.jl:189",
          "status": "Default",
          "x1": 36536,
          "x2": 36536.9
         },
         {
          "level": 8,
          "sf": "set_si(::Int64) at gmp.jl:199",
          "status": "Default",
          "x1": 36537,
          "x2": 36568.9
         },
         {
          "level": 8,
          "sf": "sub(::BigInt, ::BigInt) at gmp.jl:155",
          "status": "Default",
          "x1": 36569,
          "x2": 36571.9
         },
         {
          "level": 1,
          "sf": "eventloop(::ZMQ.Socket) at eventloop.jl:8",
          "status": "Default",
          "x1": 36625,
          "x2": 36625.9
         },
         {
          "level": 2,
          "sf": "invokelatest at essentials.jl:711 [inlined]",
          "status": "Default",
          "x1": 36625,
          "x2": 36625.9
         },
         {
          "level": 3,
          "sf": "#invokelatest#1 at essentials.jl:712 [inlined]",
          "status": "Runtime dispatch",
          "x1": 36625,
          "x2": 36625.9
         },
         {
          "level": 4,
          "sf": "execute_request(::ZMQ.Socket, ::IJulia.Msg) at execute_request.jl:67",
          "status": "Runtime dispatch",
          "x1": 36625,
          "x2": 36625.9
         },
         {
          "level": 5,
          "sf": "softscope_include_string(::Module, ::String, ::String) at SoftGlobalScope.jl:218",
          "status": "Default",
          "x1": 36625,
          "x2": 36625.9
         },
         {
          "level": 6,
          "sf": "eval at boot.jl:331 [inlined]",
          "status": "Runtime dispatch",
          "x1": 36625,
          "x2": 36625.9
         },
         {
          "level": 7,
          "sf": "main(::String) at In[1]:81",
          "status": "Default",
          "x1": 36625,
          "x2": 36625.9
         },
         {
          "level": 8,
          "sf": "tgt(::Tuple{BigInt,BigInt}, ::Tuple{BigInt,BigInt}) at In[1]:28",
          "status": "Default",
          "x1": 36625,
          "x2": 36625.9
         },
         {
          "level": 9,
          "sf": "* at gmp.jl:473 [inlined]",
          "status": "Default",
          "x1": 36625,
          "x2": 36625.9
         },
         {
          "level": 10,
          "sf": "mul(::BigInt, ::BigInt) at gmp.jl:155",
          "status": "Default",
          "x1": 36625,
          "x2": 36625.9
         },
         {
          "level": 11,
          "sf": "Type at gmp.jl:56 [inlined]",
          "status": "Default",
          "x1": 36625,
          "x2": 36625.9
         },
         {
          "level": 12,
          "sf": "BigInt at gmp.jl:56 [inlined]",
          "status": "Default",
          "x1": 36625,
          "x2": 36625.9
         },
         {
          "level": 13,
          "sf": "init2! at gmp.jl:140 [inlined]",
          "status": "Garbage collection",
          "x1": 36625,
          "x2": 36625.9
         },
         {
          "level": 1,
          "sf": "getindex(::Tuple, ::Int64) at sys.so:?",
          "status": "Default",
          "x1": 36858,
          "x2": 36858.9
         },
         {
          "level": 1,
          "sf": "sub(::BigInt, ::BigInt) at gmp.jl:155",
          "status": "Default",
          "x1": 37040,
          "x2": 37041.9
         }
        ]
       },
       "encoding": {
        "color": {
         "field": "status",
         "legend": {
          "orient": "bottom",
          "title": null
         },
         "type": "nominal"
        },
        "fillOpacity": {
         "condition": [
          {
           "selection": "highlight",
           "value": 0.6
          },
          {
           "selection": "select",
           "value": 0.5
          }
         ],
         "value": 1
        },
        "strokeWidth": {
         "condition": [
          {
           "selection": "highlight",
           "value": 0.5
          },
          {
           "selection": "select",
           "value": 0.5
          }
         ],
         "value": 0
        },
        "tooltip": {
         "field": "sf",
         "type": "nominal"
        },
        "x": {
         "axis": null,
         "field": "x1",
         "type": "quantitative"
        },
        "x2": {
         "field": "x2",
         "type": "quantitative"
        },
        "y": {
         "axis": null,
         "field": "level",
         "type": "quantitative"
        },
        "y2": {
         "field": "level2",
         "type": "quantitative"
        }
       },
       "height": 400,
       "mark": {
        "stroke": "#505050",
        "type": "rect"
       },
       "selection": {
        "grid": {
         "bind": "scales",
         "type": "interval"
        },
        "highlight": {
         "empty": "none",
         "on": "mouseover",
         "type": "single"
        },
        "select": {
         "empty": "none",
         "type": "multi"
        }
       },
       "title": "Profile Results",
       "transform": [
        {
         "as": "level2",
         "calculate": "datum.level+0.9"
        }
       ],
       "width": 800
      },
      "image/png": "[encoded data removed]",
      "image/svg+xml": [
       "<?xml version=\"1.0\" encoding=\"utf-8\"?>\n",
       "<!DOCTYPE svg PUBLIC \"-//W3C//DTD SVG 1.1//EN\" \"http://www.w3.org/Graphics/SVG/1.1/DTD/svg11.dtd\">\n",
       "<svg class=\"marks\" width=\"810\" height=\"458\" viewBox=\"0 0 810 458\" version=\"1.1\" xmlns=\"http://www.w3.org/2000/svg\" xmlns:xlink=\"http://www.w3.org/1999/xlink\"><rect width=\"810\" height=\"458\" style=\"fill: white;\"></rect><defs><clipPath id=\"clip1\"><rect x=\"0\" y=\"0\" width=\"800\" height=\"400\"></rect></clipPath></defs><g transform=\"translate(5,22)\"><g class=\"mark-group role-frame root\"><g transform=\"translate(0,0)\"><path class=\"background\" d=\"M0.5,0.5h800v400h-800Z\" style=\"fill: none; stroke: #ddd;\"></path><g><g class=\"mark-rect role-mark marks\" clip-path=\"url(#clip1)\"><path d=\"M0.02,383.6363636363636h753.4180000000001v16.363636363636374h-753.4180000000001Z\" style=\"fill: #f58518; fill-opacity: 1; stroke: #505050; stroke-width: 0;\"></path><path d=\"M0.98,365.45454545454544h0.17799999999999994v16.363636363636374h-0.17799999999999994Z\" style=\"fill: #4c78a8; fill-opacity: 1; stroke: #505050; stroke-width: 0;\"></path><path d=\"M0.98,347.27272727272725h0.17799999999999994v16.363636363636374h-0.17799999999999994Z\" style=\"fill: #4c78a8; fill-opacity: 1; stroke: #505050; stroke-width: 0;\"></path><path d=\"M0.98,329.0909090909091h0.17799999999999994v16.363636363636317h-0.17799999999999994Z\" style=\"fill: #4c78a8; fill-opacity: 1; stroke: #505050; stroke-width: 0;\"></path><path d=\"M0.98,310.9090909090909h0.17799999999999994v16.363636363636374h-0.17799999999999994Z\" style=\"fill: #4c78a8; fill-opacity: 1; stroke: #505050; stroke-width: 0;\"></path><path d=\"M0.98,292.72727272727275h0.017999999999999905v16.363636363636317h-0.017999999999999905Z\" style=\"fill: #4c78a8; fill-opacity: 1; stroke: #505050; stroke-width: 0;\"></path><path d=\"M1,292.72727272727275h0.15799999999999992v16.363636363636317h-0.15799999999999992Z\" style=\"fill: #4c78a8; fill-opacity: 1; stroke: #505050; stroke-width: 0;\"></path><path d=\"M1,274.5454545454545h0.05799999999999983v16.36363636363643h-0.05799999999999983Z\" style=\"fill: #4c78a8; fill-opacity: 1; stroke: #505050; stroke-width: 0;\"></path><path d=\"M1,256.3636363636364h0.05799999999999983v16.363636363636374h-0.05799999999999983Z\" style=\"fill: #4c78a8; fill-opacity: 1; stroke: #505050; stroke-width: 0;\"></path><path d=\"M1,238.1818181818182h0.05799999999999983v16.363636363636346h-0.05799999999999983Z\" style=\"fill: #4c78a8; fill-opacity: 1; stroke: #505050; stroke-width: 0;\"></path><path d=\"M1,220.00000000000003h0.038000000000000034v16.36363636363629h-0.038000000000000034Z\" style=\"fill: #e45756; fill-opacity: 1; stroke: #505050; stroke-width: 0;\"></path><path d=\"M1,201.8181818181818h0.038000000000000034v16.363636363636346h-0.038000000000000034Z\" style=\"fill: #4c78a8; fill-opacity: 1; stroke: #505050; stroke-width: 0;\"></path><path d=\"M1,183.63636363636365h0.038000000000000034v16.363636363636346h-0.038000000000000034Z\" style=\"fill: #4c78a8; fill-opacity: 1; stroke: #505050; stroke-width: 0;\"></path><path d=\"M1,165.45454545454544h0.038000000000000034v16.363636363636402h-0.038000000000000034Z\" style=\"fill: #e45756; fill-opacity: 1; stroke: #505050; stroke-width: 0;\"></path><path d=\"M1.04,220.00000000000003h0.017999999999999794v16.36363636363629h-0.017999999999999794Z\" style=\"fill: #4c78a8; fill-opacity: 1; stroke: #505050; stroke-width: 0;\"></path><path d=\"M1.06,274.5454545454545h0.018000000000000016v16.36363636363643h-0.018000000000000016Z\" style=\"fill: #4c78a8; fill-opacity: 1; stroke: #505050; stroke-width: 0;\"></path><path d=\"M1.06,256.3636363636364h0.018000000000000016v16.363636363636374h-0.018000000000000016Z\" style=\"fill: #4c78a8; fill-opacity: 1; stroke: #505050; stroke-width: 0;\"></path><path d=\"M1.06,238.1818181818182h0.018000000000000016v16.363636363636346h-0.018000000000000016Z\" style=\"fill: #4c78a8; fill-opacity: 1; stroke: #505050; stroke-width: 0;\"></path><path d=\"M1.06,220.00000000000003h0.018000000000000016v16.36363636363629h-0.018000000000000016Z\" style=\"fill: #4c78a8; fill-opacity: 1; stroke: #505050; stroke-width: 0;\"></path><path d=\"M1.06,201.8181818181818h0.018000000000000016v16.363636363636346h-0.018000000000000016Z\" style=\"fill: #4c78a8; fill-opacity: 1; stroke: #505050; stroke-width: 0;\"></path><path d=\"M1.08,274.5454545454545h0.018000000000000016v16.36363636363643h-0.018000000000000016Z\" style=\"fill: #4c78a8; fill-opacity: 1; stroke: #505050; stroke-width: 0;\"></path><path d=\"M1.08,256.3636363636364h0.018000000000000016v16.363636363636374h-0.018000000000000016Z\" style=\"fill: #4c78a8; fill-opacity: 1; stroke: #505050; stroke-width: 0;\"></path><path d=\"M1.08,238.1818181818182h0.018000000000000016v16.363636363636346h-0.018000000000000016Z\" style=\"fill: #4c78a8; fill-opacity: 1; stroke: #505050; stroke-width: 0;\"></path><path d=\"M1.08,220.00000000000003h0.018000000000000016v16.36363636363629h-0.018000000000000016Z\" style=\"fill: #4c78a8; fill-opacity: 1; stroke: #505050; stroke-width: 0;\"></path><path d=\"M1.08,201.8181818181818h0.018000000000000016v16.363636363636346h-0.018000000000000016Z\" style=\"fill: #4c78a8; fill-opacity: 1; stroke: #505050; stroke-width: 0;\"></path><path d=\"M1.0999999999999999,274.5454545454545h0.038000000000000034v16.36363636363643h-0.038000000000000034Z\" style=\"fill: #4c78a8; fill-opacity: 1; stroke: #505050; stroke-width: 0;\"></path><path d=\"M1.0999999999999999,256.3636363636364h0.038000000000000034v16.363636363636374h-0.038000000000000034Z\" style=\"fill: #4c78a8; fill-opacity: 1; stroke: #505050; stroke-width: 0;\"></path><path d=\"M1.0999999999999999,238.1818181818182h0.038000000000000034v16.363636363636346h-0.038000000000000034Z\" style=\"fill: #4c78a8; fill-opacity: 1; stroke: #505050; stroke-width: 0;\"></path><path d=\"M1.0999999999999999,220.00000000000003h0.038000000000000034v16.36363636363629h-0.038000000000000034Z\" style=\"fill: #4c78a8; fill-opacity: 1; stroke: #505050; stroke-width: 0;\"></path><path d=\"M1.0999999999999999,201.8181818181818h0.038000000000000034v16.363636363636346h-0.038000000000000034Z\" style=\"fill: #4c78a8; fill-opacity: 1; stroke: #505050; stroke-width: 0;\"></path><path d=\"M1.1400000000000001,274.5454545454545h0.017999999999999794v16.36363636363643h-0.017999999999999794Z\" style=\"fill: #4c78a8; fill-opacity: 1; stroke: #505050; stroke-width: 0;\"></path><path d=\"M1.1400000000000001,256.3636363636364h0.017999999999999794v16.363636363636374h-0.017999999999999794Z\" style=\"fill: #4c78a8; fill-opacity: 1; stroke: #505050; stroke-width: 0;\"></path><path d=\"M1.1400000000000001,238.1818181818182h0.017999999999999794v16.363636363636346h-0.017999999999999794Z\" style=\"fill: #4c78a8; fill-opacity: 1; stroke: #505050; stroke-width: 0;\"></path><path d=\"M1.1400000000000001,220.00000000000003h0.017999999999999794v16.36363636363629h-0.017999999999999794Z\" style=\"fill: #4c78a8; fill-opacity: 1; stroke: #505050; stroke-width: 0;\"></path><path d=\"M1.1400000000000001,201.8181818181818h0.017999999999999794v16.363636363636346h-0.017999999999999794Z\" style=\"fill: #4c78a8; fill-opacity: 1; stroke: #505050; stroke-width: 0;\"></path><path d=\"M1.16,365.45454545454544h731.3380000000001v16.363636363636374h-731.3380000000001Z\" style=\"fill: #4c78a8; fill-opacity: 1; stroke: #505050; stroke-width: 0;\"></path><path d=\"M1.16,347.27272727272725h731.3380000000001v16.363636363636374h-731.3380000000001Z\" style=\"fill: #4c78a8; fill-opacity: 1; stroke: #505050; stroke-width: 0;\"></path><path d=\"M1.16,329.0909090909091h731.3380000000001v16.363636363636317h-731.3380000000001Z\" style=\"fill: #4c78a8; fill-opacity: 1; stroke: #505050; stroke-width: 0;\"></path><path d=\"M1.16,310.9090909090909h731.3380000000001v16.363636363636374h-731.3380000000001Z\" style=\"fill: #e45756; fill-opacity: 1; stroke: #505050; stroke-width: 0;\"></path><path d=\"M1.16,292.72727272727275h731.3380000000001v16.363636363636317h-731.3380000000001Z\" style=\"fill: #e45756; fill-opacity: 1; stroke: #505050; stroke-width: 0;\"></path><path d=\"M1.16,274.5454545454545h731.3380000000001v16.36363636363643h-731.3380000000001Z\" style=\"fill: #4c78a8; fill-opacity: 1; stroke: #505050; stroke-width: 0;\"></path><path d=\"M1.16,256.3636363636364h731.3380000000001v16.363636363636374h-731.3380000000001Z\" style=\"fill: #f58518; fill-opacity: 1; stroke: #505050; stroke-width: 0;\"></path><path d=\"M1.16,238.1818181818182h0.3380000000000003v16.363636363636346h-0.3380000000000003Z\" style=\"fill: #4c78a8; fill-opacity: 1; stroke: #505050; stroke-width: 0;\"></path><path d=\"M1.5,238.1818181818182h0.17799999999999994v16.363636363636346h-0.17799999999999994Z\" style=\"fill: #4c78a8; fill-opacity: 1; stroke: #505050; stroke-width: 0;\"></path><path d=\"M1.5,220.00000000000003h0.17799999999999994v16.36363636363629h-0.17799999999999994Z\" style=\"fill: #f58518; fill-opacity: 1; stroke: #505050; stroke-width: 0;\"></path><path d=\"M1.68,238.1818181818182h0.05800000000000005v16.363636363636346h-0.05800000000000005Z\" style=\"fill: #4c78a8; fill-opacity: 1; stroke: #505050; stroke-width: 0;\"></path><path d=\"M1.68,220.00000000000003h0.05800000000000005v16.36363636363629h-0.05800000000000005Z\" style=\"fill: #e45756; fill-opacity: 1; stroke: #505050; stroke-width: 0;\"></path><path d=\"M1.68,201.8181818181818h0.05800000000000005v16.363636363636346h-0.05800000000000005Z\" style=\"fill: #4c78a8; fill-opacity: 1; stroke: #505050; stroke-width: 0;\"></path><path d=\"M1.68,183.63636363636365h0.05800000000000005v16.363636363636346h-0.05800000000000005Z\" style=\"fill: #4c78a8; fill-opacity: 1; stroke: #505050; stroke-width: 0;\"></path><path d=\"M1.68,165.45454545454544h0.05800000000000005v16.363636363636402h-0.05800000000000005Z\" style=\"fill: #4c78a8; fill-opacity: 1; stroke: #505050; stroke-width: 0;\"></path><path d=\"M1.68,147.27272727272725h0.05800000000000005v16.363636363636374h-0.05800000000000005Z\" style=\"fill: #4c78a8; fill-opacity: 1; stroke: #505050; stroke-width: 0;\"></path><path d=\"M1.68,129.0909090909091h0.018000000000000238v16.363636363636374h-0.018000000000000238Z\" style=\"fill: #4c78a8; fill-opacity: 1; stroke: #505050; stroke-width: 0;\"></path><path d=\"M1.68,110.90909090909089h0.018000000000000238v16.363636363636402h-0.018000000000000238Z\" style=\"fill: #4c78a8; fill-opacity: 1; stroke: #505050; stroke-width: 0;\"></path><path d=\"M1.68,92.72727272727278h0.018000000000000238v16.363636363636303h-0.018000000000000238Z\" style=\"fill: #4c78a8; fill-opacity: 1; stroke: #505050; stroke-width: 0;\"></path><path d=\"M1.68,74.54545454545456h0.018000000000000238v16.36363636363636h-0.018000000000000238Z\" style=\"fill: #f58518; fill-opacity: 1; stroke: #505050; stroke-width: 0;\"></path><path d=\"M1.7000000000000002,129.0909090909091h0.03799999999999981v16.363636363636374h-0.03799999999999981Z\" style=\"fill: #4c78a8; fill-opacity: 1; stroke: #505050; stroke-width: 0;\"></path><path d=\"M1.7000000000000002,110.90909090909089h0.017999999999999794v16.363636363636402h-0.017999999999999794Z\" style=\"fill: #4c78a8; fill-opacity: 1; stroke: #505050; stroke-width: 0;\"></path><path d=\"M1.7000000000000002,92.72727272727278h0.017999999999999794v16.363636363636303h-0.017999999999999794Z\" style=\"fill: #4c78a8; fill-opacity: 1; stroke: #505050; stroke-width: 0;\"></path><path d=\"M1.72,110.90909090909089h0.018000000000000016v16.363636363636402h-0.018000000000000016Z\" style=\"fill: #4c78a8; fill-opacity: 1; stroke: #505050; stroke-width: 0;\"></path><path d=\"M1.72,92.72727272727278h0.018000000000000016v16.363636363636303h-0.018000000000000016Z\" style=\"fill: #4c78a8; fill-opacity: 1; stroke: #505050; stroke-width: 0;\"></path><path d=\"M1.7399999999999998,238.1818181818182h0.01800000000000046v16.363636363636346h-0.01800000000000046Z\" style=\"fill: #e45756; fill-opacity: 1; stroke: #505050; stroke-width: 0;\"></path><path d=\"M1.76,238.1818181818182h1.558v16.363636363636346h-1.558Z\" style=\"fill: #e45756; fill-opacity: 1; stroke: #505050; stroke-width: 0;\"></path><path d=\"M1.76,220.00000000000003h1.558v16.36363636363629h-1.558Z\" style=\"fill: #4c78a8; fill-opacity: 1; stroke: #505050; stroke-width: 0;\"></path><path d=\"M1.76,201.8181818181818h1.558v16.363636363636346h-1.558Z\" style=\"fill: #f58518; fill-opacity: 1; stroke: #505050; stroke-width: 0;\"></path><path d=\"M3.32,238.1818181818182h3.7579999999999996v16.363636363636346h-3.7579999999999996Z\" style=\"fill: #e45756; fill-opacity: 1; stroke: #505050; stroke-width: 0;\"></path><path d=\"M3.32,220.00000000000003h3.6379999999999995v16.36363636363629h-3.6379999999999995Z\" style=\"fill: #4c78a8; fill-opacity: 1; stroke: #505050; stroke-width: 0;\"></path><path d=\"M3.32,201.8181818181818h3.6379999999999995v16.363636363636346h-3.6379999999999995Z\" style=\"fill: #f58518; fill-opacity: 1; stroke: #505050; stroke-width: 0;\"></path><path d=\"M6.959999999999999,220.00000000000003h0.11800000000000033v16.36363636363629h-0.11800000000000033Z\" style=\"fill: #4c78a8; fill-opacity: 1; stroke: #505050; stroke-width: 0;\"></path><path d=\"M6.959999999999999,201.8181818181818h0.11800000000000033v16.363636363636346h-0.11800000000000033Z\" style=\"fill: #f58518; fill-opacity: 1; stroke: #505050; stroke-width: 0;\"></path><path d=\"M7.08,238.1818181818182h3.3779999999999983v16.363636363636346h-3.3779999999999983Z\" style=\"fill: #e45756; fill-opacity: 1; stroke: #505050; stroke-width: 0;\"></path><path d=\"M7.1,220.00000000000003h3.3579999999999988v16.36363636363629h-3.3579999999999988Z\" style=\"fill: #4c78a8; fill-opacity: 1; stroke: #505050; stroke-width: 0;\"></path><path d=\"M7.1,201.8181818181818h3.3579999999999988v16.363636363636346h-3.3579999999999988Z\" style=\"fill: #4c78a8; fill-opacity: 1; stroke: #505050; stroke-width: 0;\"></path><path d=\"M7.1,183.63636363636365h3.3579999999999988v16.363636363636346h-3.3579999999999988Z\" style=\"fill: #4c78a8; fill-opacity: 1; stroke: #505050; stroke-width: 0;\"></path><path d=\"M7.1,165.45454545454544h3.3579999999999988v16.363636363636402h-3.3579999999999988Z\" style=\"fill: #f58518; fill-opacity: 1; stroke: #505050; stroke-width: 0;\"></path><path d=\"M10.459999999999999,238.1818181818182h0.8980000000000015v16.363636363636346h-0.8980000000000015Z\" style=\"fill: #f58518; fill-opacity: 1; stroke: #505050; stroke-width: 0;\"></path><path d=\"M11.360000000000001,238.1818181818182h0.6579999999999977v16.363636363636346h-0.6579999999999977Z\" style=\"fill: #f58518; fill-opacity: 1; stroke: #505050; stroke-width: 0;\"></path><path d=\"M12.02,238.1818181818182h9.058000000000003v16.363636363636346h-9.058000000000003Z\" style=\"fill: #f58518; fill-opacity: 1; stroke: #505050; stroke-width: 0;\"></path><path d=\"M12.02,220.00000000000003h0.018000000000000682v16.36363636363629h-0.018000000000000682Z\" style=\"fill: #4c78a8; fill-opacity: 1; stroke: #505050; stroke-width: 0;\"></path><path d=\"M12.02,201.8181818181818h0.018000000000000682v16.363636363636346h-0.018000000000000682Z\" style=\"fill: #4c78a8; fill-opacity: 1; stroke: #505050; stroke-width: 0;\"></path><path d=\"M12.02,183.63636363636365h0.018000000000000682v16.363636363636346h-0.018000000000000682Z\" style=\"fill: #4c78a8; fill-opacity: 1; stroke: #505050; stroke-width: 0;\"></path><path d=\"M20.02,220.00000000000003h0.038000000000000256v16.36363636363629h-0.038000000000000256Z\" style=\"fill: #4c78a8; fill-opacity: 1; stroke: #505050; stroke-width: 0;\"></path><path d=\"M20.02,201.8181818181818h0.038000000000000256v16.363636363636346h-0.038000000000000256Z\" style=\"fill: #4c78a8; fill-opacity: 1; stroke: #505050; stroke-width: 0;\"></path><path d=\"M20.02,183.63636363636365h0.038000000000000256v16.363636363636346h-0.038000000000000256Z\" style=\"fill: #4c78a8; fill-opacity: 1; stroke: #505050; stroke-width: 0;\"></path><path d=\"M20.02,165.45454545454544h0.038000000000000256v16.363636363636402h-0.038000000000000256Z\" style=\"fill: #4c78a8; fill-opacity: 1; stroke: #505050; stroke-width: 0;\"></path><path d=\"M21.08,238.1818181818182h13.238000000000007v16.363636363636346h-13.238000000000007Z\" style=\"fill: #f58518; fill-opacity: 1; stroke: #505050; stroke-width: 0;\"></path><path d=\"M21.08,220.00000000000003h0.018000000000004235v16.36363636363629h-0.018000000000004235Z\" style=\"fill: #4c78a8; fill-opacity: 1; stroke: #505050; stroke-width: 0;\"></path><path d=\"M21.099999999999998,220.00000000000003h0.018000000000004235v16.36363636363629h-0.018000000000004235Z\" style=\"fill: #4c78a8; fill-opacity: 1; stroke: #505050; stroke-width: 0;\"></path><path d=\"M21.099999999999998,201.8181818181818h0.018000000000004235v16.363636363636346h-0.018000000000004235Z\" style=\"fill: #4c78a8; fill-opacity: 1; stroke: #505050; stroke-width: 0;\"></path><path d=\"M27.860000000000003,220.00000000000003h0.0379999999999967v16.36363636363629h-0.0379999999999967Z\" style=\"fill: #4c78a8; fill-opacity: 1; stroke: #505050; stroke-width: 0;\"></path><path d=\"M28.499999999999996,220.00000000000003h0.4180000000000028v16.36363636363629h-0.4180000000000028Z\" style=\"fill: #4c78a8; fill-opacity: 1; stroke: #505050; stroke-width: 0;\"></path><path d=\"M28.499999999999996,201.8181818181818h0.11800000000000921v16.363636363636346h-0.11800000000000921Z\" style=\"fill: #4c78a8; fill-opacity: 1; stroke: #505050; stroke-width: 0;\"></path><path d=\"M28.62,201.8181818181818h0.13799999999999812v16.363636363636346h-0.13799999999999812Z\" style=\"fill: #4c78a8; fill-opacity: 1; stroke: #505050; stroke-width: 0;\"></path><path d=\"M28.76,201.8181818181818h0.05799999999999628v16.363636363636346h-0.05799999999999628Z\" style=\"fill: #4c78a8; fill-opacity: 1; stroke: #505050; stroke-width: 0;\"></path><path d=\"M28.82,201.8181818181818h0.018000000000000682v16.363636363636346h-0.018000000000000682Z\" style=\"fill: #4c78a8; fill-opacity: 1; stroke: #505050; stroke-width: 0;\"></path><path d=\"M28.84,201.8181818181818h0.018000000000000682v16.363636363636346h-0.018000000000000682Z\" style=\"fill: #4c78a8; fill-opacity: 1; stroke: #505050; stroke-width: 0;\"></path><path d=\"M33.4,220.00000000000003h0.07800000000000296v16.36363636363629h-0.07800000000000296Z\" style=\"fill: #4c78a8; fill-opacity: 1; stroke: #505050; stroke-width: 0;\"></path><path d=\"M33.48,220.00000000000003h0.07800000000001006v16.36363636363629h-0.07800000000001006Z\" style=\"fill: #4c78a8; fill-opacity: 1; stroke: #505050; stroke-width: 0;\"></path><path d=\"M34.32,238.1818181818182h12.177999999999997v16.363636363636346h-12.177999999999997Z\" style=\"fill: #f58518; fill-opacity: 1; stroke: #505050; stroke-width: 0;\"></path><path d=\"M34.32,220.00000000000003h0.0379999999999967v16.36363636363629h-0.0379999999999967Z\" style=\"fill: #4c78a8; fill-opacity: 1; stroke: #505050; stroke-width: 0;\"></path><path d=\"M41.38,220.00000000000003h0.13799999999999812v16.36363636363629h-0.13799999999999812Z\" style=\"fill: #4c78a8; fill-opacity: 1; stroke: #505050; stroke-width: 0;\"></path><path d=\"M41.92,220.00000000000003h0.018000000000000682v16.36363636363629h-0.018000000000000682Z\" style=\"fill: #4c78a8; fill-opacity: 1; stroke: #505050; stroke-width: 0;\"></path><path d=\"M45.4,220.00000000000003h0.15800000000000836v16.36363636363629h-0.15800000000000836Z\" style=\"fill: #4c78a8; fill-opacity: 1; stroke: #505050; stroke-width: 0;\"></path><path d=\"M46.5,238.1818181818182h15.438000000000002v16.363636363636346h-15.438000000000002Z\" style=\"fill: #f58518; fill-opacity: 1; stroke: #505050; stroke-width: 0;\"></path><path d=\"M46.5,220.00000000000003h0.018000000000000682v16.36363636363629h-0.018000000000000682Z\" style=\"fill: #4c78a8; fill-opacity: 1; stroke: #505050; stroke-width: 0;\"></path><path d=\"M46.52,220.00000000000003h0.018000000000000682v16.36363636363629h-0.018000000000000682Z\" style=\"fill: #4c78a8; fill-opacity: 1; stroke: #505050; stroke-width: 0;\"></path><path d=\"M51.78,220.00000000000003h0.018000000000000682v16.36363636363629h-0.018000000000000682Z\" style=\"fill: #4c78a8; fill-opacity: 1; stroke: #505050; stroke-width: 0;\"></path><path d=\"M58.98,220.00000000000003h0.09799999999999898v16.36363636363629h-0.09799999999999898Z\" style=\"fill: #4c78a8; fill-opacity: 1; stroke: #505050; stroke-width: 0;\"></path><path d=\"M59.08,220.00000000000003h0.018000000000007788v16.36363636363629h-0.018000000000007788Z\" style=\"fill: #4c78a8; fill-opacity: 1; stroke: #505050; stroke-width: 0;\"></path><path d=\"M61.260000000000005,220.00000000000003h0.017999999999993577v16.36363636363629h-0.017999999999993577Z\" style=\"fill: #4c78a8; fill-opacity: 1; stroke: #505050; stroke-width: 0;\"></path><path d=\"M61.94,238.1818181818182h96.798v16.363636363636346h-96.798Z\" style=\"fill: #4c78a8; fill-opacity: 1; stroke: #505050; stroke-width: 0;\"></path><path d=\"M61.94,220.00000000000003h96.798v16.36363636363629h-96.798Z\" style=\"fill: #4c78a8; fill-opacity: 1; stroke: #505050; stroke-width: 0;\"></path><path d=\"M61.94,201.8181818181818h96.65799999999999v16.363636363636346h-96.65799999999999Z\" style=\"fill: #4c78a8; fill-opacity: 1; stroke: #505050; stroke-width: 0;\"></path><path d=\"M61.94,183.63636363636365h95.578v16.363636363636346h-95.578Z\" style=\"fill: #4c78a8; fill-opacity: 1; stroke: #505050; stroke-width: 0;\"></path><path d=\"M61.94,165.45454545454544h93.838v16.363636363636402h-93.838Z\" style=\"fill: #f58518; fill-opacity: 1; stroke: #505050; stroke-width: 0;\"></path><path d=\"M61.94,147.27272727272725h71.858v16.363636363636374h-71.858Z\" style=\"fill: #f58518; fill-opacity: 1; stroke: #505050; stroke-width: 0;\"></path><path d=\"M155.78,165.45454545454544h1.7379999999999995v16.363636363636402h-1.7379999999999995Z\" style=\"fill: #4c78a8; fill-opacity: 1; stroke: #505050; stroke-width: 0;\"></path><path d=\"M155.78,147.27272727272725h1.578000000000003v16.363636363636374h-1.578000000000003Z\" style=\"fill: #f58518; fill-opacity: 1; stroke: #505050; stroke-width: 0;\"></path><path d=\"M157.51999999999998,183.63636363636365h0.6380000000000052v16.363636363636346h-0.6380000000000052Z\" style=\"fill: #4c78a8; fill-opacity: 1; stroke: #505050; stroke-width: 0;\"></path><path d=\"M158.73999999999998,238.1818181818182h50.858000000000004v16.363636363636346h-50.858000000000004Z\" style=\"fill: #f58518; fill-opacity: 1; stroke: #505050; stroke-width: 0;\"></path><path d=\"M158.73999999999998,220.00000000000003h0.018000000000029104v16.36363636363629h-0.018000000000029104Z\" style=\"fill: #4c78a8; fill-opacity: 1; stroke: #505050; stroke-width: 0;\"></path><path d=\"M158.76,220.00000000000003h0.038000000000010914v16.36363636363629h-0.038000000000010914Z\" style=\"fill: #4c78a8; fill-opacity: 1; stroke: #505050; stroke-width: 0;\"></path><path d=\"M158.76,201.8181818181818h0.038000000000010914v16.363636363636346h-0.038000000000010914Z\" style=\"fill: #4c78a8; fill-opacity: 1; stroke: #505050; stroke-width: 0;\"></path><path d=\"M158.8,220.00000000000003h0.01799999999997226v16.36363636363629h-0.01799999999997226Z\" style=\"fill: #4c78a8; fill-opacity: 1; stroke: #505050; stroke-width: 0;\"></path><path d=\"M196.72,220.00000000000003h0.018000000000000682v16.36363636363629h-0.018000000000000682Z\" style=\"fill: #4c78a8; fill-opacity: 1; stroke: #505050; stroke-width: 0;\"></path><path d=\"M196.72,201.8181818181818h0.018000000000000682v16.363636363636346h-0.018000000000000682Z\" style=\"fill: #4c78a8; fill-opacity: 1; stroke: #505050; stroke-width: 0;\"></path><path d=\"M196.84,220.00000000000003h3.5379999999999825v16.36363636363629h-3.5379999999999825Z\" style=\"fill: #4c78a8; fill-opacity: 1; stroke: #505050; stroke-width: 0;\"></path><path d=\"M200.4,220.00000000000003h0.01799999999997226v16.36363636363629h-0.01799999999997226Z\" style=\"fill: #4c78a8; fill-opacity: 1; stroke: #505050; stroke-width: 0;\"></path><path d=\"M200.42,220.00000000000003h0.15800000000001546v16.36363636363629h-0.15800000000001546Z\" style=\"fill: #4c78a8; fill-opacity: 1; stroke: #505050; stroke-width: 0;\"></path><path d=\"M208.78,220.00000000000003h0.018000000000000682v16.36363636363629h-0.018000000000000682Z\" style=\"fill: #4c78a8; fill-opacity: 1; stroke: #505050; stroke-width: 0;\"></path><path d=\"M208.8,220.00000000000003h0.09799999999998477v16.36363636363629h-0.09799999999998477Z\" style=\"fill: #4c78a8; fill-opacity: 1; stroke: #505050; stroke-width: 0;\"></path><path d=\"M208.8,201.8181818181818h0.07799999999997453v16.363636363636346h-0.07799999999997453Z\" style=\"fill: #4c78a8; fill-opacity: 1; stroke: #505050; stroke-width: 0;\"></path><path d=\"M208.95999999999998,220.00000000000003h0.03799999999998249v16.36363636363629h-0.03799999999998249Z\" style=\"fill: #4c78a8; fill-opacity: 1; stroke: #505050; stroke-width: 0;\"></path><path d=\"M209,220.00000000000003h0.09800000000001319v16.36363636363629h-0.09800000000001319Z\" style=\"fill: #4c78a8; fill-opacity: 1; stroke: #505050; stroke-width: 0;\"></path><path d=\"M209.60000000000002,238.1818181818182h33.01799999999997v16.363636363636346h-33.01799999999997Z\" style=\"fill: #f58518; fill-opacity: 1; stroke: #505050; stroke-width: 0;\"></path><path d=\"M209.60000000000002,220.00000000000003h17.71799999999996v16.36363636363629h-17.71799999999996Z\" style=\"fill: #f58518; fill-opacity: 1; stroke: #505050; stroke-width: 0;\"></path><path d=\"M209.60000000000002,201.8181818181818h8.537999999999954v16.363636363636346h-8.537999999999954Z\" style=\"fill: #4c78a8; fill-opacity: 1; stroke: #505050; stroke-width: 0;\"></path><path d=\"M209.60000000000002,183.63636363636365h8.537999999999954v16.363636363636346h-8.537999999999954Z\" style=\"fill: #4c78a8; fill-opacity: 1; stroke: #505050; stroke-width: 0;\"></path><path d=\"M209.60000000000002,165.45454545454544h8.517999999999972v16.363636363636402h-8.517999999999972Z\" style=\"fill: #4c78a8; fill-opacity: 1; stroke: #505050; stroke-width: 0;\"></path><path d=\"M209.60000000000002,147.27272727272725h7.617999999999967v16.363636363636374h-7.617999999999967Z\" style=\"fill: #4c78a8; fill-opacity: 1; stroke: #505050; stroke-width: 0;\"></path><path d=\"M209.60000000000002,129.0909090909091h7.5379999999999825v16.363636363636374h-7.5379999999999825Z\" style=\"fill: #f58518; fill-opacity: 1; stroke: #505050; stroke-width: 0;\"></path><path d=\"M209.60000000000002,110.90909090909089h7.317999999999955v16.363636363636402h-7.317999999999955Z\" style=\"fill: #f58518; fill-opacity: 1; stroke: #505050; stroke-width: 0;\"></path><path d=\"M217.14000000000001,129.0909090909091h0.07799999999997453v16.363636363636374h-0.07799999999997453Z\" style=\"fill: #4c78a8; fill-opacity: 1; stroke: #505050; stroke-width: 0;\"></path><path d=\"M217.14000000000001,110.90909090909089h0.07799999999997453v16.363636363636402h-0.07799999999997453Z\" style=\"fill: #f58518; fill-opacity: 1; stroke: #505050; stroke-width: 0;\"></path><path d=\"M217.22000000000003,147.27272727272725h0.8579999999999757v16.363636363636374h-0.8579999999999757Z\" style=\"fill: #f58518; fill-opacity: 1; stroke: #505050; stroke-width: 0;\"></path><path d=\"M218.14,201.8181818181818h8.698000000000008v16.363636363636346h-8.698000000000008Z\" style=\"fill: #4c78a8; fill-opacity: 1; stroke: #505050; stroke-width: 0;\"></path><path d=\"M218.14,183.63636363636365h8.698000000000008v16.363636363636346h-8.698000000000008Z\" style=\"fill: #4c78a8; fill-opacity: 1; stroke: #505050; stroke-width: 0;\"></path><path d=\"M218.14,165.45454545454544h0.23800000000002797v16.363636363636402h-0.23800000000002797Z\" style=\"fill: #4c78a8; fill-opacity: 1; stroke: #505050; stroke-width: 0;\"></path><path d=\"M218.38000000000002,165.45454545454544h7.837999999999965v16.363636363636402h-7.837999999999965Z\" style=\"fill: #4c78a8; fill-opacity: 1; stroke: #505050; stroke-width: 0;\"></path><path d=\"M218.38000000000002,147.27272727272725h7.717999999999989v16.363636363636374h-7.717999999999989Z\" style=\"fill: #f58518; fill-opacity: 1; stroke: #505050; stroke-width: 0;\"></path><path d=\"M218.38000000000002,129.0909090909091h7.357999999999976v16.363636363636374h-7.357999999999976Z\" style=\"fill: #f58518; fill-opacity: 1; stroke: #505050; stroke-width: 0;\"></path><path d=\"M226.10000000000002,147.27272727272725h0.11799999999996658v16.363636363636374h-0.11799999999996658Z\" style=\"fill: #4c78a8; fill-opacity: 1; stroke: #505050; stroke-width: 0;\"></path><path d=\"M226.10000000000002,129.0909090909091h0.11799999999996658v16.363636363636374h-0.11799999999996658Z\" style=\"fill: #f58518; fill-opacity: 1; stroke: #505050; stroke-width: 0;\"></path><path d=\"M226.22,165.45454545454544h0.5379999999999825v16.363636363636402h-0.5379999999999825Z\" style=\"fill: #4c78a8; fill-opacity: 1; stroke: #505050; stroke-width: 0;\"></path><path d=\"M226.76,165.45454545454544h0.018000000000029104v16.363636363636402h-0.018000000000029104Z\" style=\"fill: #4c78a8; fill-opacity: 1; stroke: #505050; stroke-width: 0;\"></path><path d=\"M226.76,147.27272727272725h0.018000000000029104v16.363636363636374h-0.018000000000029104Z\" style=\"fill: #4c78a8; fill-opacity: 1; stroke: #505050; stroke-width: 0;\"></path><path d=\"M226.84000000000003,201.8181818181818h0.03799999999998249v16.363636363636346h-0.03799999999998249Z\" style=\"fill: #4c78a8; fill-opacity: 1; stroke: #505050; stroke-width: 0;\"></path><path d=\"M236.10000000000002,220.00000000000003h0.8579999999999757v16.36363636363629h-0.8579999999999757Z\" style=\"fill: #f58518; fill-opacity: 1; stroke: #505050; stroke-width: 0;\"></path><path d=\"M236.96,220.00000000000003h0.17799999999996885v16.36363636363629h-0.17799999999996885Z\" style=\"fill: #4c78a8; fill-opacity: 1; stroke: #505050; stroke-width: 0;\"></path><path d=\"M241.23999999999998,220.00000000000003h0.018000000000000682v16.36363636363629h-0.018000000000000682Z\" style=\"fill: #4c78a8; fill-opacity: 1; stroke: #505050; stroke-width: 0;\"></path><path d=\"M241.26,220.00000000000003h0.09800000000001319v16.36363636363629h-0.09800000000001319Z\" style=\"fill: #4c78a8; fill-opacity: 1; stroke: #505050; stroke-width: 0;\"></path><path d=\"M242.62,238.1818181818182h29.937999999999988v16.363636363636346h-29.937999999999988Z\" style=\"fill: #f58518; fill-opacity: 1; stroke: #505050; stroke-width: 0;\"></path><path d=\"M242.62,220.00000000000003h14.617999999999995v16.36363636363629h-14.617999999999995Z\" style=\"fill: #f58518; fill-opacity: 1; stroke: #505050; stroke-width: 0;\"></path><path d=\"M242.62,201.8181818181818h10.97799999999998v16.363636363636346h-10.97799999999998Z\" style=\"fill: #4c78a8; fill-opacity: 1; stroke: #505050; stroke-width: 0;\"></path><path d=\"M242.62,183.63636363636365h10.97799999999998v16.363636363636346h-10.97799999999998Z\" style=\"fill: #4c78a8; fill-opacity: 1; stroke: #505050; stroke-width: 0;\"></path><path d=\"M242.62,165.45454545454544h10.937999999999988v16.363636363636402h-10.937999999999988Z\" style=\"fill: #4c78a8; fill-opacity: 1; stroke: #505050; stroke-width: 0;\"></path><path d=\"M242.62,147.27272727272725h7.0379999999999825v16.363636363636374h-7.0379999999999825Z\" style=\"fill: #4c78a8; fill-opacity: 1; stroke: #505050; stroke-width: 0;\"></path><path d=\"M242.62,129.0909090909091h6.877999999999986v16.363636363636374h-6.877999999999986Z\" style=\"fill: #f58518; fill-opacity: 1; stroke: #505050; stroke-width: 0;\"></path><path d=\"M242.62,110.90909090909089h6.457999999999998v16.363636363636402h-6.457999999999998Z\" style=\"fill: #f58518; fill-opacity: 1; stroke: #505050; stroke-width: 0;\"></path><path d=\"M249.5,129.0909090909091h0.15799999999998704v16.363636363636374h-0.15799999999998704Z\" style=\"fill: #4c78a8; fill-opacity: 1; stroke: #505050; stroke-width: 0;\"></path><path d=\"M249.5,110.90909090909089h0.1379999999999768v16.363636363636402h-0.1379999999999768Z\" style=\"fill: #f58518; fill-opacity: 1; stroke: #505050; stroke-width: 0;\"></path><path d=\"M249.66,147.27272727272725h3.837999999999994v16.363636363636374h-3.837999999999994Z\" style=\"fill: #f58518; fill-opacity: 1; stroke: #505050; stroke-width: 0;\"></path><path d=\"M253.6,201.8181818181818h2.897999999999996v16.363636363636346h-2.897999999999996Z\" style=\"fill: #4c78a8; fill-opacity: 1; stroke: #505050; stroke-width: 0;\"></path><path d=\"M253.6,183.63636363636365h2.8579999999999757v16.363636363636346h-2.8579999999999757Z\" style=\"fill: #4c78a8; fill-opacity: 1; stroke: #505050; stroke-width: 0;\"></path><path d=\"M253.6,165.45454545454544h0.2580000000000098v16.363636363636402h-0.2580000000000098Z\" style=\"fill: #4c78a8; fill-opacity: 1; stroke: #505050; stroke-width: 0;\"></path><path d=\"M253.86,165.45454545454544h2.2379999999999427v16.363636363636402h-2.2379999999999427Z\" style=\"fill: #4c78a8; fill-opacity: 1; stroke: #505050; stroke-width: 0;\"></path><path d=\"M253.86,147.27272727272725h2.137999999999977v16.363636363636374h-2.137999999999977Z\" style=\"fill: #f58518; fill-opacity: 1; stroke: #505050; stroke-width: 0;\"></path><path d=\"M253.86,129.0909090909091h1.657999999999987v16.363636363636374h-1.657999999999987Z\" style=\"fill: #f58518; fill-opacity: 1; stroke: #505050; stroke-width: 0;\"></path><path d=\"M253.86,110.90909090909089h0.018000000000000682v16.363636363636402h-0.018000000000000682Z\" style=\"fill: #4c78a8; fill-opacity: 1; stroke: #505050; stroke-width: 0;\"></path><path d=\"M253.86,92.72727272727278h0.018000000000000682v16.363636363636303h-0.018000000000000682Z\" style=\"fill: #4c78a8; fill-opacity: 1; stroke: #505050; stroke-width: 0;\"></path><path d=\"M253.86,74.54545454545456h0.018000000000000682v16.36363636363636h-0.018000000000000682Z\" style=\"fill: #4c78a8; fill-opacity: 1; stroke: #505050; stroke-width: 0;\"></path><path d=\"M253.86,56.363636363636395h0.018000000000000682v16.36363636363631h-0.018000000000000682Z\" style=\"fill: #4c78a8; fill-opacity: 1; stroke: #505050; stroke-width: 0;\"></path><path d=\"M253.86,38.18181818181823h0.018000000000000682v16.36363636363631h-0.018000000000000682Z\" style=\"fill: #4c78a8; fill-opacity: 1; stroke: #505050; stroke-width: 0;\"></path><path d=\"M253.86,20.000000000000018h0.018000000000000682v16.363636363636356h-0.018000000000000682Z\" style=\"fill: #4c78a8; fill-opacity: 1; stroke: #505050; stroke-width: 0;\"></path><path d=\"M256,147.27272727272725h0.09799999999995634v16.363636363636374h-0.09799999999995634Z\" style=\"fill: #4c78a8; fill-opacity: 1; stroke: #505050; stroke-width: 0;\"></path><path d=\"M256,129.0909090909091h0.07799999999997453v16.363636363636374h-0.07799999999997453Z\" style=\"fill: #f58518; fill-opacity: 1; stroke: #505050; stroke-width: 0;\"></path><path d=\"M256.1,165.45454545454544h0.33799999999996544v16.363636363636402h-0.33799999999996544Z\" style=\"fill: #4c78a8; fill-opacity: 1; stroke: #505050; stroke-width: 0;\"></path><path d=\"M256.44,165.45454545454544h0.01799999999997226v16.363636363636402h-0.01799999999997226Z\" style=\"fill: #4c78a8; fill-opacity: 1; stroke: #505050; stroke-width: 0;\"></path><path d=\"M256.5,201.8181818181818h0.01799999999997226v16.363636363636346h-0.01799999999997226Z\" style=\"fill: #4c78a8; fill-opacity: 1; stroke: #505050; stroke-width: 0;\"></path><path d=\"M257.24,220.00000000000003h0.01799999999997226v16.36363636363629h-0.01799999999997226Z\" style=\"fill: #4c78a8; fill-opacity: 1; stroke: #505050; stroke-width: 0;\"></path><path d=\"M266.44,220.00000000000003h4.177999999999997v16.36363636363629h-4.177999999999997Z\" style=\"fill: #f58518; fill-opacity: 1; stroke: #505050; stroke-width: 0;\"></path><path d=\"M270.65999999999997,220.00000000000003h0.15800000000001546v16.36363636363629h-0.15800000000001546Z\" style=\"fill: #4c78a8; fill-opacity: 1; stroke: #505050; stroke-width: 0;\"></path><path d=\"M271.62,220.00000000000003h0.01799999999997226v16.36363636363629h-0.01799999999997226Z\" style=\"fill: #4c78a8; fill-opacity: 1; stroke: #505050; stroke-width: 0;\"></path><path d=\"M271.62,201.8181818181818h0.01799999999997226v16.363636363636346h-0.01799999999997226Z\" style=\"fill: #4c78a8; fill-opacity: 1; stroke: #505050; stroke-width: 0;\"></path><path d=\"M272.56,238.1818181818182h40.19799999999998v16.363636363636346h-40.19799999999998Z\" style=\"fill: #f58518; fill-opacity: 1; stroke: #505050; stroke-width: 0;\"></path><path d=\"M272.56,220.00000000000003h0.01799999999997226v16.36363636363629h-0.01799999999997226Z\" style=\"fill: #4c78a8; fill-opacity: 1; stroke: #505050; stroke-width: 0;\"></path><path d=\"M299.96,220.00000000000003h0.057999999999992724v16.36363636363629h-0.057999999999992724Z\" style=\"fill: #4c78a8; fill-opacity: 1; stroke: #505050; stroke-width: 0;\"></path><path d=\"M299.96,201.8181818181818h0.038000000000010914v16.363636363636346h-0.038000000000010914Z\" style=\"fill: #4c78a8; fill-opacity: 1; stroke: #505050; stroke-width: 0;\"></path><path d=\"M300.2,220.00000000000003h2.117999999999995v16.36363636363629h-2.117999999999995Z\" style=\"fill: #4c78a8; fill-opacity: 1; stroke: #505050; stroke-width: 0;\"></path><path d=\"M302.34000000000003,220.00000000000003h0.23799999999999955v16.36363636363629h-0.23799999999999955Z\" style=\"fill: #4c78a8; fill-opacity: 1; stroke: #505050; stroke-width: 0;\"></path><path d=\"M311.92,220.00000000000003h0.117999999999995v16.36363636363629h-0.117999999999995Z\" style=\"fill: #4c78a8; fill-opacity: 1; stroke: #505050; stroke-width: 0;\"></path><path d=\"M312.04,220.00000000000003h0.057999999999992724v16.36363636363629h-0.057999999999992724Z\" style=\"fill: #4c78a8; fill-opacity: 1; stroke: #505050; stroke-width: 0;\"></path><path d=\"M312.04,201.8181818181818h0.03799999999995407v16.363636363636346h-0.03799999999995407Z\" style=\"fill: #4c78a8; fill-opacity: 1; stroke: #505050; stroke-width: 0;\"></path><path d=\"M312.18,220.00000000000003h0.01799999999997226v16.36363636363629h-0.01799999999997226Z\" style=\"fill: #4c78a8; fill-opacity: 1; stroke: #505050; stroke-width: 0;\"></path><path d=\"M312.2,220.00000000000003h0.15800000000001546v16.36363636363629h-0.15800000000001546Z\" style=\"fill: #4c78a8; fill-opacity: 1; stroke: #505050; stroke-width: 0;\"></path><path d=\"M312.76,238.1818181818182h23.958000000000027v16.363636363636346h-23.958000000000027Z\" style=\"fill: #f58518; fill-opacity: 1; stroke: #505050; stroke-width: 0;\"></path><path d=\"M312.76,220.00000000000003h10.538000000000011v16.36363636363629h-10.538000000000011Z\" style=\"fill: #f58518; fill-opacity: 1; stroke: #505050; stroke-width: 0;\"></path><path d=\"M312.76,201.8181818181818h6.758000000000038v16.363636363636346h-6.758000000000038Z\" style=\"fill: #4c78a8; fill-opacity: 1; stroke: #505050; stroke-width: 0;\"></path><path d=\"M312.76,183.63636363636365h6.758000000000038v16.363636363636346h-6.758000000000038Z\" style=\"fill: #4c78a8; fill-opacity: 1; stroke: #505050; stroke-width: 0;\"></path><path d=\"M312.76,165.45454545454544h6.7379999999999995v16.363636363636402h-6.7379999999999995Z\" style=\"fill: #4c78a8; fill-opacity: 1; stroke: #505050; stroke-width: 0;\"></path><path d=\"M312.76,147.27272727272725h3.518000000000029v16.363636363636374h-3.518000000000029Z\" style=\"fill: #4c78a8; fill-opacity: 1; stroke: #505050; stroke-width: 0;\"></path><path d=\"M312.76,129.0909090909091h3.377999999999986v16.363636363636374h-3.377999999999986Z\" style=\"fill: #f58518; fill-opacity: 1; stroke: #505050; stroke-width: 0;\"></path><path d=\"M312.76,110.90909090909089h3.038000000000011v16.363636363636402h-3.038000000000011Z\" style=\"fill: #f58518; fill-opacity: 1; stroke: #505050; stroke-width: 0;\"></path><path d=\"M316.14,129.0909090909091h0.13800000000003365v16.363636363636374h-0.13800000000003365Z\" style=\"fill: #4c78a8; fill-opacity: 1; stroke: #505050; stroke-width: 0;\"></path><path d=\"M316.14,110.90909090909089h0.117999999999995v16.363636363636402h-0.117999999999995Z\" style=\"fill: #f58518; fill-opacity: 1; stroke: #505050; stroke-width: 0;\"></path><path d=\"M316.28,147.27272727272725h3.2180000000000177v16.363636363636374h-3.2180000000000177Z\" style=\"fill: #f58518; fill-opacity: 1; stroke: #505050; stroke-width: 0;\"></path><path d=\"M319.52,201.8181818181818h3.458000000000027v16.363636363636346h-3.458000000000027Z\" style=\"fill: #4c78a8; fill-opacity: 1; stroke: #505050; stroke-width: 0;\"></path><path d=\"M319.52,183.63636363636365h3.4180000000000064v16.363636363636346h-3.4180000000000064Z\" style=\"fill: #4c78a8; fill-opacity: 1; stroke: #505050; stroke-width: 0;\"></path><path d=\"M319.52,165.45454545454544h0.2980000000000018v16.363636363636402h-0.2980000000000018Z\" style=\"fill: #4c78a8; fill-opacity: 1; stroke: #505050; stroke-width: 0;\"></path><path d=\"M319.82,165.45454545454544h2.518000000000029v16.363636363636402h-2.518000000000029Z\" style=\"fill: #4c78a8; fill-opacity: 1; stroke: #505050; stroke-width: 0;\"></path><path d=\"M319.82,147.27272727272725h2.3380000000000223v16.363636363636374h-2.3380000000000223Z\" style=\"fill: #f58518; fill-opacity: 1; stroke: #505050; stroke-width: 0;\"></path><path d=\"M319.82,129.0909090909091h1.77800000000002v16.363636363636374h-1.77800000000002Z\" style=\"fill: #f58518; fill-opacity: 1; stroke: #505050; stroke-width: 0;\"></path><path d=\"M322.16,147.27272727272725h0.17799999999999727v16.363636363636374h-0.17799999999999727Z\" style=\"fill: #4c78a8; fill-opacity: 1; stroke: #505050; stroke-width: 0;\"></path><path d=\"M322.16,129.0909090909091h0.1379999999999768v16.363636363636374h-0.1379999999999768Z\" style=\"fill: #f58518; fill-opacity: 1; stroke: #505050; stroke-width: 0;\"></path><path d=\"M322.34,165.45454545454544h0.5180000000000291v16.363636363636402h-0.5180000000000291Z\" style=\"fill: #4c78a8; fill-opacity: 1; stroke: #505050; stroke-width: 0;\"></path><path d=\"M322.86,165.45454545454544h0.01799999999997226v16.363636363636402h-0.01799999999997226Z\" style=\"fill: #4c78a8; fill-opacity: 1; stroke: #505050; stroke-width: 0;\"></path><path d=\"M322.88,165.45454545454544h0.018000000000029104v16.363636363636402h-0.018000000000029104Z\" style=\"fill: #4c78a8; fill-opacity: 1; stroke: #505050; stroke-width: 0;\"></path><path d=\"M322.88,147.27272727272725h0.018000000000029104v16.363636363636374h-0.018000000000029104Z\" style=\"fill: #4c78a8; fill-opacity: 1; stroke: #505050; stroke-width: 0;\"></path><path d=\"M323.3,220.00000000000003h0.01799999999997226v16.36363636363629h-0.01799999999997226Z\" style=\"fill: #4c78a8; fill-opacity: 1; stroke: #505050; stroke-width: 0;\"></path><path d=\"M330.56,220.00000000000003h1.018000000000029v16.36363636363629h-1.018000000000029Z\" style=\"fill: #f58518; fill-opacity: 1; stroke: #505050; stroke-width: 0;\"></path><path d=\"M331.59999999999997,220.00000000000003h0.07800000000008822v16.36363636363629h-0.07800000000008822Z\" style=\"fill: #4c78a8; fill-opacity: 1; stroke: #505050; stroke-width: 0;\"></path><path d=\"M335.38,220.00000000000003h0.018000000000029104v16.36363636363629h-0.018000000000029104Z\" style=\"fill: #4c78a8; fill-opacity: 1; stroke: #505050; stroke-width: 0;\"></path><path d=\"M335.40000000000003,220.00000000000003h0.038000000000010914v16.36363636363629h-0.038000000000010914Z\" style=\"fill: #4c78a8; fill-opacity: 1; stroke: #505050; stroke-width: 0;\"></path><path d=\"M335.44,220.00000000000003h0.05800000000004957v16.36363636363629h-0.05800000000004957Z\" style=\"fill: #4c78a8; fill-opacity: 1; stroke: #505050; stroke-width: 0;\"></path><path d=\"M336.71999999999997,238.1818181818182h26.958000000000084v16.363636363636346h-26.958000000000084Z\" style=\"fill: #f58518; fill-opacity: 1; stroke: #505050; stroke-width: 0;\"></path><path d=\"M336.71999999999997,220.00000000000003h13.578000000000088v16.36363636363629h-13.578000000000088Z\" style=\"fill: #f58518; fill-opacity: 1; stroke: #505050; stroke-width: 0;\"></path><path d=\"M336.71999999999997,201.8181818181818h7.418000000000063v16.363636363636346h-7.418000000000063Z\" style=\"fill: #4c78a8; fill-opacity: 1; stroke: #505050; stroke-width: 0;\"></path><path d=\"M336.71999999999997,183.63636363636365h7.418000000000063v16.363636363636346h-7.418000000000063Z\" style=\"fill: #4c78a8; fill-opacity: 1; stroke: #505050; stroke-width: 0;\"></path><path d=\"M336.71999999999997,165.45454545454544h7.418000000000063v16.363636363636402h-7.418000000000063Z\" style=\"fill: #4c78a8; fill-opacity: 1; stroke: #505050; stroke-width: 0;\"></path><path d=\"M336.71999999999997,147.27272727272725h6.55800000000005v16.363636363636374h-6.55800000000005Z\" style=\"fill: #4c78a8; fill-opacity: 1; stroke: #505050; stroke-width: 0;\"></path><path d=\"M336.71999999999997,129.0909090909091h6.398000000000081v16.363636363636374h-6.398000000000081Z\" style=\"fill: #f58518; fill-opacity: 1; stroke: #505050; stroke-width: 0;\"></path><path d=\"M336.71999999999997,110.90909090909089h5.918000000000063v16.363636363636402h-5.918000000000063Z\" style=\"fill: #f58518; fill-opacity: 1; stroke: #505050; stroke-width: 0;\"></path><path d=\"M343.12,129.0909090909091h0.15800000000001546v16.363636363636374h-0.15800000000001546Z\" style=\"fill: #4c78a8; fill-opacity: 1; stroke: #505050; stroke-width: 0;\"></path><path d=\"M343.12,110.90909090909089h0.15800000000001546v16.363636363636402h-0.15800000000001546Z\" style=\"fill: #f58518; fill-opacity: 1; stroke: #505050; stroke-width: 0;\"></path><path d=\"M343.28,147.27272727272725h0.8380000000000223v16.363636363636374h-0.8380000000000223Z\" style=\"fill: #f58518; fill-opacity: 1; stroke: #505050; stroke-width: 0;\"></path><path d=\"M344.14,201.8181818181818h5.498000000000047v16.363636363636346h-5.498000000000047Z\" style=\"fill: #4c78a8; fill-opacity: 1; stroke: #505050; stroke-width: 0;\"></path><path d=\"M344.14,183.63636363636365h5.4780000000000655v16.363636363636346h-5.4780000000000655Z\" style=\"fill: #4c78a8; fill-opacity: 1; stroke: #505050; stroke-width: 0;\"></path><path d=\"M344.14,165.45454545454544h0.3180000000000405v16.363636363636402h-0.3180000000000405Z\" style=\"fill: #4c78a8; fill-opacity: 1; stroke: #505050; stroke-width: 0;\"></path><path d=\"M344.46,165.45454545454544h4.8180000000000405v16.363636363636402h-4.8180000000000405Z\" style=\"fill: #4c78a8; fill-opacity: 1; stroke: #505050; stroke-width: 0;\"></path><path d=\"M344.46,147.27272727272725h4.77800000000002v16.363636363636374h-4.77800000000002Z\" style=\"fill: #f58518; fill-opacity: 1; stroke: #505050; stroke-width: 0;\"></path><path d=\"M344.46,129.0909090909091h4.378000000000043v16.363636363636374h-4.378000000000043Z\" style=\"fill: #f58518; fill-opacity: 1; stroke: #505050; stroke-width: 0;\"></path><path d=\"M349.24,147.27272727272725h0.038000000000010914v16.363636363636374h-0.038000000000010914Z\" style=\"fill: #4c78a8; fill-opacity: 1; stroke: #505050; stroke-width: 0;\"></path><path d=\"M349.24,129.0909090909091h0.038000000000010914v16.363636363636374h-0.038000000000010914Z\" style=\"fill: #f58518; fill-opacity: 1; stroke: #505050; stroke-width: 0;\"></path><path d=\"M349.28,165.45454545454544h0.21800000000007458v16.363636363636402h-0.21800000000007458Z\" style=\"fill: #4c78a8; fill-opacity: 1; stroke: #505050; stroke-width: 0;\"></path><path d=\"M349.5,165.45454545454544h0.018000000000029104v16.363636363636402h-0.018000000000029104Z\" style=\"fill: #4c78a8; fill-opacity: 1; stroke: #505050; stroke-width: 0;\"></path><path d=\"M349.5,147.27272727272725h0.018000000000029104v16.363636363636374h-0.018000000000029104Z\" style=\"fill: #4c78a8; fill-opacity: 1; stroke: #505050; stroke-width: 0;\"></path><path d=\"M349.52,165.45454545454544h0.05800000000004957v16.363636363636402h-0.05800000000004957Z\" style=\"fill: #4c78a8; fill-opacity: 1; stroke: #505050; stroke-width: 0;\"></path><path d=\"M349.52,147.27272727272725h0.05800000000004957v16.363636363636374h-0.05800000000004957Z\" style=\"fill: #4c78a8; fill-opacity: 1; stroke: #505050; stroke-width: 0;\"></path><path d=\"M358.62,220.00000000000003h2.9980000000000473v16.36363636363629h-2.9980000000000473Z\" style=\"fill: #f58518; fill-opacity: 1; stroke: #505050; stroke-width: 0;\"></path><path d=\"M361.62,220.00000000000003h0.17799999999999727v16.36363636363629h-0.17799999999999727Z\" style=\"fill: #4c78a8; fill-opacity: 1; stroke: #505050; stroke-width: 0;\"></path><path d=\"M362.72,220.00000000000003h0.018000000000029104v16.36363636363629h-0.018000000000029104Z\" style=\"fill: #4c78a8; fill-opacity: 1; stroke: #505050; stroke-width: 0;\"></path><path d=\"M362.72,201.8181818181818h0.018000000000029104v16.363636363636346h-0.018000000000029104Z\" style=\"fill: #4c78a8; fill-opacity: 1; stroke: #505050; stroke-width: 0;\"></path><path d=\"M362.74,220.00000000000003h0.038000000000010914v16.36363636363629h-0.038000000000010914Z\" style=\"fill: #4c78a8; fill-opacity: 1; stroke: #505050; stroke-width: 0;\"></path><path d=\"M363.68,238.1818181818182h26.55800000000005v16.363636363636346h-26.55800000000005Z\" style=\"fill: #f58518; fill-opacity: 1; stroke: #505050; stroke-width: 0;\"></path><path d=\"M363.68,220.00000000000003h0.038000000000010914v16.36363636363629h-0.038000000000010914Z\" style=\"fill: #4c78a8; fill-opacity: 1; stroke: #505050; stroke-width: 0;\"></path><path d=\"M382.54,220.00000000000003h1.45799999999997v16.36363636363629h-1.45799999999997Z\" style=\"fill: #4c78a8; fill-opacity: 1; stroke: #505050; stroke-width: 0;\"></path><path d=\"M384,220.00000000000003h0.09800000000007003v16.36363636363629h-0.09800000000007003Z\" style=\"fill: #4c78a8; fill-opacity: 1; stroke: #505050; stroke-width: 0;\"></path><path d=\"M389.94,220.00000000000003h0.05800000000004957v16.36363636363629h-0.05800000000004957Z\" style=\"fill: #4c78a8; fill-opacity: 1; stroke: #505050; stroke-width: 0;\"></path><path d=\"M390,220.00000000000003h0.018000000000029104v16.36363636363629h-0.018000000000029104Z\" style=\"fill: #4c78a8; fill-opacity: 1; stroke: #505050; stroke-width: 0;\"></path><path d=\"M390,201.8181818181818h0.018000000000029104v16.363636363636346h-0.018000000000029104Z\" style=\"fill: #4c78a8; fill-opacity: 1; stroke: #505050; stroke-width: 0;\"></path><path d=\"M390.02,220.00000000000003h0.018000000000029104v16.36363636363629h-0.018000000000029104Z\" style=\"fill: #4c78a8; fill-opacity: 1; stroke: #505050; stroke-width: 0;\"></path><path d=\"M390.24,238.1818181818182h28.598000000000013v16.363636363636346h-28.598000000000013Z\" style=\"fill: #f58518; fill-opacity: 1; stroke: #505050; stroke-width: 0;\"></path><path d=\"M390.24,220.00000000000003h11.158000000000015v16.36363636363629h-11.158000000000015Z\" style=\"fill: #f58518; fill-opacity: 1; stroke: #505050; stroke-width: 0;\"></path><path d=\"M390.24,201.8181818181818h10.578000000000031v16.363636363636346h-10.578000000000031Z\" style=\"fill: #4c78a8; fill-opacity: 1; stroke: #505050; stroke-width: 0;\"></path><path d=\"M390.24,183.63636363636365h10.557999999999993v16.363636363636346h-10.557999999999993Z\" style=\"fill: #4c78a8; fill-opacity: 1; stroke: #505050; stroke-width: 0;\"></path><path d=\"M390.24,165.45454545454544h9.158000000000015v16.363636363636402h-9.158000000000015Z\" style=\"fill: #4c78a8; fill-opacity: 1; stroke: #505050; stroke-width: 0;\"></path><path d=\"M390.24,147.27272727272725h9.098000000000013v16.363636363636374h-9.098000000000013Z\" style=\"fill: #f58518; fill-opacity: 1; stroke: #505050; stroke-width: 0;\"></path><path d=\"M390.24,129.0909090909091h5.258000000000038v16.363636363636374h-5.258000000000038Z\" style=\"fill: #f58518; fill-opacity: 1; stroke: #505050; stroke-width: 0;\"></path><path d=\"M398.66,129.0909090909091h0.018000000000029104v16.363636363636374h-0.018000000000029104Z\" style=\"fill: #4c78a8; fill-opacity: 1; stroke: #505050; stroke-width: 0;\"></path><path d=\"M398.66,110.90909090909089h0.018000000000029104v16.363636363636402h-0.018000000000029104Z\" style=\"fill: #4c78a8; fill-opacity: 1; stroke: #505050; stroke-width: 0;\"></path><path d=\"M399.34,147.27272727272725h0.05800000000004957v16.363636363636374h-0.05800000000004957Z\" style=\"fill: #4c78a8; fill-opacity: 1; stroke: #505050; stroke-width: 0;\"></path><path d=\"M399.34,129.0909090909091h0.038000000000010914v16.363636363636374h-0.038000000000010914Z\" style=\"fill: #f58518; fill-opacity: 1; stroke: #505050; stroke-width: 0;\"></path><path d=\"M399.40000000000003,165.45454545454544h1.377999999999986v16.363636363636402h-1.377999999999986Z\" style=\"fill: #f58518; fill-opacity: 1; stroke: #505050; stroke-width: 0;\"></path><path d=\"M401.40000000000003,220.00000000000003h0.018000000000029104v16.36363636363629h-0.018000000000029104Z\" style=\"fill: #4c78a8; fill-opacity: 1; stroke: #505050; stroke-width: 0;\"></path><path d=\"M410.71999999999997,220.00000000000003h0.9780000000000086v16.36363636363629h-0.9780000000000086Z\" style=\"fill: #f58518; fill-opacity: 1; stroke: #505050; stroke-width: 0;\"></path><path d=\"M411.72,220.00000000000003h0.13800000000003365v16.36363636363629h-0.13800000000003365Z\" style=\"fill: #4c78a8; fill-opacity: 1; stroke: #505050; stroke-width: 0;\"></path><path d=\"M417.61999999999995,220.00000000000003h0.03800000000006776v16.36363636363629h-0.03800000000006776Z\" style=\"fill: #4c78a8; fill-opacity: 1; stroke: #505050; stroke-width: 0;\"></path><path d=\"M418.84,238.1818181818182h24.458000000000084v16.363636363636346h-24.458000000000084Z\" style=\"fill: #f58518; fill-opacity: 1; stroke: #505050; stroke-width: 0;\"></path><path d=\"M418.84,220.00000000000003h7.778000000000077v16.36363636363629h-7.778000000000077Z\" style=\"fill: #f58518; fill-opacity: 1; stroke: #505050; stroke-width: 0;\"></path><path d=\"M418.84,201.8181818181818h7.198000000000093v16.363636363636346h-7.198000000000093Z\" style=\"fill: #4c78a8; fill-opacity: 1; stroke: #505050; stroke-width: 0;\"></path><path d=\"M418.84,183.63636363636365h7.198000000000093v16.363636363636346h-7.198000000000093Z\" style=\"fill: #4c78a8; fill-opacity: 1; stroke: #505050; stroke-width: 0;\"></path><path d=\"M418.84,165.45454545454544h5.2379999999999995v16.363636363636402h-5.2379999999999995Z\" style=\"fill: #4c78a8; fill-opacity: 1; stroke: #505050; stroke-width: 0;\"></path><path d=\"M418.84,147.27272727272725h5.09800000000007v16.363636363636374h-5.09800000000007Z\" style=\"fill: #f58518; fill-opacity: 1; stroke: #505050; stroke-width: 0;\"></path><path d=\"M418.84,129.0909090909091h4.338000000000079v16.363636363636374h-4.338000000000079Z\" style=\"fill: #f58518; fill-opacity: 1; stroke: #505050; stroke-width: 0;\"></path><path d=\"M423.94,147.27272727272725h0.1379999999999768v16.363636363636374h-0.1379999999999768Z\" style=\"fill: #4c78a8; fill-opacity: 1; stroke: #505050; stroke-width: 0;\"></path><path d=\"M423.94,129.0909090909091h0.1379999999999768v16.363636363636374h-0.1379999999999768Z\" style=\"fill: #f58518; fill-opacity: 1; stroke: #505050; stroke-width: 0;\"></path><path d=\"M424.08000000000004,165.45454545454544h1.9379999999999882v16.363636363636402h-1.9379999999999882Z\" style=\"fill: #f58518; fill-opacity: 1; stroke: #505050; stroke-width: 0;\"></path><path d=\"M426.03999999999996,201.8181818181818h0.03800000000006776v16.363636363636346h-0.03800000000006776Z\" style=\"fill: #4c78a8; fill-opacity: 1; stroke: #505050; stroke-width: 0;\"></path><path d=\"M426.62000000000006,220.00000000000003h0.03799999999995407v16.36363636363629h-0.03799999999995407Z\" style=\"fill: #4c78a8; fill-opacity: 1; stroke: #505050; stroke-width: 0;\"></path><path d=\"M437.2,220.00000000000003h3.8380000000000223v16.36363636363629h-3.8380000000000223Z\" style=\"fill: #f58518; fill-opacity: 1; stroke: #505050; stroke-width: 0;\"></path><path d=\"M441.05999999999995,220.00000000000003h0.1580000000000723v16.36363636363629h-0.1580000000000723Z\" style=\"fill: #4c78a8; fill-opacity: 1; stroke: #505050; stroke-width: 0;\"></path><path d=\"M442.42,220.00000000000003h0.018000000000029104v16.36363636363629h-0.018000000000029104Z\" style=\"fill: #4c78a8; fill-opacity: 1; stroke: #505050; stroke-width: 0;\"></path><path d=\"M442.44000000000005,220.00000000000003h0.07799999999997453v16.36363636363629h-0.07799999999997453Z\" style=\"fill: #4c78a8; fill-opacity: 1; stroke: #505050; stroke-width: 0;\"></path><path d=\"M443.29999999999995,238.1818181818182h13.798000000000116v16.363636363636346h-13.798000000000116Z\" style=\"fill: #f58518; fill-opacity: 1; stroke: #505050; stroke-width: 0;\"></path><path d=\"M452.52,220.00000000000003h0.7980000000000587v16.36363636363629h-0.7980000000000587Z\" style=\"fill: #4c78a8; fill-opacity: 1; stroke: #505050; stroke-width: 0;\"></path><path d=\"M453.32,220.00000000000003h0.11800000000005184v16.36363636363629h-0.11800000000005184Z\" style=\"fill: #4c78a8; fill-opacity: 1; stroke: #505050; stroke-width: 0;\"></path><path d=\"M456.82,220.00000000000003h0.018000000000029104v16.36363636363629h-0.018000000000029104Z\" style=\"fill: #4c78a8; fill-opacity: 1; stroke: #505050; stroke-width: 0;\"></path><path d=\"M456.84,220.00000000000003h0.018000000000029104v16.36363636363629h-0.018000000000029104Z\" style=\"fill: #4c78a8; fill-opacity: 1; stroke: #505050; stroke-width: 0;\"></path><path d=\"M456.84,201.8181818181818h0.018000000000029104v16.363636363636346h-0.018000000000029104Z\" style=\"fill: #4c78a8; fill-opacity: 1; stroke: #505050; stroke-width: 0;\"></path><path d=\"M456.9,220.00000000000003h0.03800000000006776v16.36363636363629h-0.03800000000006776Z\" style=\"fill: #4c78a8; fill-opacity: 1; stroke: #505050; stroke-width: 0;\"></path><path d=\"M456.94,220.00000000000003h0.03800000000006776v16.36363636363629h-0.03800000000006776Z\" style=\"fill: #4c78a8; fill-opacity: 1; stroke: #505050; stroke-width: 0;\"></path><path d=\"M457.09999999999997,238.1818181818182h23.198000000000093v16.363636363636346h-23.198000000000093Z\" style=\"fill: #f58518; fill-opacity: 1; stroke: #505050; stroke-width: 0;\"></path><path d=\"M457.09999999999997,220.00000000000003h9.27800000000002v16.36363636363629h-9.27800000000002Z\" style=\"fill: #f58518; fill-opacity: 1; stroke: #505050; stroke-width: 0;\"></path><path d=\"M457.09999999999997,201.8181818181818h7.59800000000007v16.363636363636346h-7.59800000000007Z\" style=\"fill: #4c78a8; fill-opacity: 1; stroke: #505050; stroke-width: 0;\"></path><path d=\"M457.09999999999997,183.63636363636365h7.59800000000007v16.363636363636346h-7.59800000000007Z\" style=\"fill: #4c78a8; fill-opacity: 1; stroke: #505050; stroke-width: 0;\"></path><path d=\"M457.09999999999997,165.45454545454544h6.55800000000005v16.363636363636402h-6.55800000000005Z\" style=\"fill: #4c78a8; fill-opacity: 1; stroke: #505050; stroke-width: 0;\"></path><path d=\"M457.09999999999997,147.27272727272725h6.438000000000102v16.363636363636374h-6.438000000000102Z\" style=\"fill: #f58518; fill-opacity: 1; stroke: #505050; stroke-width: 0;\"></path><path d=\"M457.09999999999997,129.0909090909091h5.998000000000047v16.363636363636374h-5.998000000000047Z\" style=\"fill: #f58518; fill-opacity: 1; stroke: #505050; stroke-width: 0;\"></path><path d=\"M463.53999999999996,147.27272727272725h0.11800000000005184v16.363636363636374h-0.11800000000005184Z\" style=\"fill: #4c78a8; fill-opacity: 1; stroke: #505050; stroke-width: 0;\"></path><path d=\"M463.53999999999996,129.0909090909091h0.11800000000005184v16.363636363636374h-0.11800000000005184Z\" style=\"fill: #f58518; fill-opacity: 1; stroke: #505050; stroke-width: 0;\"></path><path d=\"M463.65999999999997,165.45454545454544h1.0380000000000678v16.363636363636402h-1.0380000000000678Z\" style=\"fill: #f58518; fill-opacity: 1; stroke: #505050; stroke-width: 0;\"></path><path d=\"M464.70000000000005,201.8181818181818h1.1779999999999973v16.363636363636346h-1.1779999999999973Z\" style=\"fill: #4c78a8; fill-opacity: 1; stroke: #505050; stroke-width: 0;\"></path><path d=\"M464.70000000000005,183.63636363636365h1.1779999999999973v16.363636363636346h-1.1779999999999973Z\" style=\"fill: #4c78a8; fill-opacity: 1; stroke: #505050; stroke-width: 0;\"></path><path d=\"M464.70000000000005,165.45454545454544h0.9179999999999495v16.363636363636402h-0.9179999999999495Z\" style=\"fill: #4c78a8; fill-opacity: 1; stroke: #505050; stroke-width: 0;\"></path><path d=\"M464.70000000000005,147.27272727272725h0.8779999999999291v16.363636363636374h-0.8779999999999291Z\" style=\"fill: #f58518; fill-opacity: 1; stroke: #505050; stroke-width: 0;\"></path><path d=\"M464.70000000000005,129.0909090909091h0.7579999999999814v16.363636363636374h-0.7579999999999814Z\" style=\"fill: #4c78a8; fill-opacity: 1; stroke: #505050; stroke-width: 0;\"></path><path d=\"M465.58000000000004,147.27272727272725h0.03799999999995407v16.363636363636374h-0.03799999999995407Z\" style=\"fill: #4c78a8; fill-opacity: 1; stroke: #505050; stroke-width: 0;\"></path><path d=\"M465.58000000000004,129.0909090909091h0.018000000000029104v16.363636363636374h-0.018000000000029104Z\" style=\"fill: #f58518; fill-opacity: 1; stroke: #505050; stroke-width: 0;\"></path><path d=\"M465.62,165.45454545454544h0.21800000000001774v16.363636363636402h-0.21800000000001774Z\" style=\"fill: #4c78a8; fill-opacity: 1; stroke: #505050; stroke-width: 0;\"></path><path d=\"M465.88000000000005,201.8181818181818h0.018000000000029104v16.363636363636346h-0.018000000000029104Z\" style=\"fill: #4c78a8; fill-opacity: 1; stroke: #505050; stroke-width: 0;\"></path><path d=\"M466.38,220.00000000000003h0.018000000000029104v16.36363636363629h-0.018000000000029104Z\" style=\"fill: #4c78a8; fill-opacity: 1; stroke: #505050; stroke-width: 0;\"></path><path d=\"M466.4,220.00000000000003h0.018000000000029104v16.36363636363629h-0.018000000000029104Z\" style=\"fill: #4c78a8; fill-opacity: 1; stroke: #505050; stroke-width: 0;\"></path><path d=\"M475.38,220.00000000000003h0.938000000000045v16.36363636363629h-0.938000000000045Z\" style=\"fill: #f58518; fill-opacity: 1; stroke: #505050; stroke-width: 0;\"></path><path d=\"M476.32000000000005,220.00000000000003h0.2379999999999427v16.36363636363629h-0.2379999999999427Z\" style=\"fill: #4c78a8; fill-opacity: 1; stroke: #505050; stroke-width: 0;\"></path><path d=\"M479.15999999999997,220.00000000000003h0.03800000000006776v16.36363636363629h-0.03800000000006776Z\" style=\"fill: #4c78a8; fill-opacity: 1; stroke: #505050; stroke-width: 0;\"></path><path d=\"M480.3,238.1818181818182h28.49799999999999v16.363636363636346h-28.49799999999999Z\" style=\"fill: #f58518; fill-opacity: 1; stroke: #505050; stroke-width: 0;\"></path><path d=\"M480.3,220.00000000000003h10.617999999999995v16.36363636363629h-10.617999999999995Z\" style=\"fill: #f58518; fill-opacity: 1; stroke: #505050; stroke-width: 0;\"></path><path d=\"M480.3,201.8181818181818h6.218000000000018v16.363636363636346h-6.218000000000018Z\" style=\"fill: #4c78a8; fill-opacity: 1; stroke: #505050; stroke-width: 0;\"></path><path d=\"M480.3,183.63636363636365h6.218000000000018v16.363636363636346h-6.218000000000018Z\" style=\"fill: #4c78a8; fill-opacity: 1; stroke: #505050; stroke-width: 0;\"></path><path d=\"M480.3,165.45454545454544h5.038000000000011v16.363636363636402h-5.038000000000011Z\" style=\"fill: #4c78a8; fill-opacity: 1; stroke: #505050; stroke-width: 0;\"></path><path d=\"M480.3,147.27272727272725h4.958000000000027v16.363636363636374h-4.958000000000027Z\" style=\"fill: #f58518; fill-opacity: 1; stroke: #505050; stroke-width: 0;\"></path><path d=\"M480.3,129.0909090909091h4.538000000000068v16.363636363636374h-4.538000000000068Z\" style=\"fill: #f58518; fill-opacity: 1; stroke: #505050; stroke-width: 0;\"></path><path d=\"M485.26,147.27272727272725h0.07800000000003138v16.363636363636374h-0.07800000000003138Z\" style=\"fill: #4c78a8; fill-opacity: 1; stroke: #505050; stroke-width: 0;\"></path><path d=\"M485.26,129.0909090909091h0.07800000000003138v16.363636363636374h-0.07800000000003138Z\" style=\"fill: #f58518; fill-opacity: 1; stroke: #505050; stroke-width: 0;\"></path><path d=\"M485.34,165.45454545454544h1.1780000000000541v16.363636363636402h-1.1780000000000541Z\" style=\"fill: #f58518; fill-opacity: 1; stroke: #505050; stroke-width: 0;\"></path><path d=\"M486.52,201.8181818181818h3.6580000000000723v16.363636363636346h-3.6580000000000723Z\" style=\"fill: #4c78a8; fill-opacity: 1; stroke: #505050; stroke-width: 0;\"></path><path d=\"M486.52,183.63636363636365h3.6580000000000723v16.363636363636346h-3.6580000000000723Z\" style=\"fill: #4c78a8; fill-opacity: 1; stroke: #505050; stroke-width: 0;\"></path><path d=\"M486.52,165.45454545454544h3.41800000000012v16.363636363636402h-3.41800000000012Z\" style=\"fill: #4c78a8; fill-opacity: 1; stroke: #505050; stroke-width: 0;\"></path><path d=\"M486.52,147.27272727272725h3.41800000000012v16.363636363636374h-3.41800000000012Z\" style=\"fill: #f58518; fill-opacity: 1; stroke: #505050; stroke-width: 0;\"></path><path d=\"M486.52,129.0909090909091h3.298000000000002v16.363636363636374h-3.298000000000002Z\" style=\"fill: #f58518; fill-opacity: 1; stroke: #505050; stroke-width: 0;\"></path><path d=\"M489.94,165.45454545454544h0.19800000000003593v16.363636363636402h-0.19800000000003593Z\" style=\"fill: #4c78a8; fill-opacity: 1; stroke: #505050; stroke-width: 0;\"></path><path d=\"M490.17999999999995,201.8181818181818h0.018000000000029104v16.363636363636346h-0.018000000000029104Z\" style=\"fill: #4c78a8; fill-opacity: 1; stroke: #505050; stroke-width: 0;\"></path><path d=\"M490.2,201.8181818181818h0.07800000000003138v16.363636363636346h-0.07800000000003138Z\" style=\"fill: #4c78a8; fill-opacity: 1; stroke: #505050; stroke-width: 0;\"></path><path d=\"M490.92,220.00000000000003h0.018000000000029104v16.36363636363629h-0.018000000000029104Z\" style=\"fill: #4c78a8; fill-opacity: 1; stroke: #505050; stroke-width: 0;\"></path><path d=\"M490.94,220.00000000000003h0.018000000000029104v16.36363636363629h-0.018000000000029104Z\" style=\"fill: #4c78a8; fill-opacity: 1; stroke: #505050; stroke-width: 0;\"></path><path d=\"M500.14000000000004,220.00000000000003h2.877999999999986v16.36363636363629h-2.877999999999986Z\" style=\"fill: #f58518; fill-opacity: 1; stroke: #505050; stroke-width: 0;\"></path><path d=\"M503.04,220.00000000000003h0.35800000000006094v16.36363636363629h-0.35800000000006094Z\" style=\"fill: #4c78a8; fill-opacity: 1; stroke: #505050; stroke-width: 0;\"></path><path d=\"M507.47999999999996,220.00000000000003h0.018000000000029104v16.36363636363629h-0.018000000000029104Z\" style=\"fill: #4c78a8; fill-opacity: 1; stroke: #505050; stroke-width: 0;\"></path><path d=\"M507.47999999999996,201.8181818181818h0.018000000000029104v16.363636363636346h-0.018000000000029104Z\" style=\"fill: #4c78a8; fill-opacity: 1; stroke: #505050; stroke-width: 0;\"></path><path d=\"M507.5,220.00000000000003h0.07799999999997453v16.36363636363629h-0.07799999999997453Z\" style=\"fill: #4c78a8; fill-opacity: 1; stroke: #505050; stroke-width: 0;\"></path><path d=\"M508.8,238.1818181818182h82.07800000000003v16.363636363636346h-82.07800000000003Z\" style=\"fill: #f58518; fill-opacity: 1; stroke: #505050; stroke-width: 0;\"></path><path d=\"M508.8,220.00000000000003h80.57800000000003v16.36363636363629h-80.57800000000003Z\" style=\"fill: #4c78a8; fill-opacity: 1; stroke: #505050; stroke-width: 0;\"></path><path d=\"M508.8,201.8181818181818h80.13799999999998v16.363636363636346h-80.13799999999998Z\" style=\"fill: #4c78a8; fill-opacity: 1; stroke: #505050; stroke-width: 0;\"></path><path d=\"M508.8,183.63636363636365h79.97800000000001v16.363636363636346h-79.97800000000001Z\" style=\"fill: #4c78a8; fill-opacity: 1; stroke: #505050; stroke-width: 0;\"></path><path d=\"M508.8,165.45454545454544h65.79800000000006v16.363636363636402h-65.79800000000006Z\" style=\"fill: #4c78a8; fill-opacity: 1; stroke: #505050; stroke-width: 0;\"></path><path d=\"M508.8,147.27272727272725h64.77799999999996v16.363636363636374h-64.77799999999996Z\" style=\"fill: #f58518; fill-opacity: 1; stroke: #505050; stroke-width: 0;\"></path><path d=\"M508.8,129.0909090909091h39.738v16.363636363636374h-39.738Z\" style=\"fill: #f58518; fill-opacity: 1; stroke: #505050; stroke-width: 0;\"></path><path d=\"M573.58,147.27272727272725h1.018000000000029v16.363636363636374h-1.018000000000029Z\" style=\"fill: #4c78a8; fill-opacity: 1; stroke: #505050; stroke-width: 0;\"></path><path d=\"M573.58,129.0909090909091h0.9180000000000064v16.363636363636374h-0.9180000000000064Z\" style=\"fill: #f58518; fill-opacity: 1; stroke: #505050; stroke-width: 0;\"></path><path d=\"M574.6,165.45454545454544h13.658000000000015v16.363636363636402h-13.658000000000015Z\" style=\"fill: #f58518; fill-opacity: 1; stroke: #505050; stroke-width: 0;\"></path><path d=\"M588.94,201.8181818181818h0.17799999999999727v16.363636363636346h-0.17799999999999727Z\" style=\"fill: #4c78a8; fill-opacity: 1; stroke: #505050; stroke-width: 0;\"></path><path d=\"M588.94,183.63636363636365h0.17799999999999727v16.363636363636346h-0.17799999999999727Z\" style=\"fill: #4c78a8; fill-opacity: 1; stroke: #505050; stroke-width: 0;\"></path><path d=\"M588.94,165.45454545454544h0.17799999999999727v16.363636363636402h-0.17799999999999727Z\" style=\"fill: #4c78a8; fill-opacity: 1; stroke: #505050; stroke-width: 0;\"></path><path d=\"M588.94,147.27272727272725h0.11799999999993815v16.363636363636374h-0.11799999999993815Z\" style=\"fill: #4c78a8; fill-opacity: 1; stroke: #505050; stroke-width: 0;\"></path><path d=\"M589.0600000000001,147.27272727272725h0.057999999999992724v16.363636363636374h-0.057999999999992724Z\" style=\"fill: #4c78a8; fill-opacity: 1; stroke: #505050; stroke-width: 0;\"></path><path d=\"M589.0600000000001,129.0909090909091h0.057999999999992724v16.363636363636374h-0.057999999999992724Z\" style=\"fill: #4c78a8; fill-opacity: 1; stroke: #505050; stroke-width: 0;\"></path><path d=\"M589.0600000000001,110.90909090909089h0.057999999999992724v16.363636363636402h-0.057999999999992724Z\" style=\"fill: #4c78a8; fill-opacity: 1; stroke: #505050; stroke-width: 0;\"></path><path d=\"M589.12,201.8181818181818h0.05800000000010641v16.363636363636346h-0.05800000000010641Z\" style=\"fill: #4c78a8; fill-opacity: 1; stroke: #505050; stroke-width: 0;\"></path><path d=\"M589.38,220.00000000000003h0.07800000000008822v16.36363636363629h-0.07800000000008822Z\" style=\"fill: #4c78a8; fill-opacity: 1; stroke: #505050; stroke-width: 0;\"></path><path d=\"M589.76,220.00000000000003h0.7980000000000018v16.36363636363629h-0.7980000000000018Z\" style=\"fill: #4c78a8; fill-opacity: 1; stroke: #505050; stroke-width: 0;\"></path><path d=\"M589.76,201.8181818181818h0.5180000000000291v16.363636363636346h-0.5180000000000291Z\" style=\"fill: #4c78a8; fill-opacity: 1; stroke: #505050; stroke-width: 0;\"></path><path d=\"M590.88,238.1818181818182h0.018000000000029104v16.363636363636346h-0.018000000000029104Z\" style=\"fill: #4c78a8; fill-opacity: 1; stroke: #505050; stroke-width: 0;\"></path><path d=\"M590.9,238.1818181818182h0.2380000000000564v16.363636363636346h-0.2380000000000564Z\" style=\"fill: #4c78a8; fill-opacity: 1; stroke: #505050; stroke-width: 0;\"></path><path d=\"M590.9,220.00000000000003h0.11800000000005184v16.36363636363629h-0.11800000000005184Z\" style=\"fill: #4c78a8; fill-opacity: 1; stroke: #505050; stroke-width: 0;\"></path><path d=\"M591.1400000000001,238.1818181818182h0.018000000000029104v16.363636363636346h-0.018000000000029104Z\" style=\"fill: #4c78a8; fill-opacity: 1; stroke: #505050; stroke-width: 0;\"></path><path d=\"M591.1400000000001,220.00000000000003h0.018000000000029104v16.36363636363629h-0.018000000000029104Z\" style=\"fill: #4c78a8; fill-opacity: 1; stroke: #505050; stroke-width: 0;\"></path><path d=\"M591.16,238.1818181818182h57.4380000000001v16.363636363636346h-57.4380000000001Z\" style=\"fill: #f58518; fill-opacity: 1; stroke: #505050; stroke-width: 0;\"></path><path d=\"M591.16,220.00000000000003h49.738000000000056v16.36363636363629h-49.738000000000056Z\" style=\"fill: #4c78a8; fill-opacity: 1; stroke: #505050; stroke-width: 0;\"></path><path d=\"M591.16,201.8181818181818h48.478000000000065v16.363636363636346h-48.478000000000065Z\" style=\"fill: #4c78a8; fill-opacity: 1; stroke: #505050; stroke-width: 0;\"></path><path d=\"M591.16,183.63636363636365h48.4380000000001v16.363636363636346h-48.4380000000001Z\" style=\"fill: #4c78a8; fill-opacity: 1; stroke: #505050; stroke-width: 0;\"></path><path d=\"M591.16,165.45454545454544h37.958000000000084v16.363636363636402h-37.958000000000084Z\" style=\"fill: #4c78a8; fill-opacity: 1; stroke: #505050; stroke-width: 0;\"></path><path d=\"M591.16,147.27272727272725h37.278000000000134v16.363636363636374h-37.278000000000134Z\" style=\"fill: #f58518; fill-opacity: 1; stroke: #505050; stroke-width: 0;\"></path><path d=\"M591.16,129.0909090909091h31.09800000000007v16.363636363636374h-31.09800000000007Z\" style=\"fill: #f58518; fill-opacity: 1; stroke: #505050; stroke-width: 0;\"></path><path d=\"M628.4399999999999,147.27272727272725h0.678000000000111v16.363636363636374h-0.678000000000111Z\" style=\"fill: #4c78a8; fill-opacity: 1; stroke: #505050; stroke-width: 0;\"></path><path d=\"M628.4399999999999,129.0909090909091h0.6580000000001291v16.363636363636374h-0.6580000000001291Z\" style=\"fill: #f58518; fill-opacity: 1; stroke: #505050; stroke-width: 0;\"></path><path d=\"M629.12,165.45454545454544h10.138000000000034v16.363636363636402h-10.138000000000034Z\" style=\"fill: #f58518; fill-opacity: 1; stroke: #505050; stroke-width: 0;\"></path><path d=\"M639.64,201.8181818181818h1.0579999999999927v16.363636363636346h-1.0579999999999927Z\" style=\"fill: #4c78a8; fill-opacity: 1; stroke: #505050; stroke-width: 0;\"></path><path d=\"M639.64,183.63636363636365h1.0579999999999927v16.363636363636346h-1.0579999999999927Z\" style=\"fill: #4c78a8; fill-opacity: 1; stroke: #505050; stroke-width: 0;\"></path><path d=\"M639.64,165.45454545454544h1.0579999999999927v16.363636363636402h-1.0579999999999927Z\" style=\"fill: #4c78a8; fill-opacity: 1; stroke: #505050; stroke-width: 0;\"></path><path d=\"M639.64,147.27272727272725h0.9780000000000655v16.363636363636374h-0.9780000000000655Z\" style=\"fill: #4c78a8; fill-opacity: 1; stroke: #505050; stroke-width: 0;\"></path><path d=\"M640.62,147.27272727272725h0.07799999999997453v16.363636363636374h-0.07799999999997453Z\" style=\"fill: #4c78a8; fill-opacity: 1; stroke: #505050; stroke-width: 0;\"></path><path d=\"M640.62,129.0909090909091h0.07799999999997453v16.363636363636374h-0.07799999999997453Z\" style=\"fill: #4c78a8; fill-opacity: 1; stroke: #505050; stroke-width: 0;\"></path><path d=\"M640.62,110.90909090909089h0.07799999999997453v16.363636363636402h-0.07799999999997453Z\" style=\"fill: #4c78a8; fill-opacity: 1; stroke: #505050; stroke-width: 0;\"></path><path d=\"M640.7,201.8181818181818h0.03799999999989723v16.363636363636346h-0.03799999999989723Z\" style=\"fill: #4c78a8; fill-opacity: 1; stroke: #505050; stroke-width: 0;\"></path><path d=\"M640.9,220.00000000000003h0.057999999999992724v16.36363636363629h-0.057999999999992724Z\" style=\"fill: #4c78a8; fill-opacity: 1; stroke: #505050; stroke-width: 0;\"></path><path d=\"M640.96,220.00000000000003h0.018000000000029104v16.36363636363629h-0.018000000000029104Z\" style=\"fill: #4c78a8; fill-opacity: 1; stroke: #505050; stroke-width: 0;\"></path><path d=\"M646.1999999999999,220.00000000000003h0.15800000000012915v16.36363636363629h-0.15800000000012915Z\" style=\"fill: #4c78a8; fill-opacity: 1; stroke: #505050; stroke-width: 0;\"></path><path d=\"M646.3599999999999,220.00000000000003h0.2580000000001519v16.36363636363629h-0.2580000000001519Z\" style=\"fill: #4c78a8; fill-opacity: 1; stroke: #505050; stroke-width: 0;\"></path><path d=\"M647.16,220.00000000000003h0.6380000000000337v16.36363636363629h-0.6380000000000337Z\" style=\"fill: #4c78a8; fill-opacity: 1; stroke: #505050; stroke-width: 0;\"></path><path d=\"M647.16,201.8181818181818h0.4980000000000473v16.363636363636346h-0.4980000000000473Z\" style=\"fill: #4c78a8; fill-opacity: 1; stroke: #505050; stroke-width: 0;\"></path><path d=\"M648.6,238.1818181818182h78.59799999999996v16.363636363636346h-78.59799999999996Z\" style=\"fill: #f58518; fill-opacity: 1; stroke: #505050; stroke-width: 0;\"></path><path d=\"M648.6,220.00000000000003h59.09800000000007v16.36363636363629h-59.09800000000007Z\" style=\"fill: #4c78a8; fill-opacity: 1; stroke: #505050; stroke-width: 0;\"></path><path d=\"M648.6,201.8181818181818h58.238000000000056v16.363636363636346h-58.238000000000056Z\" style=\"fill: #4c78a8; fill-opacity: 1; stroke: #505050; stroke-width: 0;\"></path><path d=\"M648.6,183.63636363636365h57.99800000000005v16.363636363636346h-57.99800000000005Z\" style=\"fill: #4c78a8; fill-opacity: 1; stroke: #505050; stroke-width: 0;\"></path><path d=\"M648.6,165.45454545454544h42.49800000000005v16.363636363636402h-42.49800000000005Z\" style=\"fill: #4c78a8; fill-opacity: 1; stroke: #505050; stroke-width: 0;\"></path><path d=\"M648.6,147.27272727272725h41.678v16.363636363636374h-41.678Z\" style=\"fill: #f58518; fill-opacity: 1; stroke: #505050; stroke-width: 0;\"></path><path d=\"M648.6,129.0909090909091h37.49800000000005v16.363636363636374h-37.49800000000005Z\" style=\"fill: #f58518; fill-opacity: 1; stroke: #505050; stroke-width: 0;\"></path><path d=\"M690.28,147.27272727272725h0.8180000000000973v16.363636363636374h-0.8180000000000973Z\" style=\"fill: #4c78a8; fill-opacity: 1; stroke: #505050; stroke-width: 0;\"></path><path d=\"M690.28,129.0909090909091h0.77800000000002v16.363636363636374h-0.77800000000002Z\" style=\"fill: #f58518; fill-opacity: 1; stroke: #505050; stroke-width: 0;\"></path><path d=\"M691.0999999999999,165.45454545454544h15.23800000000017v16.363636363636402h-15.23800000000017Z\" style=\"fill: #f58518; fill-opacity: 1; stroke: #505050; stroke-width: 0;\"></path><path d=\"M706.8399999999999,201.8181818181818h0.47800000000017917v16.363636363636346h-0.47800000000017917Z\" style=\"fill: #4c78a8; fill-opacity: 1; stroke: #505050; stroke-width: 0;\"></path><path d=\"M706.8399999999999,183.63636363636365h0.47800000000017917v16.363636363636346h-0.47800000000017917Z\" style=\"fill: #4c78a8; fill-opacity: 1; stroke: #505050; stroke-width: 0;\"></path><path d=\"M706.8399999999999,165.45454545454544h0.41800000000012005v16.363636363636402h-0.41800000000012005Z\" style=\"fill: #4c78a8; fill-opacity: 1; stroke: #505050; stroke-width: 0;\"></path><path d=\"M707.26,165.45454545454544h0.05800000000010641v16.363636363636402h-0.05800000000010641Z\" style=\"fill: #4c78a8; fill-opacity: 1; stroke: #505050; stroke-width: 0;\"></path><path d=\"M707.26,147.27272727272725h0.05800000000010641v16.363636363636374h-0.05800000000010641Z\" style=\"fill: #4c78a8; fill-opacity: 1; stroke: #505050; stroke-width: 0;\"></path><path d=\"M707.26,129.0909090909091h0.05800000000010641v16.363636363636374h-0.05800000000010641Z\" style=\"fill: #4c78a8; fill-opacity: 1; stroke: #505050; stroke-width: 0;\"></path><path d=\"M707.3199999999999,201.8181818181818h0.11800000000016553v16.363636363636346h-0.11800000000016553Z\" style=\"fill: #4c78a8; fill-opacity: 1; stroke: #505050; stroke-width: 0;\"></path><path d=\"M707.7,220.00000000000003h0.018000000000029104v16.36363636363629h-0.018000000000029104Z\" style=\"fill: #4c78a8; fill-opacity: 1; stroke: #505050; stroke-width: 0;\"></path><path d=\"M707.72,220.00000000000003h0.038000000000010914v16.36363636363629h-0.038000000000010914Z\" style=\"fill: #4c78a8; fill-opacity: 1; stroke: #505050; stroke-width: 0;\"></path><path d=\"M714.36,220.00000000000003h0.018000000000029104v16.36363636363629h-0.018000000000029104Z\" style=\"fill: #4c78a8; fill-opacity: 1; stroke: #505050; stroke-width: 0;\"></path><path d=\"M714.36,201.8181818181818h0.018000000000029104v16.363636363636346h-0.018000000000029104Z\" style=\"fill: #4c78a8; fill-opacity: 1; stroke: #505050; stroke-width: 0;\"></path><path d=\"M714.4599999999999,220.00000000000003h0.05800000000010641v16.36363636363629h-0.05800000000010641Z\" style=\"fill: #4c78a8; fill-opacity: 1; stroke: #505050; stroke-width: 0;\"></path><path d=\"M714.52,220.00000000000003h0.11800000000005184v16.36363636363629h-0.11800000000005184Z\" style=\"fill: #4c78a8; fill-opacity: 1; stroke: #505050; stroke-width: 0;\"></path><path d=\"M714.52,201.8181818181818h0.11800000000005184v16.363636363636346h-0.11800000000005184Z\" style=\"fill: #4c78a8; fill-opacity: 1; stroke: #505050; stroke-width: 0;\"></path><path d=\"M714.64,220.00000000000003h0.0380000000001246v16.36363636363629h-0.0380000000001246Z\" style=\"fill: #4c78a8; fill-opacity: 1; stroke: #505050; stroke-width: 0;\"></path><path d=\"M724.06,220.00000000000003h0.2380000000000564v16.36363636363629h-0.2380000000000564Z\" style=\"fill: #4c78a8; fill-opacity: 1; stroke: #505050; stroke-width: 0;\"></path><path d=\"M724.3000000000001,220.00000000000003h0.11799999999993815v16.36363636363629h-0.11799999999993815Z\" style=\"fill: #4c78a8; fill-opacity: 1; stroke: #505050; stroke-width: 0;\"></path><path d=\"M725.38,220.00000000000003h0.018000000000029104v16.36363636363629h-0.018000000000029104Z\" style=\"fill: #4c78a8; fill-opacity: 1; stroke: #505050; stroke-width: 0;\"></path><path d=\"M725.4,220.00000000000003h0.8179999999999836v16.36363636363629h-0.8179999999999836Z\" style=\"fill: #4c78a8; fill-opacity: 1; stroke: #505050; stroke-width: 0;\"></path><path d=\"M725.4,201.8181818181818h0.4980000000000473v16.363636363636346h-0.4980000000000473Z\" style=\"fill: #4c78a8; fill-opacity: 1; stroke: #505050; stroke-width: 0;\"></path><path d=\"M727.2,238.1818181818182h0.07799999999997453v16.363636363636346h-0.07799999999997453Z\" style=\"fill: #4c78a8; fill-opacity: 1; stroke: #505050; stroke-width: 0;\"></path><path d=\"M727.2,220.00000000000003h0.018000000000029104v16.36363636363629h-0.018000000000029104Z\" style=\"fill: #e45756; fill-opacity: 1; stroke: #505050; stroke-width: 0;\"></path><path d=\"M727.2,201.8181818181818h0.018000000000029104v16.363636363636346h-0.018000000000029104Z\" style=\"fill: #4c78a8; fill-opacity: 1; stroke: #505050; stroke-width: 0;\"></path><path d=\"M727.2,183.63636363636365h0.018000000000029104v16.363636363636346h-0.018000000000029104Z\" style=\"fill: #4c78a8; fill-opacity: 1; stroke: #505050; stroke-width: 0;\"></path><path d=\"M727.2,165.45454545454544h0.018000000000029104v16.363636363636402h-0.018000000000029104Z\" style=\"fill: #4c78a8; fill-opacity: 1; stroke: #505050; stroke-width: 0;\"></path><path d=\"M727.2,147.27272727272725h0.018000000000029104v16.363636363636374h-0.018000000000029104Z\" style=\"fill: #4c78a8; fill-opacity: 1; stroke: #505050; stroke-width: 0;\"></path><path d=\"M727.2,129.0909090909091h0.018000000000029104v16.363636363636374h-0.018000000000029104Z\" style=\"fill: #4c78a8; fill-opacity: 1; stroke: #505050; stroke-width: 0;\"></path><path d=\"M727.2,110.90909090909089h0.018000000000029104v16.363636363636402h-0.018000000000029104Z\" style=\"fill: #4c78a8; fill-opacity: 1; stroke: #505050; stroke-width: 0;\"></path><path d=\"M727.22,220.00000000000003h0.057999999999992724v16.36363636363629h-0.057999999999992724Z\" style=\"fill: #4c78a8; fill-opacity: 1; stroke: #505050; stroke-width: 0;\"></path><path d=\"M727.28,238.1818181818182h0.038000000000010914v16.363636363636346h-0.038000000000010914Z\" style=\"fill: #4c78a8; fill-opacity: 1; stroke: #505050; stroke-width: 0;\"></path><path d=\"M727.32,238.1818181818182h0.07799999999997453v16.363636363636346h-0.07799999999997453Z\" style=\"fill: #4c78a8; fill-opacity: 1; stroke: #505050; stroke-width: 0;\"></path><path d=\"M727.4,238.1818181818182h0.018000000000029104v16.363636363636346h-0.018000000000029104Z\" style=\"fill: #4c78a8; fill-opacity: 1; stroke: #505050; stroke-width: 0;\"></path><path d=\"M727.4200000000001,238.1818181818182h0.018000000000029104v16.363636363636346h-0.018000000000029104Z\" style=\"fill: #4c78a8; fill-opacity: 1; stroke: #505050; stroke-width: 0;\"></path><path d=\"M727.44,238.1818181818182h0.17799999999999727v16.363636363636346h-0.17799999999999727Z\" style=\"fill: #4c78a8; fill-opacity: 1; stroke: #505050; stroke-width: 0;\"></path><path d=\"M727.62,238.1818181818182h0.057999999999992724v16.363636363636346h-0.057999999999992724Z\" style=\"fill: #4c78a8; fill-opacity: 1; stroke: #505050; stroke-width: 0;\"></path><path d=\"M729.6999999999999,238.1818181818182h0.21800000000018827v16.363636363636346h-0.21800000000018827Z\" style=\"fill: #4c78a8; fill-opacity: 1; stroke: #505050; stroke-width: 0;\"></path><path d=\"M730.5,238.1818181818182h0.018000000000029104v16.363636363636346h-0.018000000000029104Z\" style=\"fill: #4c78a8; fill-opacity: 1; stroke: #505050; stroke-width: 0;\"></path><path d=\"M730.52,238.1818181818182h0.07799999999997453v16.363636363636346h-0.07799999999997453Z\" style=\"fill: #4c78a8; fill-opacity: 1; stroke: #505050; stroke-width: 0;\"></path><path d=\"M730.6,238.1818181818182h0.11800000000005184v16.363636363636346h-0.11800000000005184Z\" style=\"fill: #4c78a8; fill-opacity: 1; stroke: #505050; stroke-width: 0;\"></path><path d=\"M730.72,238.1818181818182h0.018000000000029104v16.363636363636346h-0.018000000000029104Z\" style=\"fill: #4c78a8; fill-opacity: 1; stroke: #505050; stroke-width: 0;\"></path><path d=\"M730.74,238.1818181818182h0.6380000000000337v16.363636363636346h-0.6380000000000337Z\" style=\"fill: #4c78a8; fill-opacity: 1; stroke: #505050; stroke-width: 0;\"></path><path d=\"M731.38,238.1818181818182h0.057999999999992724v16.363636363636346h-0.057999999999992724Z\" style=\"fill: #4c78a8; fill-opacity: 1; stroke: #505050; stroke-width: 0;\"></path><path d=\"M732.5,365.45454545454544h0.018000000000029104v16.363636363636374h-0.018000000000029104Z\" style=\"fill: #4c78a8; fill-opacity: 1; stroke: #505050; stroke-width: 0;\"></path><path d=\"M732.5,347.27272727272725h0.018000000000029104v16.363636363636374h-0.018000000000029104Z\" style=\"fill: #4c78a8; fill-opacity: 1; stroke: #505050; stroke-width: 0;\"></path><path d=\"M732.5,329.0909090909091h0.018000000000029104v16.363636363636317h-0.018000000000029104Z\" style=\"fill: #e45756; fill-opacity: 1; stroke: #505050; stroke-width: 0;\"></path><path d=\"M732.5,310.9090909090909h0.018000000000029104v16.363636363636374h-0.018000000000029104Z\" style=\"fill: #e45756; fill-opacity: 1; stroke: #505050; stroke-width: 0;\"></path><path d=\"M732.5,292.72727272727275h0.018000000000029104v16.363636363636317h-0.018000000000029104Z\" style=\"fill: #4c78a8; fill-opacity: 1; stroke: #505050; stroke-width: 0;\"></path><path d=\"M732.5,274.5454545454545h0.018000000000029104v16.36363636363643h-0.018000000000029104Z\" style=\"fill: #e45756; fill-opacity: 1; stroke: #505050; stroke-width: 0;\"></path><path d=\"M732.5,256.3636363636364h0.018000000000029104v16.363636363636374h-0.018000000000029104Z\" style=\"fill: #4c78a8; fill-opacity: 1; stroke: #505050; stroke-width: 0;\"></path><path d=\"M732.5,238.1818181818182h0.018000000000029104v16.363636363636346h-0.018000000000029104Z\" style=\"fill: #4c78a8; fill-opacity: 1; stroke: #505050; stroke-width: 0;\"></path><path d=\"M732.5,220.00000000000003h0.018000000000029104v16.36363636363629h-0.018000000000029104Z\" style=\"fill: #4c78a8; fill-opacity: 1; stroke: #505050; stroke-width: 0;\"></path><path d=\"M732.5,201.8181818181818h0.018000000000029104v16.363636363636346h-0.018000000000029104Z\" style=\"fill: #4c78a8; fill-opacity: 1; stroke: #505050; stroke-width: 0;\"></path><path d=\"M732.5,183.63636363636365h0.018000000000029104v16.363636363636346h-0.018000000000029104Z\" style=\"fill: #4c78a8; fill-opacity: 1; stroke: #505050; stroke-width: 0;\"></path><path d=\"M732.5,165.45454545454544h0.018000000000029104v16.363636363636402h-0.018000000000029104Z\" style=\"fill: #4c78a8; fill-opacity: 1; stroke: #505050; stroke-width: 0;\"></path><path d=\"M732.5,147.27272727272725h0.018000000000029104v16.363636363636374h-0.018000000000029104Z\" style=\"fill: #f58518; fill-opacity: 1; stroke: #505050; stroke-width: 0;\"></path><path d=\"M737.16,365.45454545454544h0.018000000000029104v16.363636363636374h-0.018000000000029104Z\" style=\"fill: #4c78a8; fill-opacity: 1; stroke: #505050; stroke-width: 0;\"></path><path d=\"M740.8000000000001,365.45454545454544h0.03799999999989723v16.363636363636374h-0.03799999999989723Z\" style=\"fill: #4c78a8; fill-opacity: 1; stroke: #505050; stroke-width: 0;\"></path></g><g class=\"mark-group role-legend\"><g transform=\"translate(0,418)\"><path class=\"background\" d=\"M0,0h288v13h-288Z\" style=\"pointer-events: none; fill: none;\"></path><g><g class=\"mark-group role-legend-entry\"><g transform=\"translate(0,0)\"><path class=\"background\" d=\"M0,0h0v0h0Z\" style=\"pointer-events: none; fill: none;\"></path><g><g class=\"mark-group role-scope\"><g transform=\"translate(0,0.25)\"><path class=\"background\" d=\"M0,0h53v12.5h-53Z\" style=\"pointer-events: none; fill: none; opacity: 1;\"></path><g><g class=\"mark-symbol role-legend-symbol\" style=\"pointer-events: none;\"><path transform=\"translate(6,6)\" d=\"M-5,-5h10v10h-10Z\" style=\"fill: #4c78a8; stroke: #505050; stroke-width: 1.5; opacity: 1;\"></path></g><g class=\"mark-text role-legend-label\" style=\"pointer-events: none;\"><text text-anchor=\"start\" transform=\"translate(16,9)\" style=\"font-family: sans-serif; font-size: 10px; fill: #000; opacity: 1;\">Default</text></g></g><path class=\"foreground\" d=\"\" style=\"pointer-events: none; display: none; fill: none;\"></path></g><g transform=\"translate(64,0.25)\"><path class=\"background\" d=\"M0,0h110v12.5h-110Z\" style=\"pointer-events: none; fill: none; opacity: 1;\"></path><g><g class=\"mark-symbol role-legend-symbol\" style=\"pointer-events: none;\"><path transform=\"translate(6,6)\" d=\"M-5,-5h10v10h-10Z\" style=\"fill: #f58518; stroke: #505050; stroke-width: 1.5; opacity: 1;\"></path></g><g class=\"mark-text role-legend-label\" style=\"pointer-events: none;\"><text text-anchor=\"start\" transform=\"translate(16,9)\" style=\"font-family: sans-serif; font-size: 10px; fill: #000; opacity: 1;\">Garbage collection</text></g></g><path class=\"foreground\" d=\"\" style=\"pointer-events: none; display: none; fill: none;\"></path></g><g transform=\"translate(185,0.25)\"><path class=\"background\" d=\"M0,0h103v12.5h-103Z\" style=\"pointer-events: none; fill: none; opacity: 1;\"></path><g><g class=\"mark-symbol role-legend-symbol\" style=\"pointer-events: none;\"><path transform=\"translate(6,6)\" d=\"M-5,-5h10v10h-10Z\" style=\"fill: #e45756; stroke: #505050; stroke-width: 1.5; opacity: 1;\"></path></g><g class=\"mark-text role-legend-label\" style=\"pointer-events: none;\"><text text-anchor=\"start\" transform=\"translate(16,9)\" style=\"font-family: sans-serif; font-size: 10px; fill: #000; opacity: 1;\">Runtime dispatch</text></g></g><path class=\"foreground\" d=\"\" style=\"pointer-events: none; display: none; fill: none;\"></path></g></g></g><path class=\"foreground\" d=\"\" style=\"pointer-events: none; display: none; fill: none;\"></path></g></g></g><path class=\"foreground\" d=\"\" style=\"pointer-events: none; display: none; fill: none;\"></path></g></g><g class=\"mark-group role-title\"><g transform=\"translate(400,-17)\"><path class=\"background\" d=\"M0,0h0v0h0Z\" style=\"pointer-events: none; fill: none;\"></path><g><g class=\"mark-text role-title-text\" style=\"pointer-events: none;\"><text text-anchor=\"middle\" transform=\"translate(0,10)\" style=\"font-family: sans-serif; font-size: 13px; font-weight: bold; fill: #000; opacity: 1;\">Profile Results</text></g></g><path class=\"foreground\" d=\"\" style=\"pointer-events: none; display: none; fill: none;\"></path></g></g></g><path class=\"foreground\" d=\"\" style=\"display: none; fill: none;\"></path></g></g></g></svg>\n"
      ],
      "text/plain": [
       "@vlplot(\n",
       "    mark={\n",
       "        type=\"rect\",\n",
       "        stroke=\"#505050\"\n",
       "    },\n",
       "    transform=[\n",
       "        {\n",
       "            calculate=\"datum.level+0.9\",\n",
       "            as=\"level2\"\n",
       "        }\n",
       "    ],\n",
       "    selection={\n",
       "        grid={\n",
       "            type=\"interval\",\n",
       "            bind=\"scales\"\n",
       "        },\n",
       "        highlight={\n",
       "            type=\"single\",\n",
       "            on=\"mouseover\",\n",
       "            empty=\"none\"\n",
       "        },\n",
       "        select={\n",
       "            type=\"multi\",\n",
       "            empty=\"none\"\n",
       "        }\n",
       "    },\n",
       "    width=800,\n",
       "    height=400,\n",
       "    title=\"Profile Results\",\n",
       "    encoding={\n",
       "        x={\n",
       "            axis=nothing,\n",
       "            field=\"x1\"\n",
       "        },\n",
       "        x2={\n",
       "            field=\"x2\"\n",
       "        },\n",
       "        y={\n",
       "            axis=nothing,\n",
       "            field=\"level\",\n",
       "            type=\"quantitative\"\n",
       "        },\n",
       "        y2={\n",
       "            field=\"level2\",\n",
       "            type=\"quantitative\"\n",
       "        },\n",
       "        fillOpacity={\n",
       "            condition=[\n",
       "                {\n",
       "                    selection=\"highlight\",\n",
       "                    value=0.6\n",
       "                },\n",
       "                {\n",
       "                    selection=\"select\",\n",
       "                    value=0.5\n",
       "                }\n",
       "            ],\n",
       "            value=1\n",
       "        },\n",
       "        strokeWidth={\n",
       "            condition=[\n",
       "                {\n",
       "                    selection=\"highlight\",\n",
       "                    value=0.5\n",
       "                },\n",
       "                {\n",
       "                    selection=\"select\",\n",
       "                    value=0.5\n",
       "                }\n",
       "            ],\n",
       "            value=0\n",
       "        },\n",
       "        color={\n",
       "            legend={\n",
       "                title=nothing,\n",
       "                orient=\"bottom\"\n",
       "            },\n",
       "            field=\"status\",\n",
       "            type=\"nominal\"\n",
       "        },\n",
       "        tooltip={\n",
       "            field=\"sf\"\n",
       "        }\n",
       "    },\n",
       "    data={\n",
       "        values=...\n",
       "    }\n",
       ")"
      ]
     },
     "execution_count": 4,
     "metadata": {},
     "output_type": "execute_result"
    }
   ],
   "source": [
    "@profile main(\"/home/debr/codejams/julia/work/2017/WF/B.in\")\n",
    "Profile.clear()\n",
    "@profile main(\"/home/debr/codejams/julia/work/2017/WF/B.in2\")\n",
    "ProfileVega.view()"
   ]
  },
  {
   "cell_type": "code",
   "execution_count": null,
   "metadata": {},
   "outputs": [],
   "source": []
  }
 ],
 "metadata": {
  "kernelspec": {
   "display_name": "Julia 1.4.2",
   "language": "julia",
   "name": "julia-1.4"
  },
  "language_info": {
   "file_extension": ".jl",
   "mimetype": "application/julia",
   "name": "julia",
   "version": "1.4.2"
  }
 },
 "nbformat": 4,
 "nbformat_minor": 4
}
